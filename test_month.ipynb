{
 "cells": [
  {
   "cell_type": "code",
   "execution_count": 1,
   "metadata": {},
   "outputs": [],
   "source": [
    "import pandas as pd\n",
    "import matplotlib.pyplot as plt\n",
    "import numpy as np\n",
    "from datetime import datetime\n",
    "from prophet import Prophet"
   ]
  },
  {
   "cell_type": "code",
   "execution_count": 2,
   "metadata": {},
   "outputs": [
    {
     "data": {
      "text/html": [
       "<div>\n",
       "<style scoped>\n",
       "    .dataframe tbody tr th:only-of-type {\n",
       "        vertical-align: middle;\n",
       "    }\n",
       "\n",
       "    .dataframe tbody tr th {\n",
       "        vertical-align: top;\n",
       "    }\n",
       "\n",
       "    .dataframe thead th {\n",
       "        text-align: right;\n",
       "    }\n",
       "</style>\n",
       "<table border=\"1\" class=\"dataframe\">\n",
       "  <thead>\n",
       "    <tr style=\"text-align: right;\">\n",
       "      <th></th>\n",
       "      <th>Date</th>\n",
       "      <th>Open</th>\n",
       "      <th>High</th>\n",
       "      <th>Low</th>\n",
       "      <th>Close</th>\n",
       "      <th>Adj Close</th>\n",
       "      <th>Volume</th>\n",
       "    </tr>\n",
       "  </thead>\n",
       "  <tbody>\n",
       "    <tr>\n",
       "      <th>0</th>\n",
       "      <td>2022-01-03</td>\n",
       "      <td>177.830002</td>\n",
       "      <td>182.880005</td>\n",
       "      <td>177.710007</td>\n",
       "      <td>182.009995</td>\n",
       "      <td>180.959732</td>\n",
       "      <td>104487900</td>\n",
       "    </tr>\n",
       "    <tr>\n",
       "      <th>1</th>\n",
       "      <td>2022-01-04</td>\n",
       "      <td>182.630005</td>\n",
       "      <td>182.940002</td>\n",
       "      <td>179.119995</td>\n",
       "      <td>179.699997</td>\n",
       "      <td>178.663071</td>\n",
       "      <td>99310400</td>\n",
       "    </tr>\n",
       "    <tr>\n",
       "      <th>2</th>\n",
       "      <td>2022-01-05</td>\n",
       "      <td>179.610001</td>\n",
       "      <td>180.169998</td>\n",
       "      <td>174.639999</td>\n",
       "      <td>174.919998</td>\n",
       "      <td>173.910660</td>\n",
       "      <td>94537600</td>\n",
       "    </tr>\n",
       "    <tr>\n",
       "      <th>3</th>\n",
       "      <td>2022-01-06</td>\n",
       "      <td>172.699997</td>\n",
       "      <td>175.300003</td>\n",
       "      <td>171.639999</td>\n",
       "      <td>172.000000</td>\n",
       "      <td>171.007492</td>\n",
       "      <td>96904000</td>\n",
       "    </tr>\n",
       "    <tr>\n",
       "      <th>4</th>\n",
       "      <td>2022-01-07</td>\n",
       "      <td>172.889999</td>\n",
       "      <td>174.139999</td>\n",
       "      <td>171.029999</td>\n",
       "      <td>172.169998</td>\n",
       "      <td>171.176529</td>\n",
       "      <td>86709100</td>\n",
       "    </tr>\n",
       "    <tr>\n",
       "      <th>...</th>\n",
       "      <td>...</td>\n",
       "      <td>...</td>\n",
       "      <td>...</td>\n",
       "      <td>...</td>\n",
       "      <td>...</td>\n",
       "      <td>...</td>\n",
       "      <td>...</td>\n",
       "    </tr>\n",
       "    <tr>\n",
       "      <th>246</th>\n",
       "      <td>2022-12-23</td>\n",
       "      <td>130.919998</td>\n",
       "      <td>132.419998</td>\n",
       "      <td>129.639999</td>\n",
       "      <td>131.860001</td>\n",
       "      <td>131.860001</td>\n",
       "      <td>63814900</td>\n",
       "    </tr>\n",
       "    <tr>\n",
       "      <th>247</th>\n",
       "      <td>2022-12-27</td>\n",
       "      <td>131.380005</td>\n",
       "      <td>131.410004</td>\n",
       "      <td>128.720001</td>\n",
       "      <td>130.029999</td>\n",
       "      <td>130.029999</td>\n",
       "      <td>69007800</td>\n",
       "    </tr>\n",
       "    <tr>\n",
       "      <th>248</th>\n",
       "      <td>2022-12-28</td>\n",
       "      <td>129.669998</td>\n",
       "      <td>131.029999</td>\n",
       "      <td>125.870003</td>\n",
       "      <td>126.040001</td>\n",
       "      <td>126.040001</td>\n",
       "      <td>85438400</td>\n",
       "    </tr>\n",
       "    <tr>\n",
       "      <th>249</th>\n",
       "      <td>2022-12-29</td>\n",
       "      <td>127.989998</td>\n",
       "      <td>130.479996</td>\n",
       "      <td>127.730003</td>\n",
       "      <td>129.610001</td>\n",
       "      <td>129.610001</td>\n",
       "      <td>75703700</td>\n",
       "    </tr>\n",
       "    <tr>\n",
       "      <th>250</th>\n",
       "      <td>2022-12-30</td>\n",
       "      <td>128.410004</td>\n",
       "      <td>129.949997</td>\n",
       "      <td>127.430000</td>\n",
       "      <td>129.929993</td>\n",
       "      <td>129.929993</td>\n",
       "      <td>76960600</td>\n",
       "    </tr>\n",
       "  </tbody>\n",
       "</table>\n",
       "<p>251 rows × 7 columns</p>\n",
       "</div>"
      ],
      "text/plain": [
       "           Date        Open        High         Low       Close   Adj Close  \\\n",
       "0    2022-01-03  177.830002  182.880005  177.710007  182.009995  180.959732   \n",
       "1    2022-01-04  182.630005  182.940002  179.119995  179.699997  178.663071   \n",
       "2    2022-01-05  179.610001  180.169998  174.639999  174.919998  173.910660   \n",
       "3    2022-01-06  172.699997  175.300003  171.639999  172.000000  171.007492   \n",
       "4    2022-01-07  172.889999  174.139999  171.029999  172.169998  171.176529   \n",
       "..          ...         ...         ...         ...         ...         ...   \n",
       "246  2022-12-23  130.919998  132.419998  129.639999  131.860001  131.860001   \n",
       "247  2022-12-27  131.380005  131.410004  128.720001  130.029999  130.029999   \n",
       "248  2022-12-28  129.669998  131.029999  125.870003  126.040001  126.040001   \n",
       "249  2022-12-29  127.989998  130.479996  127.730003  129.610001  129.610001   \n",
       "250  2022-12-30  128.410004  129.949997  127.430000  129.929993  129.929993   \n",
       "\n",
       "        Volume  \n",
       "0    104487900  \n",
       "1     99310400  \n",
       "2     94537600  \n",
       "3     96904000  \n",
       "4     86709100  \n",
       "..         ...  \n",
       "246   63814900  \n",
       "247   69007800  \n",
       "248   85438400  \n",
       "249   75703700  \n",
       "250   76960600  \n",
       "\n",
       "[251 rows x 7 columns]"
      ]
     },
     "execution_count": 2,
     "metadata": {},
     "output_type": "execute_result"
    }
   ],
   "source": [
    "df = pd.read_csv('AAPL.csv')\n",
    "\n",
    "df"
   ]
  },
  {
   "cell_type": "code",
   "execution_count": 3,
   "metadata": {},
   "outputs": [],
   "source": [
    "df = df[['Date', 'Adj Close']]"
   ]
  },
  {
   "cell_type": "code",
   "execution_count": 4,
   "metadata": {},
   "outputs": [
    {
     "name": "stderr",
     "output_type": "stream",
     "text": [
      "/var/folders/wk/1__f0f457zs4shb5sgjd_4x40000gn/T/ipykernel_81668/1756150960.py:1: SettingWithCopyWarning: \n",
      "A value is trying to be set on a copy of a slice from a DataFrame.\n",
      "Try using .loc[row_indexer,col_indexer] = value instead\n",
      "\n",
      "See the caveats in the documentation: https://pandas.pydata.org/pandas-docs/stable/user_guide/indexing.html#returning-a-view-versus-a-copy\n",
      "  df['Date'] = pd.to_datetime(df['Date'])\n"
     ]
    }
   ],
   "source": [
    "df['Date'] = pd.to_datetime(df['Date'])\n",
    "df.set_index('Date', inplace=True)\n"
   ]
  },
  {
   "cell_type": "code",
   "execution_count": 5,
   "metadata": {},
   "outputs": [
    {
     "data": {
      "text/html": [
       "<div>\n",
       "<style scoped>\n",
       "    .dataframe tbody tr th:only-of-type {\n",
       "        vertical-align: middle;\n",
       "    }\n",
       "\n",
       "    .dataframe tbody tr th {\n",
       "        vertical-align: top;\n",
       "    }\n",
       "\n",
       "    .dataframe thead th {\n",
       "        text-align: right;\n",
       "    }\n",
       "</style>\n",
       "<table border=\"1\" class=\"dataframe\">\n",
       "  <thead>\n",
       "    <tr style=\"text-align: right;\">\n",
       "      <th></th>\n",
       "      <th>Adj Close</th>\n",
       "    </tr>\n",
       "    <tr>\n",
       "      <th>Date</th>\n",
       "      <th></th>\n",
       "    </tr>\n",
       "  </thead>\n",
       "  <tbody>\n",
       "    <tr>\n",
       "      <th>2022-01-03</th>\n",
       "      <td>180.959732</td>\n",
       "    </tr>\n",
       "    <tr>\n",
       "      <th>2022-01-04</th>\n",
       "      <td>178.663071</td>\n",
       "    </tr>\n",
       "    <tr>\n",
       "      <th>2022-01-05</th>\n",
       "      <td>173.910660</td>\n",
       "    </tr>\n",
       "    <tr>\n",
       "      <th>2022-01-06</th>\n",
       "      <td>171.007492</td>\n",
       "    </tr>\n",
       "    <tr>\n",
       "      <th>2022-01-07</th>\n",
       "      <td>171.176529</td>\n",
       "    </tr>\n",
       "    <tr>\n",
       "      <th>...</th>\n",
       "      <td>...</td>\n",
       "    </tr>\n",
       "    <tr>\n",
       "      <th>2022-12-23</th>\n",
       "      <td>131.860001</td>\n",
       "    </tr>\n",
       "    <tr>\n",
       "      <th>2022-12-27</th>\n",
       "      <td>130.029999</td>\n",
       "    </tr>\n",
       "    <tr>\n",
       "      <th>2022-12-28</th>\n",
       "      <td>126.040001</td>\n",
       "    </tr>\n",
       "    <tr>\n",
       "      <th>2022-12-29</th>\n",
       "      <td>129.610001</td>\n",
       "    </tr>\n",
       "    <tr>\n",
       "      <th>2022-12-30</th>\n",
       "      <td>129.929993</td>\n",
       "    </tr>\n",
       "  </tbody>\n",
       "</table>\n",
       "<p>251 rows × 1 columns</p>\n",
       "</div>"
      ],
      "text/plain": [
       "             Adj Close\n",
       "Date                  \n",
       "2022-01-03  180.959732\n",
       "2022-01-04  178.663071\n",
       "2022-01-05  173.910660\n",
       "2022-01-06  171.007492\n",
       "2022-01-07  171.176529\n",
       "...                ...\n",
       "2022-12-23  131.860001\n",
       "2022-12-27  130.029999\n",
       "2022-12-28  126.040001\n",
       "2022-12-29  129.610001\n",
       "2022-12-30  129.929993\n",
       "\n",
       "[251 rows x 1 columns]"
      ]
     },
     "execution_count": 5,
     "metadata": {},
     "output_type": "execute_result"
    }
   ],
   "source": [
    "df"
   ]
  },
  {
   "cell_type": "code",
   "execution_count": 6,
   "metadata": {},
   "outputs": [
    {
     "data": {
      "text/html": [
       "<div>\n",
       "<style scoped>\n",
       "    .dataframe tbody tr th:only-of-type {\n",
       "        vertical-align: middle;\n",
       "    }\n",
       "\n",
       "    .dataframe tbody tr th {\n",
       "        vertical-align: top;\n",
       "    }\n",
       "\n",
       "    .dataframe thead th {\n",
       "        text-align: right;\n",
       "    }\n",
       "</style>\n",
       "<table border=\"1\" class=\"dataframe\">\n",
       "  <thead>\n",
       "    <tr style=\"text-align: right;\">\n",
       "      <th></th>\n",
       "      <th>Adj Close</th>\n",
       "    </tr>\n",
       "    <tr>\n",
       "      <th>Date</th>\n",
       "      <th></th>\n",
       "    </tr>\n",
       "  </thead>\n",
       "  <tbody>\n",
       "    <tr>\n",
       "      <th>2022-01-31</th>\n",
       "      <td>173.771469</td>\n",
       "    </tr>\n",
       "    <tr>\n",
       "      <th>2022-02-28</th>\n",
       "      <td>164.376373</td>\n",
       "    </tr>\n",
       "    <tr>\n",
       "      <th>2022-03-31</th>\n",
       "      <td>173.823639</td>\n",
       "    </tr>\n",
       "    <tr>\n",
       "      <th>2022-04-29</th>\n",
       "      <td>156.940002</td>\n",
       "    </tr>\n",
       "    <tr>\n",
       "      <th>2022-05-31</th>\n",
       "      <td>148.387390</td>\n",
       "    </tr>\n",
       "    <tr>\n",
       "      <th>2022-06-30</th>\n",
       "      <td>136.304245</td>\n",
       "    </tr>\n",
       "    <tr>\n",
       "      <th>2022-07-29</th>\n",
       "      <td>162.015808</td>\n",
       "    </tr>\n",
       "    <tr>\n",
       "      <th>2022-08-31</th>\n",
       "      <td>156.959625</td>\n",
       "    </tr>\n",
       "    <tr>\n",
       "      <th>2022-09-30</th>\n",
       "      <td>137.971115</td>\n",
       "    </tr>\n",
       "    <tr>\n",
       "      <th>2022-10-31</th>\n",
       "      <td>153.086044</td>\n",
       "    </tr>\n",
       "    <tr>\n",
       "      <th>2022-11-30</th>\n",
       "      <td>148.029999</td>\n",
       "    </tr>\n",
       "    <tr>\n",
       "      <th>2022-12-30</th>\n",
       "      <td>129.929993</td>\n",
       "    </tr>\n",
       "  </tbody>\n",
       "</table>\n",
       "</div>"
      ],
      "text/plain": [
       "             Adj Close\n",
       "Date                  \n",
       "2022-01-31  173.771469\n",
       "2022-02-28  164.376373\n",
       "2022-03-31  173.823639\n",
       "2022-04-29  156.940002\n",
       "2022-05-31  148.387390\n",
       "2022-06-30  136.304245\n",
       "2022-07-29  162.015808\n",
       "2022-08-31  156.959625\n",
       "2022-09-30  137.971115\n",
       "2022-10-31  153.086044\n",
       "2022-11-30  148.029999\n",
       "2022-12-30  129.929993"
      ]
     },
     "execution_count": 6,
     "metadata": {},
     "output_type": "execute_result"
    }
   ],
   "source": [
    "df = df.asfreq('BM', method='ffill')\n",
    "df"
   ]
  },
  {
   "cell_type": "code",
   "execution_count": 7,
   "metadata": {},
   "outputs": [],
   "source": [
    "from pycaret.time_series import *"
   ]
  },
  {
   "cell_type": "code",
   "execution_count": 9,
   "metadata": {},
   "outputs": [
    {
     "data": {
      "text/html": [
       "<style type=\"text/css\">\n",
       "#T_9dfe7_row25_col1 {\n",
       "  background-color: lightgreen;\n",
       "}\n",
       "</style>\n",
       "<table id=\"T_9dfe7\">\n",
       "  <thead>\n",
       "    <tr>\n",
       "      <th class=\"blank level0\" >&nbsp;</th>\n",
       "      <th id=\"T_9dfe7_level0_col0\" class=\"col_heading level0 col0\" >Description</th>\n",
       "      <th id=\"T_9dfe7_level0_col1\" class=\"col_heading level0 col1\" >Value</th>\n",
       "    </tr>\n",
       "  </thead>\n",
       "  <tbody>\n",
       "    <tr>\n",
       "      <th id=\"T_9dfe7_level0_row0\" class=\"row_heading level0 row0\" >0</th>\n",
       "      <td id=\"T_9dfe7_row0_col0\" class=\"data row0 col0\" >session_id</td>\n",
       "      <td id=\"T_9dfe7_row0_col1\" class=\"data row0 col1\" >123</td>\n",
       "    </tr>\n",
       "    <tr>\n",
       "      <th id=\"T_9dfe7_level0_row1\" class=\"row_heading level0 row1\" >1</th>\n",
       "      <td id=\"T_9dfe7_row1_col0\" class=\"data row1 col0\" >Target</td>\n",
       "      <td id=\"T_9dfe7_row1_col1\" class=\"data row1 col1\" >Adj Close</td>\n",
       "    </tr>\n",
       "    <tr>\n",
       "      <th id=\"T_9dfe7_level0_row2\" class=\"row_heading level0 row2\" >2</th>\n",
       "      <td id=\"T_9dfe7_row2_col0\" class=\"data row2 col0\" >Approach</td>\n",
       "      <td id=\"T_9dfe7_row2_col1\" class=\"data row2 col1\" >Univariate</td>\n",
       "    </tr>\n",
       "    <tr>\n",
       "      <th id=\"T_9dfe7_level0_row3\" class=\"row_heading level0 row3\" >3</th>\n",
       "      <td id=\"T_9dfe7_row3_col0\" class=\"data row3 col0\" >Exogenous Variables</td>\n",
       "      <td id=\"T_9dfe7_row3_col1\" class=\"data row3 col1\" >Not Present</td>\n",
       "    </tr>\n",
       "    <tr>\n",
       "      <th id=\"T_9dfe7_level0_row4\" class=\"row_heading level0 row4\" >4</th>\n",
       "      <td id=\"T_9dfe7_row4_col0\" class=\"data row4 col0\" >Original data shape</td>\n",
       "      <td id=\"T_9dfe7_row4_col1\" class=\"data row4 col1\" >(12, 1)</td>\n",
       "    </tr>\n",
       "    <tr>\n",
       "      <th id=\"T_9dfe7_level0_row5\" class=\"row_heading level0 row5\" >5</th>\n",
       "      <td id=\"T_9dfe7_row5_col0\" class=\"data row5 col0\" >Transformed data shape</td>\n",
       "      <td id=\"T_9dfe7_row5_col1\" class=\"data row5 col1\" >(12, 1)</td>\n",
       "    </tr>\n",
       "    <tr>\n",
       "      <th id=\"T_9dfe7_level0_row6\" class=\"row_heading level0 row6\" >6</th>\n",
       "      <td id=\"T_9dfe7_row6_col0\" class=\"data row6 col0\" >Transformed train set shape</td>\n",
       "      <td id=\"T_9dfe7_row6_col1\" class=\"data row6 col1\" >(10, 1)</td>\n",
       "    </tr>\n",
       "    <tr>\n",
       "      <th id=\"T_9dfe7_level0_row7\" class=\"row_heading level0 row7\" >7</th>\n",
       "      <td id=\"T_9dfe7_row7_col0\" class=\"data row7 col0\" >Transformed test set shape</td>\n",
       "      <td id=\"T_9dfe7_row7_col1\" class=\"data row7 col1\" >(2, 1)</td>\n",
       "    </tr>\n",
       "    <tr>\n",
       "      <th id=\"T_9dfe7_level0_row8\" class=\"row_heading level0 row8\" >8</th>\n",
       "      <td id=\"T_9dfe7_row8_col0\" class=\"data row8 col0\" >Rows with missing values</td>\n",
       "      <td id=\"T_9dfe7_row8_col1\" class=\"data row8 col1\" >0.0%</td>\n",
       "    </tr>\n",
       "    <tr>\n",
       "      <th id=\"T_9dfe7_level0_row9\" class=\"row_heading level0 row9\" >9</th>\n",
       "      <td id=\"T_9dfe7_row9_col0\" class=\"data row9 col0\" >Fold Generator</td>\n",
       "      <td id=\"T_9dfe7_row9_col1\" class=\"data row9 col1\" >ExpandingWindowSplitter</td>\n",
       "    </tr>\n",
       "    <tr>\n",
       "      <th id=\"T_9dfe7_level0_row10\" class=\"row_heading level0 row10\" >10</th>\n",
       "      <td id=\"T_9dfe7_row10_col0\" class=\"data row10 col0\" >Fold Number</td>\n",
       "      <td id=\"T_9dfe7_row10_col1\" class=\"data row10 col1\" >3</td>\n",
       "    </tr>\n",
       "    <tr>\n",
       "      <th id=\"T_9dfe7_level0_row11\" class=\"row_heading level0 row11\" >11</th>\n",
       "      <td id=\"T_9dfe7_row11_col0\" class=\"data row11 col0\" >Enforce Prediction Interval</td>\n",
       "      <td id=\"T_9dfe7_row11_col1\" class=\"data row11 col1\" >False</td>\n",
       "    </tr>\n",
       "    <tr>\n",
       "      <th id=\"T_9dfe7_level0_row12\" class=\"row_heading level0 row12\" >12</th>\n",
       "      <td id=\"T_9dfe7_row12_col0\" class=\"data row12 col0\" >Splits used for hyperparameters</td>\n",
       "      <td id=\"T_9dfe7_row12_col1\" class=\"data row12 col1\" >all</td>\n",
       "    </tr>\n",
       "    <tr>\n",
       "      <th id=\"T_9dfe7_level0_row13\" class=\"row_heading level0 row13\" >13</th>\n",
       "      <td id=\"T_9dfe7_row13_col0\" class=\"data row13 col0\" >Seasonality Detection Algo</td>\n",
       "      <td id=\"T_9dfe7_row13_col1\" class=\"data row13 col1\" >auto</td>\n",
       "    </tr>\n",
       "    <tr>\n",
       "      <th id=\"T_9dfe7_level0_row14\" class=\"row_heading level0 row14\" >14</th>\n",
       "      <td id=\"T_9dfe7_row14_col0\" class=\"data row14 col0\" >Max Period to Consider</td>\n",
       "      <td id=\"T_9dfe7_row14_col1\" class=\"data row14 col1\" >None</td>\n",
       "    </tr>\n",
       "    <tr>\n",
       "      <th id=\"T_9dfe7_level0_row15\" class=\"row_heading level0 row15\" >15</th>\n",
       "      <td id=\"T_9dfe7_row15_col0\" class=\"data row15 col0\" >Seasonal Period(s) Tested</td>\n",
       "      <td id=\"T_9dfe7_row15_col1\" class=\"data row15 col1\" >[]</td>\n",
       "    </tr>\n",
       "    <tr>\n",
       "      <th id=\"T_9dfe7_level0_row16\" class=\"row_heading level0 row16\" >16</th>\n",
       "      <td id=\"T_9dfe7_row16_col0\" class=\"data row16 col0\" >Significant Seasonal Period(s)</td>\n",
       "      <td id=\"T_9dfe7_row16_col1\" class=\"data row16 col1\" >[1]</td>\n",
       "    </tr>\n",
       "    <tr>\n",
       "      <th id=\"T_9dfe7_level0_row17\" class=\"row_heading level0 row17\" >17</th>\n",
       "      <td id=\"T_9dfe7_row17_col0\" class=\"data row17 col0\" >Significant Seasonal Period(s) without Harmonics</td>\n",
       "      <td id=\"T_9dfe7_row17_col1\" class=\"data row17 col1\" >[1]</td>\n",
       "    </tr>\n",
       "    <tr>\n",
       "      <th id=\"T_9dfe7_level0_row18\" class=\"row_heading level0 row18\" >18</th>\n",
       "      <td id=\"T_9dfe7_row18_col0\" class=\"data row18 col0\" >Remove Harmonics</td>\n",
       "      <td id=\"T_9dfe7_row18_col1\" class=\"data row18 col1\" >False</td>\n",
       "    </tr>\n",
       "    <tr>\n",
       "      <th id=\"T_9dfe7_level0_row19\" class=\"row_heading level0 row19\" >19</th>\n",
       "      <td id=\"T_9dfe7_row19_col0\" class=\"data row19 col0\" >Harmonics Order Method</td>\n",
       "      <td id=\"T_9dfe7_row19_col1\" class=\"data row19 col1\" >harmonic_max</td>\n",
       "    </tr>\n",
       "    <tr>\n",
       "      <th id=\"T_9dfe7_level0_row20\" class=\"row_heading level0 row20\" >20</th>\n",
       "      <td id=\"T_9dfe7_row20_col0\" class=\"data row20 col0\" >Num Seasonalities to Use</td>\n",
       "      <td id=\"T_9dfe7_row20_col1\" class=\"data row20 col1\" >1</td>\n",
       "    </tr>\n",
       "    <tr>\n",
       "      <th id=\"T_9dfe7_level0_row21\" class=\"row_heading level0 row21\" >21</th>\n",
       "      <td id=\"T_9dfe7_row21_col0\" class=\"data row21 col0\" >All Seasonalities to Use</td>\n",
       "      <td id=\"T_9dfe7_row21_col1\" class=\"data row21 col1\" >[1]</td>\n",
       "    </tr>\n",
       "    <tr>\n",
       "      <th id=\"T_9dfe7_level0_row22\" class=\"row_heading level0 row22\" >22</th>\n",
       "      <td id=\"T_9dfe7_row22_col0\" class=\"data row22 col0\" >Primary Seasonality</td>\n",
       "      <td id=\"T_9dfe7_row22_col1\" class=\"data row22 col1\" >1</td>\n",
       "    </tr>\n",
       "    <tr>\n",
       "      <th id=\"T_9dfe7_level0_row23\" class=\"row_heading level0 row23\" >23</th>\n",
       "      <td id=\"T_9dfe7_row23_col0\" class=\"data row23 col0\" >Seasonality Present</td>\n",
       "      <td id=\"T_9dfe7_row23_col1\" class=\"data row23 col1\" >False</td>\n",
       "    </tr>\n",
       "    <tr>\n",
       "      <th id=\"T_9dfe7_level0_row24\" class=\"row_heading level0 row24\" >24</th>\n",
       "      <td id=\"T_9dfe7_row24_col0\" class=\"data row24 col0\" >Target Strictly Positive</td>\n",
       "      <td id=\"T_9dfe7_row24_col1\" class=\"data row24 col1\" >True</td>\n",
       "    </tr>\n",
       "    <tr>\n",
       "      <th id=\"T_9dfe7_level0_row25\" class=\"row_heading level0 row25\" >25</th>\n",
       "      <td id=\"T_9dfe7_row25_col0\" class=\"data row25 col0\" >Target White Noise</td>\n",
       "      <td id=\"T_9dfe7_row25_col1\" class=\"data row25 col1\" >Yes</td>\n",
       "    </tr>\n",
       "    <tr>\n",
       "      <th id=\"T_9dfe7_level0_row26\" class=\"row_heading level0 row26\" >26</th>\n",
       "      <td id=\"T_9dfe7_row26_col0\" class=\"data row26 col0\" >Recommended d</td>\n",
       "      <td id=\"T_9dfe7_row26_col1\" class=\"data row26 col1\" >0</td>\n",
       "    </tr>\n",
       "    <tr>\n",
       "      <th id=\"T_9dfe7_level0_row27\" class=\"row_heading level0 row27\" >27</th>\n",
       "      <td id=\"T_9dfe7_row27_col0\" class=\"data row27 col0\" >Recommended Seasonal D</td>\n",
       "      <td id=\"T_9dfe7_row27_col1\" class=\"data row27 col1\" >0</td>\n",
       "    </tr>\n",
       "    <tr>\n",
       "      <th id=\"T_9dfe7_level0_row28\" class=\"row_heading level0 row28\" >28</th>\n",
       "      <td id=\"T_9dfe7_row28_col0\" class=\"data row28 col0\" >Preprocess</td>\n",
       "      <td id=\"T_9dfe7_row28_col1\" class=\"data row28 col1\" >False</td>\n",
       "    </tr>\n",
       "    <tr>\n",
       "      <th id=\"T_9dfe7_level0_row29\" class=\"row_heading level0 row29\" >29</th>\n",
       "      <td id=\"T_9dfe7_row29_col0\" class=\"data row29 col0\" >CPU Jobs</td>\n",
       "      <td id=\"T_9dfe7_row29_col1\" class=\"data row29 col1\" >-1</td>\n",
       "    </tr>\n",
       "    <tr>\n",
       "      <th id=\"T_9dfe7_level0_row30\" class=\"row_heading level0 row30\" >30</th>\n",
       "      <td id=\"T_9dfe7_row30_col0\" class=\"data row30 col0\" >Use GPU</td>\n",
       "      <td id=\"T_9dfe7_row30_col1\" class=\"data row30 col1\" >False</td>\n",
       "    </tr>\n",
       "    <tr>\n",
       "      <th id=\"T_9dfe7_level0_row31\" class=\"row_heading level0 row31\" >31</th>\n",
       "      <td id=\"T_9dfe7_row31_col0\" class=\"data row31 col0\" >Log Experiment</td>\n",
       "      <td id=\"T_9dfe7_row31_col1\" class=\"data row31 col1\" >False</td>\n",
       "    </tr>\n",
       "    <tr>\n",
       "      <th id=\"T_9dfe7_level0_row32\" class=\"row_heading level0 row32\" >32</th>\n",
       "      <td id=\"T_9dfe7_row32_col0\" class=\"data row32 col0\" >Experiment Name</td>\n",
       "      <td id=\"T_9dfe7_row32_col1\" class=\"data row32 col1\" >ts-default-name</td>\n",
       "    </tr>\n",
       "    <tr>\n",
       "      <th id=\"T_9dfe7_level0_row33\" class=\"row_heading level0 row33\" >33</th>\n",
       "      <td id=\"T_9dfe7_row33_col0\" class=\"data row33 col0\" >USI</td>\n",
       "      <td id=\"T_9dfe7_row33_col1\" class=\"data row33 col1\" >4230</td>\n",
       "    </tr>\n",
       "  </tbody>\n",
       "</table>\n"
      ],
      "text/plain": [
       "<pandas.io.formats.style.Styler at 0x7fe019032520>"
      ]
     },
     "metadata": {},
     "output_type": "display_data"
    }
   ],
   "source": [
    "exp = setup(data=df, target='Adj Close', session_id=123, fh=2)"
   ]
  },
  {
   "cell_type": "code",
   "execution_count": 10,
   "metadata": {},
   "outputs": [
    {
     "data": {
      "text/html": [
       "<div>\n",
       "<style scoped>\n",
       "    .dataframe tbody tr th:only-of-type {\n",
       "        vertical-align: middle;\n",
       "    }\n",
       "\n",
       "    .dataframe tbody tr th {\n",
       "        vertical-align: top;\n",
       "    }\n",
       "\n",
       "    .dataframe thead th {\n",
       "        text-align: right;\n",
       "    }\n",
       "</style>\n",
       "<table border=\"1\" class=\"dataframe\">\n",
       "  <thead>\n",
       "    <tr style=\"text-align: right;\">\n",
       "      <th></th>\n",
       "      <th>Test</th>\n",
       "      <th>Test Name</th>\n",
       "      <th>Data</th>\n",
       "      <th>Property</th>\n",
       "      <th>Setting</th>\n",
       "      <th>Value</th>\n",
       "    </tr>\n",
       "  </thead>\n",
       "  <tbody>\n",
       "    <tr>\n",
       "      <th>0</th>\n",
       "      <td>Summary</td>\n",
       "      <td>Statistics</td>\n",
       "      <td>Transformed</td>\n",
       "      <td>Length</td>\n",
       "      <td></td>\n",
       "      <td>12.0</td>\n",
       "    </tr>\n",
       "    <tr>\n",
       "      <th>1</th>\n",
       "      <td>Summary</td>\n",
       "      <td>Statistics</td>\n",
       "      <td>Transformed</td>\n",
       "      <td># Missing Values</td>\n",
       "      <td></td>\n",
       "      <td>0.0</td>\n",
       "    </tr>\n",
       "    <tr>\n",
       "      <th>2</th>\n",
       "      <td>Summary</td>\n",
       "      <td>Statistics</td>\n",
       "      <td>Transformed</td>\n",
       "      <td>Mean</td>\n",
       "      <td></td>\n",
       "      <td>153.466308</td>\n",
       "    </tr>\n",
       "    <tr>\n",
       "      <th>3</th>\n",
       "      <td>Summary</td>\n",
       "      <td>Statistics</td>\n",
       "      <td>Transformed</td>\n",
       "      <td>Median</td>\n",
       "      <td></td>\n",
       "      <td>155.013023</td>\n",
       "    </tr>\n",
       "    <tr>\n",
       "      <th>4</th>\n",
       "      <td>Summary</td>\n",
       "      <td>Statistics</td>\n",
       "      <td>Transformed</td>\n",
       "      <td>Standard Deviation</td>\n",
       "      <td></td>\n",
       "      <td>14.100944</td>\n",
       "    </tr>\n",
       "    <tr>\n",
       "      <th>5</th>\n",
       "      <td>Summary</td>\n",
       "      <td>Statistics</td>\n",
       "      <td>Transformed</td>\n",
       "      <td>Variance</td>\n",
       "      <td></td>\n",
       "      <td>198.836616</td>\n",
       "    </tr>\n",
       "    <tr>\n",
       "      <th>6</th>\n",
       "      <td>Summary</td>\n",
       "      <td>Statistics</td>\n",
       "      <td>Transformed</td>\n",
       "      <td>Kurtosis</td>\n",
       "      <td></td>\n",
       "      <td>-0.78764</td>\n",
       "    </tr>\n",
       "    <tr>\n",
       "      <th>7</th>\n",
       "      <td>Summary</td>\n",
       "      <td>Statistics</td>\n",
       "      <td>Transformed</td>\n",
       "      <td>Skewness</td>\n",
       "      <td></td>\n",
       "      <td>-0.12796</td>\n",
       "    </tr>\n",
       "    <tr>\n",
       "      <th>8</th>\n",
       "      <td>Summary</td>\n",
       "      <td>Statistics</td>\n",
       "      <td>Transformed</td>\n",
       "      <td># Distinct Values</td>\n",
       "      <td></td>\n",
       "      <td>12.0</td>\n",
       "    </tr>\n",
       "    <tr>\n",
       "      <th>9</th>\n",
       "      <td>White Noise</td>\n",
       "      <td>Ljung-Box</td>\n",
       "      <td>Transformed</td>\n",
       "      <td>Test Statictic</td>\n",
       "      <td>{'alpha': 0.05, 'K': 1}</td>\n",
       "      <td>0.961494</td>\n",
       "    </tr>\n",
       "    <tr>\n",
       "      <th>10</th>\n",
       "      <td>White Noise</td>\n",
       "      <td>Ljung-Box</td>\n",
       "      <td>Transformed</td>\n",
       "      <td>Test Statictic</td>\n",
       "      <td>{'alpha': 0.05, 'K': 2}</td>\n",
       "      <td>1.034574</td>\n",
       "    </tr>\n",
       "    <tr>\n",
       "      <th>11</th>\n",
       "      <td>White Noise</td>\n",
       "      <td>Ljung-Box</td>\n",
       "      <td>Transformed</td>\n",
       "      <td>p-value</td>\n",
       "      <td>{'alpha': 0.05, 'K': 1}</td>\n",
       "      <td>0.326811</td>\n",
       "    </tr>\n",
       "    <tr>\n",
       "      <th>12</th>\n",
       "      <td>White Noise</td>\n",
       "      <td>Ljung-Box</td>\n",
       "      <td>Transformed</td>\n",
       "      <td>p-value</td>\n",
       "      <td>{'alpha': 0.05, 'K': 2}</td>\n",
       "      <td>0.596136</td>\n",
       "    </tr>\n",
       "    <tr>\n",
       "      <th>13</th>\n",
       "      <td>White Noise</td>\n",
       "      <td>Ljung-Box</td>\n",
       "      <td>Transformed</td>\n",
       "      <td>White Noise</td>\n",
       "      <td>{'alpha': 0.05, 'K': 1}</td>\n",
       "      <td>True</td>\n",
       "    </tr>\n",
       "    <tr>\n",
       "      <th>14</th>\n",
       "      <td>White Noise</td>\n",
       "      <td>Ljung-Box</td>\n",
       "      <td>Transformed</td>\n",
       "      <td>White Noise</td>\n",
       "      <td>{'alpha': 0.05, 'K': 2}</td>\n",
       "      <td>True</td>\n",
       "    </tr>\n",
       "    <tr>\n",
       "      <th>15</th>\n",
       "      <td>Stationarity</td>\n",
       "      <td>ADF</td>\n",
       "      <td>Transformed</td>\n",
       "      <td>Stationarity</td>\n",
       "      <td>{'alpha': 0.05}</td>\n",
       "      <td>False</td>\n",
       "    </tr>\n",
       "    <tr>\n",
       "      <th>16</th>\n",
       "      <td>Stationarity</td>\n",
       "      <td>ADF</td>\n",
       "      <td>Transformed</td>\n",
       "      <td>p-value</td>\n",
       "      <td>{'alpha': 0.05}</td>\n",
       "      <td>0.597242</td>\n",
       "    </tr>\n",
       "    <tr>\n",
       "      <th>17</th>\n",
       "      <td>Stationarity</td>\n",
       "      <td>ADF</td>\n",
       "      <td>Transformed</td>\n",
       "      <td>Test Statistic</td>\n",
       "      <td>{'alpha': 0.05}</td>\n",
       "      <td>-1.368582</td>\n",
       "    </tr>\n",
       "    <tr>\n",
       "      <th>18</th>\n",
       "      <td>Stationarity</td>\n",
       "      <td>ADF</td>\n",
       "      <td>Transformed</td>\n",
       "      <td>Critical Value 1%</td>\n",
       "      <td>{'alpha': 0.05}</td>\n",
       "      <td>-4.331573</td>\n",
       "    </tr>\n",
       "    <tr>\n",
       "      <th>19</th>\n",
       "      <td>Stationarity</td>\n",
       "      <td>ADF</td>\n",
       "      <td>Transformed</td>\n",
       "      <td>Critical Value 5%</td>\n",
       "      <td>{'alpha': 0.05}</td>\n",
       "      <td>-3.23295</td>\n",
       "    </tr>\n",
       "    <tr>\n",
       "      <th>20</th>\n",
       "      <td>Stationarity</td>\n",
       "      <td>ADF</td>\n",
       "      <td>Transformed</td>\n",
       "      <td>Critical Value 10%</td>\n",
       "      <td>{'alpha': 0.05}</td>\n",
       "      <td>-2.7487</td>\n",
       "    </tr>\n",
       "    <tr>\n",
       "      <th>21</th>\n",
       "      <td>Stationarity</td>\n",
       "      <td>KPSS</td>\n",
       "      <td>Transformed</td>\n",
       "      <td>Trend Stationarity</td>\n",
       "      <td>{'alpha': 0.05}</td>\n",
       "      <td>True</td>\n",
       "    </tr>\n",
       "    <tr>\n",
       "      <th>22</th>\n",
       "      <td>Stationarity</td>\n",
       "      <td>KPSS</td>\n",
       "      <td>Transformed</td>\n",
       "      <td>p-value</td>\n",
       "      <td>{'alpha': 0.05}</td>\n",
       "      <td>0.1</td>\n",
       "    </tr>\n",
       "    <tr>\n",
       "      <th>23</th>\n",
       "      <td>Stationarity</td>\n",
       "      <td>KPSS</td>\n",
       "      <td>Transformed</td>\n",
       "      <td>Test Statistic</td>\n",
       "      <td>{'alpha': 0.05}</td>\n",
       "      <td>0.077416</td>\n",
       "    </tr>\n",
       "    <tr>\n",
       "      <th>24</th>\n",
       "      <td>Stationarity</td>\n",
       "      <td>KPSS</td>\n",
       "      <td>Transformed</td>\n",
       "      <td>Critical Value 10%</td>\n",
       "      <td>{'alpha': 0.05}</td>\n",
       "      <td>0.119</td>\n",
       "    </tr>\n",
       "    <tr>\n",
       "      <th>25</th>\n",
       "      <td>Stationarity</td>\n",
       "      <td>KPSS</td>\n",
       "      <td>Transformed</td>\n",
       "      <td>Critical Value 5%</td>\n",
       "      <td>{'alpha': 0.05}</td>\n",
       "      <td>0.146</td>\n",
       "    </tr>\n",
       "    <tr>\n",
       "      <th>26</th>\n",
       "      <td>Stationarity</td>\n",
       "      <td>KPSS</td>\n",
       "      <td>Transformed</td>\n",
       "      <td>Critical Value 2.5%</td>\n",
       "      <td>{'alpha': 0.05}</td>\n",
       "      <td>0.176</td>\n",
       "    </tr>\n",
       "    <tr>\n",
       "      <th>27</th>\n",
       "      <td>Stationarity</td>\n",
       "      <td>KPSS</td>\n",
       "      <td>Transformed</td>\n",
       "      <td>Critical Value 1%</td>\n",
       "      <td>{'alpha': 0.05}</td>\n",
       "      <td>0.216</td>\n",
       "    </tr>\n",
       "    <tr>\n",
       "      <th>28</th>\n",
       "      <td>Normality</td>\n",
       "      <td>Shapiro</td>\n",
       "      <td>Transformed</td>\n",
       "      <td>Normality</td>\n",
       "      <td>{'alpha': 0.05}</td>\n",
       "      <td>True</td>\n",
       "    </tr>\n",
       "    <tr>\n",
       "      <th>29</th>\n",
       "      <td>Normality</td>\n",
       "      <td>Shapiro</td>\n",
       "      <td>Transformed</td>\n",
       "      <td>p-value</td>\n",
       "      <td>{'alpha': 0.05}</td>\n",
       "      <td>0.778503</td>\n",
       "    </tr>\n",
       "  </tbody>\n",
       "</table>\n",
       "</div>"
      ],
      "text/plain": [
       "            Test   Test Name         Data             Property  \\\n",
       "0        Summary  Statistics  Transformed               Length   \n",
       "1        Summary  Statistics  Transformed     # Missing Values   \n",
       "2        Summary  Statistics  Transformed                 Mean   \n",
       "3        Summary  Statistics  Transformed               Median   \n",
       "4        Summary  Statistics  Transformed   Standard Deviation   \n",
       "5        Summary  Statistics  Transformed             Variance   \n",
       "6        Summary  Statistics  Transformed             Kurtosis   \n",
       "7        Summary  Statistics  Transformed             Skewness   \n",
       "8        Summary  Statistics  Transformed    # Distinct Values   \n",
       "9    White Noise   Ljung-Box  Transformed       Test Statictic   \n",
       "10   White Noise   Ljung-Box  Transformed       Test Statictic   \n",
       "11   White Noise   Ljung-Box  Transformed              p-value   \n",
       "12   White Noise   Ljung-Box  Transformed              p-value   \n",
       "13   White Noise   Ljung-Box  Transformed          White Noise   \n",
       "14   White Noise   Ljung-Box  Transformed          White Noise   \n",
       "15  Stationarity         ADF  Transformed         Stationarity   \n",
       "16  Stationarity         ADF  Transformed              p-value   \n",
       "17  Stationarity         ADF  Transformed       Test Statistic   \n",
       "18  Stationarity         ADF  Transformed    Critical Value 1%   \n",
       "19  Stationarity         ADF  Transformed    Critical Value 5%   \n",
       "20  Stationarity         ADF  Transformed   Critical Value 10%   \n",
       "21  Stationarity        KPSS  Transformed   Trend Stationarity   \n",
       "22  Stationarity        KPSS  Transformed              p-value   \n",
       "23  Stationarity        KPSS  Transformed       Test Statistic   \n",
       "24  Stationarity        KPSS  Transformed   Critical Value 10%   \n",
       "25  Stationarity        KPSS  Transformed    Critical Value 5%   \n",
       "26  Stationarity        KPSS  Transformed  Critical Value 2.5%   \n",
       "27  Stationarity        KPSS  Transformed    Critical Value 1%   \n",
       "28     Normality     Shapiro  Transformed            Normality   \n",
       "29     Normality     Shapiro  Transformed              p-value   \n",
       "\n",
       "                    Setting       Value  \n",
       "0                                  12.0  \n",
       "1                                   0.0  \n",
       "2                            153.466308  \n",
       "3                            155.013023  \n",
       "4                             14.100944  \n",
       "5                            198.836616  \n",
       "6                              -0.78764  \n",
       "7                              -0.12796  \n",
       "8                                  12.0  \n",
       "9   {'alpha': 0.05, 'K': 1}    0.961494  \n",
       "10  {'alpha': 0.05, 'K': 2}    1.034574  \n",
       "11  {'alpha': 0.05, 'K': 1}    0.326811  \n",
       "12  {'alpha': 0.05, 'K': 2}    0.596136  \n",
       "13  {'alpha': 0.05, 'K': 1}        True  \n",
       "14  {'alpha': 0.05, 'K': 2}        True  \n",
       "15          {'alpha': 0.05}       False  \n",
       "16          {'alpha': 0.05}    0.597242  \n",
       "17          {'alpha': 0.05}   -1.368582  \n",
       "18          {'alpha': 0.05}   -4.331573  \n",
       "19          {'alpha': 0.05}    -3.23295  \n",
       "20          {'alpha': 0.05}     -2.7487  \n",
       "21          {'alpha': 0.05}        True  \n",
       "22          {'alpha': 0.05}         0.1  \n",
       "23          {'alpha': 0.05}    0.077416  \n",
       "24          {'alpha': 0.05}       0.119  \n",
       "25          {'alpha': 0.05}       0.146  \n",
       "26          {'alpha': 0.05}       0.176  \n",
       "27          {'alpha': 0.05}       0.216  \n",
       "28          {'alpha': 0.05}        True  \n",
       "29          {'alpha': 0.05}    0.778503  "
      ]
     },
     "execution_count": 10,
     "metadata": {},
     "output_type": "execute_result"
    }
   ],
   "source": [
    "exp.check_stats()"
   ]
  },
  {
   "cell_type": "code",
   "execution_count": 11,
   "metadata": {},
   "outputs": [
    {
     "data": {
      "application/vnd.plotly.v1+json": {
       "config": {
        "plotlyServerURL": "https://plot.ly"
       },
       "data": [
        {
         "line": {
          "color": "rgb(31, 119, 180)",
          "width": 2
         },
         "marker": {
          "color": "rgb(31, 119, 180)",
          "size": 5
         },
         "mode": "lines+markers",
         "name": "Train (original)",
         "type": "scattergl",
         "x": [
          "2022-01-01T00:00:00",
          "2022-02-01T00:00:00",
          "2022-03-01T00:00:00",
          "2022-04-01T00:00:00",
          "2022-05-01T00:00:00",
          "2022-06-01T00:00:00",
          "2022-07-01T00:00:00",
          "2022-08-01T00:00:00",
          "2022-09-01T00:00:00",
          "2022-10-01T00:00:00",
          "2022-11-01T00:00:00",
          "2022-12-01T00:00:00"
         ],
         "xaxis": "x",
         "y": [
          173.771469,
          164.376373,
          173.823639,
          156.940002,
          148.38739,
          136.304245,
          162.015808,
          156.959625,
          137.971115,
          153.086044,
          null,
          null
         ],
         "yaxis": "y"
        },
        {
         "line": {
          "color": "rgb(255, 127, 14)",
          "width": 2
         },
         "marker": {
          "color": "rgb(255, 127, 14)",
          "size": 5
         },
         "mode": "lines+markers",
         "name": "Test (original)",
         "type": "scattergl",
         "x": [
          "2022-01-01T00:00:00",
          "2022-02-01T00:00:00",
          "2022-03-01T00:00:00",
          "2022-04-01T00:00:00",
          "2022-05-01T00:00:00",
          "2022-06-01T00:00:00",
          "2022-07-01T00:00:00",
          "2022-08-01T00:00:00",
          "2022-09-01T00:00:00",
          "2022-10-01T00:00:00",
          "2022-11-01T00:00:00",
          "2022-12-01T00:00:00"
         ],
         "xaxis": "x",
         "y": [
          null,
          null,
          null,
          null,
          null,
          null,
          null,
          null,
          null,
          null,
          148.029999,
          129.929993
         ],
         "yaxis": "y"
        }
       ],
       "layout": {
        "annotations": [
         {
          "font": {
           "size": 16
          },
          "showarrow": false,
          "text": "Adj Close",
          "x": 0.5,
          "xanchor": "center",
          "xref": "paper",
          "y": 1,
          "yanchor": "bottom",
          "yref": "paper"
         }
        ],
        "showlegend": true,
        "template": {
         "data": {
          "bar": [
           {
            "error_x": {
             "color": "rgb(51,51,51)"
            },
            "error_y": {
             "color": "rgb(51,51,51)"
            },
            "marker": {
             "line": {
              "color": "rgb(237,237,237)",
              "width": 0.5
             },
             "pattern": {
              "fillmode": "overlay",
              "size": 10,
              "solidity": 0.2
             }
            },
            "type": "bar"
           }
          ],
          "barpolar": [
           {
            "marker": {
             "line": {
              "color": "rgb(237,237,237)",
              "width": 0.5
             },
             "pattern": {
              "fillmode": "overlay",
              "size": 10,
              "solidity": 0.2
             }
            },
            "type": "barpolar"
           }
          ],
          "carpet": [
           {
            "aaxis": {
             "endlinecolor": "rgb(51,51,51)",
             "gridcolor": "white",
             "linecolor": "white",
             "minorgridcolor": "white",
             "startlinecolor": "rgb(51,51,51)"
            },
            "baxis": {
             "endlinecolor": "rgb(51,51,51)",
             "gridcolor": "white",
             "linecolor": "white",
             "minorgridcolor": "white",
             "startlinecolor": "rgb(51,51,51)"
            },
            "type": "carpet"
           }
          ],
          "choropleth": [
           {
            "colorbar": {
             "outlinewidth": 0,
             "tickcolor": "rgb(237,237,237)",
             "ticklen": 6,
             "ticks": "inside"
            },
            "type": "choropleth"
           }
          ],
          "contour": [
           {
            "colorbar": {
             "outlinewidth": 0,
             "tickcolor": "rgb(237,237,237)",
             "ticklen": 6,
             "ticks": "inside"
            },
            "colorscale": [
             [
              0,
              "rgb(20,44,66)"
             ],
             [
              1,
              "rgb(90,179,244)"
             ]
            ],
            "type": "contour"
           }
          ],
          "contourcarpet": [
           {
            "colorbar": {
             "outlinewidth": 0,
             "tickcolor": "rgb(237,237,237)",
             "ticklen": 6,
             "ticks": "inside"
            },
            "type": "contourcarpet"
           }
          ],
          "heatmap": [
           {
            "colorbar": {
             "outlinewidth": 0,
             "tickcolor": "rgb(237,237,237)",
             "ticklen": 6,
             "ticks": "inside"
            },
            "colorscale": [
             [
              0,
              "rgb(20,44,66)"
             ],
             [
              1,
              "rgb(90,179,244)"
             ]
            ],
            "type": "heatmap"
           }
          ],
          "heatmapgl": [
           {
            "colorbar": {
             "outlinewidth": 0,
             "tickcolor": "rgb(237,237,237)",
             "ticklen": 6,
             "ticks": "inside"
            },
            "colorscale": [
             [
              0,
              "rgb(20,44,66)"
             ],
             [
              1,
              "rgb(90,179,244)"
             ]
            ],
            "type": "heatmapgl"
           }
          ],
          "histogram": [
           {
            "marker": {
             "pattern": {
              "fillmode": "overlay",
              "size": 10,
              "solidity": 0.2
             }
            },
            "type": "histogram"
           }
          ],
          "histogram2d": [
           {
            "colorbar": {
             "outlinewidth": 0,
             "tickcolor": "rgb(237,237,237)",
             "ticklen": 6,
             "ticks": "inside"
            },
            "colorscale": [
             [
              0,
              "rgb(20,44,66)"
             ],
             [
              1,
              "rgb(90,179,244)"
             ]
            ],
            "type": "histogram2d"
           }
          ],
          "histogram2dcontour": [
           {
            "colorbar": {
             "outlinewidth": 0,
             "tickcolor": "rgb(237,237,237)",
             "ticklen": 6,
             "ticks": "inside"
            },
            "colorscale": [
             [
              0,
              "rgb(20,44,66)"
             ],
             [
              1,
              "rgb(90,179,244)"
             ]
            ],
            "type": "histogram2dcontour"
           }
          ],
          "mesh3d": [
           {
            "colorbar": {
             "outlinewidth": 0,
             "tickcolor": "rgb(237,237,237)",
             "ticklen": 6,
             "ticks": "inside"
            },
            "type": "mesh3d"
           }
          ],
          "parcoords": [
           {
            "line": {
             "colorbar": {
              "outlinewidth": 0,
              "tickcolor": "rgb(237,237,237)",
              "ticklen": 6,
              "ticks": "inside"
             }
            },
            "type": "parcoords"
           }
          ],
          "pie": [
           {
            "automargin": true,
            "type": "pie"
           }
          ],
          "scatter": [
           {
            "fillpattern": {
             "fillmode": "overlay",
             "size": 10,
             "solidity": 0.2
            },
            "type": "scatter"
           }
          ],
          "scatter3d": [
           {
            "line": {
             "colorbar": {
              "outlinewidth": 0,
              "tickcolor": "rgb(237,237,237)",
              "ticklen": 6,
              "ticks": "inside"
             }
            },
            "marker": {
             "colorbar": {
              "outlinewidth": 0,
              "tickcolor": "rgb(237,237,237)",
              "ticklen": 6,
              "ticks": "inside"
             }
            },
            "type": "scatter3d"
           }
          ],
          "scattercarpet": [
           {
            "marker": {
             "colorbar": {
              "outlinewidth": 0,
              "tickcolor": "rgb(237,237,237)",
              "ticklen": 6,
              "ticks": "inside"
             }
            },
            "type": "scattercarpet"
           }
          ],
          "scattergeo": [
           {
            "marker": {
             "colorbar": {
              "outlinewidth": 0,
              "tickcolor": "rgb(237,237,237)",
              "ticklen": 6,
              "ticks": "inside"
             }
            },
            "type": "scattergeo"
           }
          ],
          "scattergl": [
           {
            "marker": {
             "colorbar": {
              "outlinewidth": 0,
              "tickcolor": "rgb(237,237,237)",
              "ticklen": 6,
              "ticks": "inside"
             }
            },
            "type": "scattergl"
           }
          ],
          "scattermapbox": [
           {
            "marker": {
             "colorbar": {
              "outlinewidth": 0,
              "tickcolor": "rgb(237,237,237)",
              "ticklen": 6,
              "ticks": "inside"
             }
            },
            "type": "scattermapbox"
           }
          ],
          "scatterpolar": [
           {
            "marker": {
             "colorbar": {
              "outlinewidth": 0,
              "tickcolor": "rgb(237,237,237)",
              "ticklen": 6,
              "ticks": "inside"
             }
            },
            "type": "scatterpolar"
           }
          ],
          "scatterpolargl": [
           {
            "marker": {
             "colorbar": {
              "outlinewidth": 0,
              "tickcolor": "rgb(237,237,237)",
              "ticklen": 6,
              "ticks": "inside"
             }
            },
            "type": "scatterpolargl"
           }
          ],
          "scatterternary": [
           {
            "marker": {
             "colorbar": {
              "outlinewidth": 0,
              "tickcolor": "rgb(237,237,237)",
              "ticklen": 6,
              "ticks": "inside"
             }
            },
            "type": "scatterternary"
           }
          ],
          "surface": [
           {
            "colorbar": {
             "outlinewidth": 0,
             "tickcolor": "rgb(237,237,237)",
             "ticklen": 6,
             "ticks": "inside"
            },
            "colorscale": [
             [
              0,
              "rgb(20,44,66)"
             ],
             [
              1,
              "rgb(90,179,244)"
             ]
            ],
            "type": "surface"
           }
          ],
          "table": [
           {
            "cells": {
             "fill": {
              "color": "rgb(237,237,237)"
             },
             "line": {
              "color": "white"
             }
            },
            "header": {
             "fill": {
              "color": "rgb(217,217,217)"
             },
             "line": {
              "color": "white"
             }
            },
            "type": "table"
           }
          ]
         },
         "layout": {
          "annotationdefaults": {
           "arrowhead": 0,
           "arrowwidth": 1
          },
          "autotypenumbers": "strict",
          "coloraxis": {
           "colorbar": {
            "outlinewidth": 0,
            "tickcolor": "rgb(237,237,237)",
            "ticklen": 6,
            "ticks": "inside"
           }
          },
          "colorscale": {
           "sequential": [
            [
             0,
             "rgb(20,44,66)"
            ],
            [
             1,
             "rgb(90,179,244)"
            ]
           ],
           "sequentialminus": [
            [
             0,
             "rgb(20,44,66)"
            ],
            [
             1,
             "rgb(90,179,244)"
            ]
           ]
          },
          "colorway": [
           "#F8766D",
           "#A3A500",
           "#00BF7D",
           "#00B0F6",
           "#E76BF3"
          ],
          "font": {
           "color": "rgb(51,51,51)"
          },
          "geo": {
           "bgcolor": "white",
           "lakecolor": "white",
           "landcolor": "rgb(237,237,237)",
           "showlakes": true,
           "showland": true,
           "subunitcolor": "white"
          },
          "hoverlabel": {
           "align": "left"
          },
          "hovermode": "closest",
          "paper_bgcolor": "white",
          "plot_bgcolor": "rgb(237,237,237)",
          "polar": {
           "angularaxis": {
            "gridcolor": "white",
            "linecolor": "white",
            "showgrid": true,
            "tickcolor": "rgb(51,51,51)",
            "ticks": "outside"
           },
           "bgcolor": "rgb(237,237,237)",
           "radialaxis": {
            "gridcolor": "white",
            "linecolor": "white",
            "showgrid": true,
            "tickcolor": "rgb(51,51,51)",
            "ticks": "outside"
           }
          },
          "scene": {
           "xaxis": {
            "backgroundcolor": "rgb(237,237,237)",
            "gridcolor": "white",
            "gridwidth": 2,
            "linecolor": "white",
            "showbackground": true,
            "showgrid": true,
            "tickcolor": "rgb(51,51,51)",
            "ticks": "outside",
            "zerolinecolor": "white"
           },
           "yaxis": {
            "backgroundcolor": "rgb(237,237,237)",
            "gridcolor": "white",
            "gridwidth": 2,
            "linecolor": "white",
            "showbackground": true,
            "showgrid": true,
            "tickcolor": "rgb(51,51,51)",
            "ticks": "outside",
            "zerolinecolor": "white"
           },
           "zaxis": {
            "backgroundcolor": "rgb(237,237,237)",
            "gridcolor": "white",
            "gridwidth": 2,
            "linecolor": "white",
            "showbackground": true,
            "showgrid": true,
            "tickcolor": "rgb(51,51,51)",
            "ticks": "outside",
            "zerolinecolor": "white"
           }
          },
          "shapedefaults": {
           "fillcolor": "black",
           "line": {
            "width": 0
           },
           "opacity": 0.3
          },
          "ternary": {
           "aaxis": {
            "gridcolor": "white",
            "linecolor": "white",
            "showgrid": true,
            "tickcolor": "rgb(51,51,51)",
            "ticks": "outside"
           },
           "baxis": {
            "gridcolor": "white",
            "linecolor": "white",
            "showgrid": true,
            "tickcolor": "rgb(51,51,51)",
            "ticks": "outside"
           },
           "bgcolor": "rgb(237,237,237)",
           "caxis": {
            "gridcolor": "white",
            "linecolor": "white",
            "showgrid": true,
            "tickcolor": "rgb(51,51,51)",
            "ticks": "outside"
           }
          },
          "xaxis": {
           "automargin": true,
           "gridcolor": "white",
           "linecolor": "white",
           "showgrid": true,
           "tickcolor": "rgb(51,51,51)",
           "ticks": "outside",
           "title": {
            "standoff": 15
           },
           "zerolinecolor": "white"
          },
          "yaxis": {
           "automargin": true,
           "gridcolor": "white",
           "linecolor": "white",
           "showgrid": true,
           "tickcolor": "rgb(51,51,51)",
           "ticks": "outside",
           "title": {
            "standoff": 15
           },
           "zerolinecolor": "white"
          }
         }
        },
        "title": {
         "text": "Time Series | Target = Adj Close"
        },
        "xaxis": {
         "anchor": "y",
         "domain": [
          0,
          1
         ]
        },
        "yaxis": {
         "anchor": "x",
         "domain": [
          0,
          1
         ]
        }
       }
      }
     },
     "metadata": {},
     "output_type": "display_data"
    }
   ],
   "source": [
    "exp.plot_model(plot='train_test_split')"
   ]
  },
  {
   "cell_type": "code",
   "execution_count": 12,
   "metadata": {},
   "outputs": [
    {
     "data": {
      "text/html": [],
      "text/plain": [
       "<IPython.core.display.HTML object>"
      ]
     },
     "metadata": {},
     "output_type": "display_data"
    },
    {
     "data": {
      "text/html": [
       "<style type=\"text/css\">\n",
       "#T_d8c05 th {\n",
       "  text-align: left;\n",
       "}\n",
       "#T_d8c05_row0_col0, #T_d8c05_row1_col0, #T_d8c05_row1_col1, #T_d8c05_row1_col2, #T_d8c05_row1_col3, #T_d8c05_row1_col4, #T_d8c05_row1_col5, #T_d8c05_row1_col6, #T_d8c05_row1_col7, #T_d8c05_row2_col0, #T_d8c05_row2_col1, #T_d8c05_row2_col2, #T_d8c05_row2_col3, #T_d8c05_row2_col4, #T_d8c05_row2_col5, #T_d8c05_row2_col6, #T_d8c05_row2_col7, #T_d8c05_row3_col0, #T_d8c05_row3_col1, #T_d8c05_row3_col2, #T_d8c05_row3_col3, #T_d8c05_row3_col4, #T_d8c05_row3_col5, #T_d8c05_row3_col6, #T_d8c05_row3_col7, #T_d8c05_row4_col0, #T_d8c05_row4_col1, #T_d8c05_row4_col2, #T_d8c05_row4_col3, #T_d8c05_row4_col4, #T_d8c05_row4_col5, #T_d8c05_row4_col6, #T_d8c05_row4_col7, #T_d8c05_row5_col0, #T_d8c05_row5_col1, #T_d8c05_row5_col2, #T_d8c05_row5_col3, #T_d8c05_row5_col4, #T_d8c05_row5_col5, #T_d8c05_row5_col6, #T_d8c05_row5_col7, #T_d8c05_row6_col0, #T_d8c05_row6_col1, #T_d8c05_row6_col2, #T_d8c05_row6_col3, #T_d8c05_row6_col4, #T_d8c05_row6_col5, #T_d8c05_row6_col6, #T_d8c05_row6_col7, #T_d8c05_row7_col0, #T_d8c05_row7_col1, #T_d8c05_row7_col2, #T_d8c05_row7_col3, #T_d8c05_row7_col4, #T_d8c05_row7_col5, #T_d8c05_row7_col6, #T_d8c05_row7_col7, #T_d8c05_row8_col0, #T_d8c05_row8_col1, #T_d8c05_row8_col2, #T_d8c05_row8_col3, #T_d8c05_row8_col4, #T_d8c05_row8_col5, #T_d8c05_row8_col6, #T_d8c05_row8_col7, #T_d8c05_row9_col0, #T_d8c05_row9_col1, #T_d8c05_row9_col2, #T_d8c05_row9_col3, #T_d8c05_row9_col4, #T_d8c05_row9_col5, #T_d8c05_row9_col6, #T_d8c05_row9_col7, #T_d8c05_row10_col0, #T_d8c05_row10_col1, #T_d8c05_row10_col2, #T_d8c05_row10_col3, #T_d8c05_row10_col4, #T_d8c05_row10_col5, #T_d8c05_row10_col6, #T_d8c05_row10_col7, #T_d8c05_row11_col0, #T_d8c05_row11_col1, #T_d8c05_row11_col2, #T_d8c05_row11_col3, #T_d8c05_row11_col4, #T_d8c05_row11_col5, #T_d8c05_row11_col6, #T_d8c05_row11_col7, #T_d8c05_row12_col0, #T_d8c05_row12_col1, #T_d8c05_row12_col2, #T_d8c05_row12_col3, #T_d8c05_row12_col4, #T_d8c05_row12_col5, #T_d8c05_row12_col6, #T_d8c05_row12_col7, #T_d8c05_row13_col0, #T_d8c05_row13_col1, #T_d8c05_row13_col2, #T_d8c05_row13_col3, #T_d8c05_row13_col4, #T_d8c05_row13_col5, #T_d8c05_row13_col6, #T_d8c05_row13_col7, #T_d8c05_row14_col0, #T_d8c05_row14_col1, #T_d8c05_row14_col2, #T_d8c05_row14_col3, #T_d8c05_row14_col4, #T_d8c05_row14_col5, #T_d8c05_row14_col6, #T_d8c05_row14_col7, #T_d8c05_row15_col0, #T_d8c05_row15_col1, #T_d8c05_row15_col2, #T_d8c05_row15_col3, #T_d8c05_row15_col4, #T_d8c05_row15_col5, #T_d8c05_row15_col6, #T_d8c05_row15_col7, #T_d8c05_row16_col0, #T_d8c05_row16_col1, #T_d8c05_row16_col2, #T_d8c05_row16_col3, #T_d8c05_row16_col4, #T_d8c05_row16_col5, #T_d8c05_row16_col6, #T_d8c05_row16_col7, #T_d8c05_row17_col0, #T_d8c05_row17_col1, #T_d8c05_row17_col2, #T_d8c05_row17_col3, #T_d8c05_row17_col4, #T_d8c05_row17_col5, #T_d8c05_row17_col6, #T_d8c05_row17_col7, #T_d8c05_row18_col0, #T_d8c05_row18_col1, #T_d8c05_row18_col2, #T_d8c05_row18_col3, #T_d8c05_row18_col4, #T_d8c05_row18_col5, #T_d8c05_row18_col6, #T_d8c05_row18_col7, #T_d8c05_row19_col0, #T_d8c05_row19_col1, #T_d8c05_row19_col2, #T_d8c05_row19_col3, #T_d8c05_row19_col4, #T_d8c05_row19_col5, #T_d8c05_row19_col6, #T_d8c05_row19_col7, #T_d8c05_row20_col0, #T_d8c05_row20_col1, #T_d8c05_row20_col2, #T_d8c05_row20_col3, #T_d8c05_row20_col4, #T_d8c05_row20_col5, #T_d8c05_row20_col6, #T_d8c05_row20_col7, #T_d8c05_row21_col0, #T_d8c05_row21_col1, #T_d8c05_row21_col2, #T_d8c05_row21_col3, #T_d8c05_row21_col4, #T_d8c05_row21_col5, #T_d8c05_row21_col6, #T_d8c05_row21_col7, #T_d8c05_row22_col0, #T_d8c05_row22_col1, #T_d8c05_row22_col2, #T_d8c05_row22_col3, #T_d8c05_row22_col4, #T_d8c05_row22_col5, #T_d8c05_row22_col6, #T_d8c05_row22_col7, #T_d8c05_row23_col0, #T_d8c05_row23_col1, #T_d8c05_row23_col2, #T_d8c05_row23_col3, #T_d8c05_row23_col4, #T_d8c05_row23_col5, #T_d8c05_row23_col6, #T_d8c05_row23_col7, #T_d8c05_row24_col0, #T_d8c05_row24_col1, #T_d8c05_row24_col2, #T_d8c05_row24_col3, #T_d8c05_row24_col4, #T_d8c05_row24_col5, #T_d8c05_row24_col6, #T_d8c05_row24_col7, #T_d8c05_row25_col0, #T_d8c05_row25_col1, #T_d8c05_row25_col2, #T_d8c05_row25_col3, #T_d8c05_row25_col4, #T_d8c05_row25_col5, #T_d8c05_row25_col6, #T_d8c05_row25_col7, #T_d8c05_row26_col0, #T_d8c05_row26_col1, #T_d8c05_row26_col2, #T_d8c05_row26_col3, #T_d8c05_row26_col4, #T_d8c05_row26_col5, #T_d8c05_row26_col6, #T_d8c05_row26_col7 {\n",
       "  text-align: left;\n",
       "}\n",
       "#T_d8c05_row0_col1, #T_d8c05_row0_col2, #T_d8c05_row0_col3, #T_d8c05_row0_col4, #T_d8c05_row0_col5, #T_d8c05_row0_col6, #T_d8c05_row0_col7 {\n",
       "  text-align: left;\n",
       "  background-color: yellow;\n",
       "}\n",
       "#T_d8c05_row0_col8, #T_d8c05_row1_col8, #T_d8c05_row2_col8, #T_d8c05_row3_col8, #T_d8c05_row4_col8, #T_d8c05_row5_col8, #T_d8c05_row6_col8, #T_d8c05_row7_col8, #T_d8c05_row8_col8, #T_d8c05_row9_col8, #T_d8c05_row10_col8, #T_d8c05_row11_col8, #T_d8c05_row12_col8, #T_d8c05_row13_col8, #T_d8c05_row14_col8, #T_d8c05_row15_col8, #T_d8c05_row16_col8, #T_d8c05_row17_col8, #T_d8c05_row18_col8, #T_d8c05_row19_col8, #T_d8c05_row20_col8, #T_d8c05_row21_col8, #T_d8c05_row23_col8, #T_d8c05_row24_col8, #T_d8c05_row25_col8, #T_d8c05_row26_col8 {\n",
       "  text-align: left;\n",
       "  background-color: lightgrey;\n",
       "}\n",
       "#T_d8c05_row22_col8 {\n",
       "  text-align: left;\n",
       "  background-color: yellow;\n",
       "  background-color: lightgrey;\n",
       "}\n",
       "</style>\n",
       "<table id=\"T_d8c05\">\n",
       "  <thead>\n",
       "    <tr>\n",
       "      <th class=\"blank level0\" >&nbsp;</th>\n",
       "      <th id=\"T_d8c05_level0_col0\" class=\"col_heading level0 col0\" >Model</th>\n",
       "      <th id=\"T_d8c05_level0_col1\" class=\"col_heading level0 col1\" >MASE</th>\n",
       "      <th id=\"T_d8c05_level0_col2\" class=\"col_heading level0 col2\" >RMSSE</th>\n",
       "      <th id=\"T_d8c05_level0_col3\" class=\"col_heading level0 col3\" >MAE</th>\n",
       "      <th id=\"T_d8c05_level0_col4\" class=\"col_heading level0 col4\" >RMSE</th>\n",
       "      <th id=\"T_d8c05_level0_col5\" class=\"col_heading level0 col5\" >MAPE</th>\n",
       "      <th id=\"T_d8c05_level0_col6\" class=\"col_heading level0 col6\" >SMAPE</th>\n",
       "      <th id=\"T_d8c05_level0_col7\" class=\"col_heading level0 col7\" >R2</th>\n",
       "      <th id=\"T_d8c05_level0_col8\" class=\"col_heading level0 col8\" >TT (Sec)</th>\n",
       "    </tr>\n",
       "  </thead>\n",
       "  <tbody>\n",
       "    <tr>\n",
       "      <th id=\"T_d8c05_level0_row0\" class=\"row_heading level0 row0\" >grand_means</th>\n",
       "      <td id=\"T_d8c05_row0_col0\" class=\"data row0 col0\" >Grand Means Forecaster</td>\n",
       "      <td id=\"T_d8c05_row0_col1\" class=\"data row0 col1\" >1.1339</td>\n",
       "      <td id=\"T_d8c05_row0_col2\" class=\"data row0 col2\" >1.1310</td>\n",
       "      <td id=\"T_d8c05_row0_col3\" class=\"data row0 col3\" >13.6513</td>\n",
       "      <td id=\"T_d8c05_row0_col4\" class=\"data row0 col4\" >14.5676</td>\n",
       "      <td id=\"T_d8c05_row0_col5\" class=\"data row0 col5\" >0.0962</td>\n",
       "      <td id=\"T_d8c05_row0_col6\" class=\"data row0 col6\" >0.0892</td>\n",
       "      <td id=\"T_d8c05_row0_col7\" class=\"data row0 col7\" >-6.7405</td>\n",
       "      <td id=\"T_d8c05_row0_col8\" class=\"data row0 col8\" >0.4167</td>\n",
       "    </tr>\n",
       "    <tr>\n",
       "      <th id=\"T_d8c05_level0_row1\" class=\"row_heading level0 row1\" >auto_arima</th>\n",
       "      <td id=\"T_d8c05_row1_col0\" class=\"data row1 col0\" >Auto ARIMA</td>\n",
       "      <td id=\"T_d8c05_row1_col1\" class=\"data row1 col1\" >1.1787</td>\n",
       "      <td id=\"T_d8c05_row1_col2\" class=\"data row1 col2\" >1.1550</td>\n",
       "      <td id=\"T_d8c05_row1_col3\" class=\"data row1 col3\" >14.1848</td>\n",
       "      <td id=\"T_d8c05_row1_col4\" class=\"data row1 col4\" >14.8661</td>\n",
       "      <td id=\"T_d8c05_row1_col5\" class=\"data row1 col5\" >0.0993</td>\n",
       "      <td id=\"T_d8c05_row1_col6\" class=\"data row1 col6\" >0.0921</td>\n",
       "      <td id=\"T_d8c05_row1_col7\" class=\"data row1 col7\" >-7.1667</td>\n",
       "      <td id=\"T_d8c05_row1_col8\" class=\"data row1 col8\" >0.0967</td>\n",
       "    </tr>\n",
       "    <tr>\n",
       "      <th id=\"T_d8c05_level0_row2\" class=\"row_heading level0 row2\" >rf_cds_dt</th>\n",
       "      <td id=\"T_d8c05_row2_col0\" class=\"data row2 col0\" >Random Forest w/ Cond. Deseasonalize & Detrending</td>\n",
       "      <td id=\"T_d8c05_row2_col1\" class=\"data row2 col1\" >1.3747</td>\n",
       "      <td id=\"T_d8c05_row2_col2\" class=\"data row2 col2\" >1.3175</td>\n",
       "      <td id=\"T_d8c05_row2_col3\" class=\"data row2 col3\" >15.9645</td>\n",
       "      <td id=\"T_d8c05_row2_col4\" class=\"data row2 col4\" >16.0572</td>\n",
       "      <td id=\"T_d8c05_row2_col5\" class=\"data row2 col5\" >0.1051</td>\n",
       "      <td id=\"T_d8c05_row2_col6\" class=\"data row2 col6\" >0.1093</td>\n",
       "      <td id=\"T_d8c05_row2_col7\" class=\"data row2 col7\" >-40.9207</td>\n",
       "      <td id=\"T_d8c05_row2_col8\" class=\"data row2 col8\" >0.5433</td>\n",
       "    </tr>\n",
       "    <tr>\n",
       "      <th id=\"T_d8c05_level0_row3\" class=\"row_heading level0 row3\" >et_cds_dt</th>\n",
       "      <td id=\"T_d8c05_row3_col0\" class=\"data row3 col0\" >Extra Trees w/ Cond. Deseasonalize & Detrending</td>\n",
       "      <td id=\"T_d8c05_row3_col1\" class=\"data row3 col1\" >1.3876</td>\n",
       "      <td id=\"T_d8c05_row3_col2\" class=\"data row3 col2\" >1.3507</td>\n",
       "      <td id=\"T_d8c05_row3_col3\" class=\"data row3 col3\" >16.1556</td>\n",
       "      <td id=\"T_d8c05_row3_col4\" class=\"data row3 col4\" >16.5784</td>\n",
       "      <td id=\"T_d8c05_row3_col5\" class=\"data row3 col5\" >0.1060</td>\n",
       "      <td id=\"T_d8c05_row3_col6\" class=\"data row3 col6\" >0.1103</td>\n",
       "      <td id=\"T_d8c05_row3_col7\" class=\"data row3 col7\" >-37.9791</td>\n",
       "      <td id=\"T_d8c05_row3_col8\" class=\"data row3 col8\" >0.5533</td>\n",
       "    </tr>\n",
       "    <tr>\n",
       "      <th id=\"T_d8c05_level0_row4\" class=\"row_heading level0 row4\" >lightgbm_cds_dt</th>\n",
       "      <td id=\"T_d8c05_row4_col0\" class=\"data row4 col0\" >Light Gradient Boosting w/ Cond. Deseasonalize & Detrending</td>\n",
       "      <td id=\"T_d8c05_row4_col1\" class=\"data row4 col1\" >1.4404</td>\n",
       "      <td id=\"T_d8c05_row4_col2\" class=\"data row4 col2\" >1.3925</td>\n",
       "      <td id=\"T_d8c05_row4_col3\" class=\"data row4 col3\" >16.7427</td>\n",
       "      <td id=\"T_d8c05_row4_col4\" class=\"data row4 col4\" >17.0289</td>\n",
       "      <td id=\"T_d8c05_row4_col5\" class=\"data row4 col5\" >0.1102</td>\n",
       "      <td id=\"T_d8c05_row4_col6\" class=\"data row4 col6\" >0.1151</td>\n",
       "      <td id=\"T_d8c05_row4_col7\" class=\"data row4 col7\" >-44.1987</td>\n",
       "      <td id=\"T_d8c05_row4_col8\" class=\"data row4 col8\" >0.0667</td>\n",
       "    </tr>\n",
       "    <tr>\n",
       "      <th id=\"T_d8c05_level0_row5\" class=\"row_heading level0 row5\" >lar_cds_dt</th>\n",
       "      <td id=\"T_d8c05_row5_col0\" class=\"data row5 col0\" >Least Angular Regressor w/ Cond. Deseasonalize & Detrending</td>\n",
       "      <td id=\"T_d8c05_row5_col1\" class=\"data row5 col1\" >1.4596</td>\n",
       "      <td id=\"T_d8c05_row5_col2\" class=\"data row5 col2\" >1.3937</td>\n",
       "      <td id=\"T_d8c05_row5_col3\" class=\"data row5 col3\" >16.9822</td>\n",
       "      <td id=\"T_d8c05_row5_col4\" class=\"data row5 col4\" >17.0561</td>\n",
       "      <td id=\"T_d8c05_row5_col5\" class=\"data row5 col5\" >0.1117</td>\n",
       "      <td id=\"T_d8c05_row5_col6\" class=\"data row5 col6\" >0.1163</td>\n",
       "      <td id=\"T_d8c05_row5_col7\" class=\"data row5 col7\" >-43.1035</td>\n",
       "      <td id=\"T_d8c05_row5_col8\" class=\"data row5 col8\" >0.0700</td>\n",
       "    </tr>\n",
       "    <tr>\n",
       "      <th id=\"T_d8c05_level0_row6\" class=\"row_heading level0 row6\" >omp_cds_dt</th>\n",
       "      <td id=\"T_d8c05_row6_col0\" class=\"data row6 col0\" >Orthogonal Matching Pursuit w/ Cond. Deseasonalize & Detrending</td>\n",
       "      <td id=\"T_d8c05_row6_col1\" class=\"data row6 col1\" >1.4596</td>\n",
       "      <td id=\"T_d8c05_row6_col2\" class=\"data row6 col2\" >1.3937</td>\n",
       "      <td id=\"T_d8c05_row6_col3\" class=\"data row6 col3\" >16.9822</td>\n",
       "      <td id=\"T_d8c05_row6_col4\" class=\"data row6 col4\" >17.0561</td>\n",
       "      <td id=\"T_d8c05_row6_col5\" class=\"data row6 col5\" >0.1117</td>\n",
       "      <td id=\"T_d8c05_row6_col6\" class=\"data row6 col6\" >0.1163</td>\n",
       "      <td id=\"T_d8c05_row6_col7\" class=\"data row6 col7\" >-43.1035</td>\n",
       "      <td id=\"T_d8c05_row6_col8\" class=\"data row6 col8\" >0.0633</td>\n",
       "    </tr>\n",
       "    <tr>\n",
       "      <th id=\"T_d8c05_level0_row7\" class=\"row_heading level0 row7\" >lr_cds_dt</th>\n",
       "      <td id=\"T_d8c05_row7_col0\" class=\"data row7 col0\" >Linear w/ Cond. Deseasonalize & Detrending</td>\n",
       "      <td id=\"T_d8c05_row7_col1\" class=\"data row7 col1\" >1.4596</td>\n",
       "      <td id=\"T_d8c05_row7_col2\" class=\"data row7 col2\" >1.3937</td>\n",
       "      <td id=\"T_d8c05_row7_col3\" class=\"data row7 col3\" >16.9822</td>\n",
       "      <td id=\"T_d8c05_row7_col4\" class=\"data row7 col4\" >17.0561</td>\n",
       "      <td id=\"T_d8c05_row7_col5\" class=\"data row7 col5\" >0.1117</td>\n",
       "      <td id=\"T_d8c05_row7_col6\" class=\"data row7 col6\" >0.1163</td>\n",
       "      <td id=\"T_d8c05_row7_col7\" class=\"data row7 col7\" >-43.1035</td>\n",
       "      <td id=\"T_d8c05_row7_col8\" class=\"data row7 col8\" >1.8733</td>\n",
       "    </tr>\n",
       "    <tr>\n",
       "      <th id=\"T_d8c05_level0_row8\" class=\"row_heading level0 row8\" >ridge_cds_dt</th>\n",
       "      <td id=\"T_d8c05_row8_col0\" class=\"data row8 col0\" >Ridge w/ Cond. Deseasonalize & Detrending</td>\n",
       "      <td id=\"T_d8c05_row8_col1\" class=\"data row8 col1\" >1.4600</td>\n",
       "      <td id=\"T_d8c05_row8_col2\" class=\"data row8 col2\" >1.3941</td>\n",
       "      <td id=\"T_d8c05_row8_col3\" class=\"data row8 col3\" >16.9863</td>\n",
       "      <td id=\"T_d8c05_row8_col4\" class=\"data row8 col4\" >17.0606</td>\n",
       "      <td id=\"T_d8c05_row8_col5\" class=\"data row8 col5\" >0.1117</td>\n",
       "      <td id=\"T_d8c05_row8_col6\" class=\"data row8 col6\" >0.1163</td>\n",
       "      <td id=\"T_d8c05_row8_col7\" class=\"data row8 col7\" >-43.1119</td>\n",
       "      <td id=\"T_d8c05_row8_col8\" class=\"data row8 col8\" >0.6433</td>\n",
       "    </tr>\n",
       "    <tr>\n",
       "      <th id=\"T_d8c05_level0_row9\" class=\"row_heading level0 row9\" >en_cds_dt</th>\n",
       "      <td id=\"T_d8c05_row9_col0\" class=\"data row9 col0\" >Elastic Net w/ Cond. Deseasonalize & Detrending</td>\n",
       "      <td id=\"T_d8c05_row9_col1\" class=\"data row9 col1\" >1.4610</td>\n",
       "      <td id=\"T_d8c05_row9_col2\" class=\"data row9 col2\" >1.3952</td>\n",
       "      <td id=\"T_d8c05_row9_col3\" class=\"data row9 col3\" >16.9970</td>\n",
       "      <td id=\"T_d8c05_row9_col4\" class=\"data row9 col4\" >17.0736</td>\n",
       "      <td id=\"T_d8c05_row9_col5\" class=\"data row9 col5\" >0.1118</td>\n",
       "      <td id=\"T_d8c05_row9_col6\" class=\"data row9 col6\" >0.1164</td>\n",
       "      <td id=\"T_d8c05_row9_col7\" class=\"data row9 col7\" >-43.2038</td>\n",
       "      <td id=\"T_d8c05_row9_col8\" class=\"data row9 col8\" >0.6800</td>\n",
       "    </tr>\n",
       "    <tr>\n",
       "      <th id=\"T_d8c05_level0_row10\" class=\"row_heading level0 row10\" >lasso_cds_dt</th>\n",
       "      <td id=\"T_d8c05_row10_col0\" class=\"data row10 col0\" >Lasso w/ Cond. Deseasonalize & Detrending</td>\n",
       "      <td id=\"T_d8c05_row10_col1\" class=\"data row10 col1\" >1.4612</td>\n",
       "      <td id=\"T_d8c05_row10_col2\" class=\"data row10 col2\" >1.3956</td>\n",
       "      <td id=\"T_d8c05_row10_col3\" class=\"data row10 col3\" >16.9996</td>\n",
       "      <td id=\"T_d8c05_row10_col4\" class=\"data row10 col4\" >17.0776</td>\n",
       "      <td id=\"T_d8c05_row10_col5\" class=\"data row10 col5\" >0.1118</td>\n",
       "      <td id=\"T_d8c05_row10_col6\" class=\"data row10 col6\" >0.1164</td>\n",
       "      <td id=\"T_d8c05_row10_col7\" class=\"data row10 col7\" >-43.2739</td>\n",
       "      <td id=\"T_d8c05_row10_col8\" class=\"data row10 col8\" >0.7467</td>\n",
       "    </tr>\n",
       "    <tr>\n",
       "      <th id=\"T_d8c05_level0_row11\" class=\"row_heading level0 row11\" >br_cds_dt</th>\n",
       "      <td id=\"T_d8c05_row11_col0\" class=\"data row11 col0\" >Bayesian Ridge w/ Cond. Deseasonalize & Detrending</td>\n",
       "      <td id=\"T_d8c05_row11_col1\" class=\"data row11 col1\" >1.4710</td>\n",
       "      <td id=\"T_d8c05_row11_col2\" class=\"data row11 col2\" >1.4093</td>\n",
       "      <td id=\"T_d8c05_row11_col3\" class=\"data row11 col3\" >17.1078</td>\n",
       "      <td id=\"T_d8c05_row11_col4\" class=\"data row11 col4\" >17.2376</td>\n",
       "      <td id=\"T_d8c05_row11_col5\" class=\"data row11 col5\" >0.1126</td>\n",
       "      <td id=\"T_d8c05_row11_col6\" class=\"data row11 col6\" >0.1173</td>\n",
       "      <td id=\"T_d8c05_row11_col7\" class=\"data row11 col7\" >-44.3476</td>\n",
       "      <td id=\"T_d8c05_row11_col8\" class=\"data row11 col8\" >0.0933</td>\n",
       "    </tr>\n",
       "    <tr>\n",
       "      <th id=\"T_d8c05_level0_row12\" class=\"row_heading level0 row12\" >llar_cds_dt</th>\n",
       "      <td id=\"T_d8c05_row12_col0\" class=\"data row12 col0\" >Lasso Least Angular Regressor w/ Cond. Deseasonalize & Detrending</td>\n",
       "      <td id=\"T_d8c05_row12_col1\" class=\"data row12 col1\" >1.4709</td>\n",
       "      <td id=\"T_d8c05_row12_col2\" class=\"data row12 col2\" >1.4094</td>\n",
       "      <td id=\"T_d8c05_row12_col3\" class=\"data row12 col3\" >17.1065</td>\n",
       "      <td id=\"T_d8c05_row12_col4\" class=\"data row12 col4\" >17.2386</td>\n",
       "      <td id=\"T_d8c05_row12_col5\" class=\"data row12 col5\" >0.1126</td>\n",
       "      <td id=\"T_d8c05_row12_col6\" class=\"data row12 col6\" >0.1173</td>\n",
       "      <td id=\"T_d8c05_row12_col7\" class=\"data row12 col7\" >-44.3524</td>\n",
       "      <td id=\"T_d8c05_row12_col8\" class=\"data row12 col8\" >0.1167</td>\n",
       "    </tr>\n",
       "    <tr>\n",
       "      <th id=\"T_d8c05_level0_row13\" class=\"row_heading level0 row13\" >exp_smooth</th>\n",
       "      <td id=\"T_d8c05_row13_col0\" class=\"data row13 col0\" >Exponential Smoothing</td>\n",
       "      <td id=\"T_d8c05_row13_col1\" class=\"data row13 col1\" >1.4628</td>\n",
       "      <td id=\"T_d8c05_row13_col2\" class=\"data row13 col2\" >1.4113</td>\n",
       "      <td id=\"T_d8c05_row13_col3\" class=\"data row13 col3\" >16.9973</td>\n",
       "      <td id=\"T_d8c05_row13_col4\" class=\"data row13 col4\" >17.2443</td>\n",
       "      <td id=\"T_d8c05_row13_col5\" class=\"data row13 col5\" >0.1119</td>\n",
       "      <td id=\"T_d8c05_row13_col6\" class=\"data row13 col6\" >0.1169</td>\n",
       "      <td id=\"T_d8c05_row13_col7\" class=\"data row13 col7\" >-46.1404</td>\n",
       "      <td id=\"T_d8c05_row13_col8\" class=\"data row13 col8\" >0.0267</td>\n",
       "    </tr>\n",
       "    <tr>\n",
       "      <th id=\"T_d8c05_level0_row14\" class=\"row_heading level0 row14\" >polytrend</th>\n",
       "      <td id=\"T_d8c05_row14_col0\" class=\"data row14 col0\" >Polynomial Trend Forecaster</td>\n",
       "      <td id=\"T_d8c05_row14_col1\" class=\"data row14 col1\" >1.4628</td>\n",
       "      <td id=\"T_d8c05_row14_col2\" class=\"data row14 col2\" >1.4113</td>\n",
       "      <td id=\"T_d8c05_row14_col3\" class=\"data row14 col3\" >16.9974</td>\n",
       "      <td id=\"T_d8c05_row14_col4\" class=\"data row14 col4\" >17.2444</td>\n",
       "      <td id=\"T_d8c05_row14_col5\" class=\"data row14 col5\" >0.1119</td>\n",
       "      <td id=\"T_d8c05_row14_col6\" class=\"data row14 col6\" >0.1169</td>\n",
       "      <td id=\"T_d8c05_row14_col7\" class=\"data row14 col7\" >-46.1413</td>\n",
       "      <td id=\"T_d8c05_row14_col8\" class=\"data row14 col8\" >0.3900</td>\n",
       "    </tr>\n",
       "    <tr>\n",
       "      <th id=\"T_d8c05_level0_row15\" class=\"row_heading level0 row15\" >ets</th>\n",
       "      <td id=\"T_d8c05_row15_col0\" class=\"data row15 col0\" >ETS</td>\n",
       "      <td id=\"T_d8c05_row15_col1\" class=\"data row15 col1\" >1.4628</td>\n",
       "      <td id=\"T_d8c05_row15_col2\" class=\"data row15 col2\" >1.4113</td>\n",
       "      <td id=\"T_d8c05_row15_col3\" class=\"data row15 col3\" >16.9974</td>\n",
       "      <td id=\"T_d8c05_row15_col4\" class=\"data row15 col4\" >17.2444</td>\n",
       "      <td id=\"T_d8c05_row15_col5\" class=\"data row15 col5\" >0.1119</td>\n",
       "      <td id=\"T_d8c05_row15_col6\" class=\"data row15 col6\" >0.1169</td>\n",
       "      <td id=\"T_d8c05_row15_col7\" class=\"data row15 col7\" >-46.1412</td>\n",
       "      <td id=\"T_d8c05_row15_col8\" class=\"data row15 col8\" >0.0367</td>\n",
       "    </tr>\n",
       "    <tr>\n",
       "      <th id=\"T_d8c05_level0_row16\" class=\"row_heading level0 row16\" >naive</th>\n",
       "      <td id=\"T_d8c05_row16_col0\" class=\"data row16 col0\" >Naive Forecaster</td>\n",
       "      <td id=\"T_d8c05_row16_col1\" class=\"data row16 col1\" >1.4002</td>\n",
       "      <td id=\"T_d8c05_row16_col2\" class=\"data row16 col2\" >1.4165</td>\n",
       "      <td id=\"T_d8c05_row16_col3\" class=\"data row16 col3\" >16.4029</td>\n",
       "      <td id=\"T_d8c05_row16_col4\" class=\"data row16 col4\" >17.6065</td>\n",
       "      <td id=\"T_d8c05_row16_col5\" class=\"data row16 col5\" >0.1104</td>\n",
       "      <td id=\"T_d8c05_row16_col6\" class=\"data row16 col6\" >0.1106</td>\n",
       "      <td id=\"T_d8c05_row16_col7\" class=\"data row16 col7\" >-30.7394</td>\n",
       "      <td id=\"T_d8c05_row16_col8\" class=\"data row16 col8\" >1.3733</td>\n",
       "    </tr>\n",
       "    <tr>\n",
       "      <th id=\"T_d8c05_level0_row17\" class=\"row_heading level0 row17\" >dt_cds_dt</th>\n",
       "      <td id=\"T_d8c05_row17_col0\" class=\"data row17 col0\" >Decision Tree w/ Cond. Deseasonalize & Detrending</td>\n",
       "      <td id=\"T_d8c05_row17_col1\" class=\"data row17 col1\" >1.4099</td>\n",
       "      <td id=\"T_d8c05_row17_col2\" class=\"data row17 col2\" >1.4168</td>\n",
       "      <td id=\"T_d8c05_row17_col3\" class=\"data row17 col3\" >16.5292</td>\n",
       "      <td id=\"T_d8c05_row17_col4\" class=\"data row17 col4\" >17.6200</td>\n",
       "      <td id=\"T_d8c05_row17_col5\" class=\"data row17 col5\" >0.1089</td>\n",
       "      <td id=\"T_d8c05_row17_col6\" class=\"data row17 col6\" >0.1127</td>\n",
       "      <td id=\"T_d8c05_row17_col7\" class=\"data row17 col7\" >-31.4703</td>\n",
       "      <td id=\"T_d8c05_row17_col8\" class=\"data row17 col8\" >1.1867</td>\n",
       "    </tr>\n",
       "    <tr>\n",
       "      <th id=\"T_d8c05_level0_row18\" class=\"row_heading level0 row18\" >gbr_cds_dt</th>\n",
       "      <td id=\"T_d8c05_row18_col0\" class=\"data row18 col0\" >Gradient Boosting w/ Cond. Deseasonalize & Detrending</td>\n",
       "      <td id=\"T_d8c05_row18_col1\" class=\"data row18 col1\" >1.4099</td>\n",
       "      <td id=\"T_d8c05_row18_col2\" class=\"data row18 col2\" >1.4168</td>\n",
       "      <td id=\"T_d8c05_row18_col3\" class=\"data row18 col3\" >16.5293</td>\n",
       "      <td id=\"T_d8c05_row18_col4\" class=\"data row18 col4\" >17.6200</td>\n",
       "      <td id=\"T_d8c05_row18_col5\" class=\"data row18 col5\" >0.1089</td>\n",
       "      <td id=\"T_d8c05_row18_col6\" class=\"data row18 col6\" >0.1127</td>\n",
       "      <td id=\"T_d8c05_row18_col7\" class=\"data row18 col7\" >-31.4705</td>\n",
       "      <td id=\"T_d8c05_row18_col8\" class=\"data row18 col8\" >0.5300</td>\n",
       "    </tr>\n",
       "    <tr>\n",
       "      <th id=\"T_d8c05_level0_row19\" class=\"row_heading level0 row19\" >ada_cds_dt</th>\n",
       "      <td id=\"T_d8c05_row19_col0\" class=\"data row19 col0\" >AdaBoost w/ Cond. Deseasonalize & Detrending</td>\n",
       "      <td id=\"T_d8c05_row19_col1\" class=\"data row19 col1\" >1.4298</td>\n",
       "      <td id=\"T_d8c05_row19_col2\" class=\"data row19 col2\" >1.4403</td>\n",
       "      <td id=\"T_d8c05_row19_col3\" class=\"data row19 col3\" >16.7537</td>\n",
       "      <td id=\"T_d8c05_row19_col4\" class=\"data row19 col4\" >17.8951</td>\n",
       "      <td id=\"T_d8c05_row19_col5\" class=\"data row19 col5\" >0.1104</td>\n",
       "      <td id=\"T_d8c05_row19_col6\" class=\"data row19 col6\" >0.1144</td>\n",
       "      <td id=\"T_d8c05_row19_col7\" class=\"data row19 col7\" >-33.5442</td>\n",
       "      <td id=\"T_d8c05_row19_col8\" class=\"data row19 col8\" >0.0733</td>\n",
       "    </tr>\n",
       "    <tr>\n",
       "      <th id=\"T_d8c05_level0_row20\" class=\"row_heading level0 row20\" >par_cds_dt</th>\n",
       "      <td id=\"T_d8c05_row20_col0\" class=\"data row20 col0\" >Passive Aggressive w/ Cond. Deseasonalize & Detrending</td>\n",
       "      <td id=\"T_d8c05_row20_col1\" class=\"data row20 col1\" >1.5239</td>\n",
       "      <td id=\"T_d8c05_row20_col2\" class=\"data row20 col2\" >1.4962</td>\n",
       "      <td id=\"T_d8c05_row20_col3\" class=\"data row20 col3\" >17.6538</td>\n",
       "      <td id=\"T_d8c05_row20_col4\" class=\"data row20 col4\" >18.2668</td>\n",
       "      <td id=\"T_d8c05_row20_col5\" class=\"data row20 col5\" >0.1161</td>\n",
       "      <td id=\"T_d8c05_row20_col6\" class=\"data row20 col6\" >0.1228</td>\n",
       "      <td id=\"T_d8c05_row20_col7\" class=\"data row20 col7\" >-59.9766</td>\n",
       "      <td id=\"T_d8c05_row20_col8\" class=\"data row20 col8\" >0.5933</td>\n",
       "    </tr>\n",
       "    <tr>\n",
       "      <th id=\"T_d8c05_level0_row21\" class=\"row_heading level0 row21\" >huber_cds_dt</th>\n",
       "      <td id=\"T_d8c05_row21_col0\" class=\"data row21 col0\" >Huber w/ Cond. Deseasonalize & Detrending</td>\n",
       "      <td id=\"T_d8c05_row21_col1\" class=\"data row21 col1\" >1.6006</td>\n",
       "      <td id=\"T_d8c05_row21_col2\" class=\"data row21 col2\" >1.5295</td>\n",
       "      <td id=\"T_d8c05_row21_col3\" class=\"data row21 col3\" >18.5825</td>\n",
       "      <td id=\"T_d8c05_row21_col4\" class=\"data row21 col4\" >18.6436</td>\n",
       "      <td id=\"T_d8c05_row21_col5\" class=\"data row21 col5\" >0.1219</td>\n",
       "      <td id=\"T_d8c05_row21_col6\" class=\"data row21 col6\" >0.1278</td>\n",
       "      <td id=\"T_d8c05_row21_col7\" class=\"data row21 col7\" >-55.4357</td>\n",
       "      <td id=\"T_d8c05_row21_col8\" class=\"data row21 col8\" >0.0567</td>\n",
       "    </tr>\n",
       "    <tr>\n",
       "      <th id=\"T_d8c05_level0_row22\" class=\"row_heading level0 row22\" >theta</th>\n",
       "      <td id=\"T_d8c05_row22_col0\" class=\"data row22 col0\" >Theta Forecaster</td>\n",
       "      <td id=\"T_d8c05_row22_col1\" class=\"data row22 col1\" >1.5546</td>\n",
       "      <td id=\"T_d8c05_row22_col2\" class=\"data row22 col2\" >1.5398</td>\n",
       "      <td id=\"T_d8c05_row22_col3\" class=\"data row22 col3\" >18.0277</td>\n",
       "      <td id=\"T_d8c05_row22_col4\" class=\"data row22 col4\" >18.8017</td>\n",
       "      <td id=\"T_d8c05_row22_col5\" class=\"data row22 col5\" >0.1193</td>\n",
       "      <td id=\"T_d8c05_row22_col6\" class=\"data row22 col6\" >0.1244</td>\n",
       "      <td id=\"T_d8c05_row22_col7\" class=\"data row22 col7\" >-55.5247</td>\n",
       "      <td id=\"T_d8c05_row22_col8\" class=\"data row22 col8\" >0.0233</td>\n",
       "    </tr>\n",
       "    <tr>\n",
       "      <th id=\"T_d8c05_level0_row23\" class=\"row_heading level0 row23\" >arima</th>\n",
       "      <td id=\"T_d8c05_row23_col0\" class=\"data row23 col0\" >ARIMA</td>\n",
       "      <td id=\"T_d8c05_row23_col1\" class=\"data row23 col1\" >1.5168</td>\n",
       "      <td id=\"T_d8c05_row23_col2\" class=\"data row23 col2\" >1.4995</td>\n",
       "      <td id=\"T_d8c05_row23_col3\" class=\"data row23 col3\" >17.9984</td>\n",
       "      <td id=\"T_d8c05_row23_col4\" class=\"data row23 col4\" >18.8848</td>\n",
       "      <td id=\"T_d8c05_row23_col5\" class=\"data row23 col5\" >0.1231</td>\n",
       "      <td id=\"T_d8c05_row23_col6\" class=\"data row23 col6\" >0.1173</td>\n",
       "      <td id=\"T_d8c05_row23_col7\" class=\"data row23 col7\" >-18.0922</td>\n",
       "      <td id=\"T_d8c05_row23_col8\" class=\"data row23 col8\" >0.4833</td>\n",
       "    </tr>\n",
       "    <tr>\n",
       "      <th id=\"T_d8c05_level0_row24\" class=\"row_heading level0 row24\" >croston</th>\n",
       "      <td id=\"T_d8c05_row24_col0\" class=\"data row24 col0\" >Croston</td>\n",
       "      <td id=\"T_d8c05_row24_col1\" class=\"data row24 col1\" >1.5062</td>\n",
       "      <td id=\"T_d8c05_row24_col2\" class=\"data row24 col2\" >1.4759</td>\n",
       "      <td id=\"T_d8c05_row24_col3\" class=\"data row24 col3\" >18.0935</td>\n",
       "      <td id=\"T_d8c05_row24_col4\" class=\"data row24 col4\" >18.9467</td>\n",
       "      <td id=\"T_d8c05_row24_col5\" class=\"data row24 col5\" >0.1264</td>\n",
       "      <td id=\"T_d8c05_row24_col6\" class=\"data row24 col6\" >0.1161</td>\n",
       "      <td id=\"T_d8c05_row24_col7\" class=\"data row24 col7\" >-11.8383</td>\n",
       "      <td id=\"T_d8c05_row24_col8\" class=\"data row24 col8\" >0.3833</td>\n",
       "    </tr>\n",
       "    <tr>\n",
       "      <th id=\"T_d8c05_level0_row25\" class=\"row_heading level0 row25\" >bats</th>\n",
       "      <td id=\"T_d8c05_row25_col0\" class=\"data row25 col0\" >BATS</td>\n",
       "      <td id=\"T_d8c05_row25_col1\" class=\"data row25 col1\" >1.9234</td>\n",
       "      <td id=\"T_d8c05_row25_col2\" class=\"data row25 col2\" >1.8886</td>\n",
       "      <td id=\"T_d8c05_row25_col3\" class=\"data row25 col3\" >22.5732</td>\n",
       "      <td id=\"T_d8c05_row25_col4\" class=\"data row25 col4\" >23.4481</td>\n",
       "      <td id=\"T_d8c05_row25_col5\" class=\"data row25 col5\" >0.1524</td>\n",
       "      <td id=\"T_d8c05_row25_col6\" class=\"data row25 col6\" >0.1511</td>\n",
       "      <td id=\"T_d8c05_row25_col7\" class=\"data row25 col7\" >-49.0917</td>\n",
       "      <td id=\"T_d8c05_row25_col8\" class=\"data row25 col8\" >1.1367</td>\n",
       "    </tr>\n",
       "    <tr>\n",
       "      <th id=\"T_d8c05_level0_row26\" class=\"row_heading level0 row26\" >tbats</th>\n",
       "      <td id=\"T_d8c05_row26_col0\" class=\"data row26 col0\" >TBATS</td>\n",
       "      <td id=\"T_d8c05_row26_col1\" class=\"data row26 col1\" >1.9234</td>\n",
       "      <td id=\"T_d8c05_row26_col2\" class=\"data row26 col2\" >1.8886</td>\n",
       "      <td id=\"T_d8c05_row26_col3\" class=\"data row26 col3\" >22.5732</td>\n",
       "      <td id=\"T_d8c05_row26_col4\" class=\"data row26 col4\" >23.4481</td>\n",
       "      <td id=\"T_d8c05_row26_col5\" class=\"data row26 col5\" >0.1524</td>\n",
       "      <td id=\"T_d8c05_row26_col6\" class=\"data row26 col6\" >0.1511</td>\n",
       "      <td id=\"T_d8c05_row26_col7\" class=\"data row26 col7\" >-49.0917</td>\n",
       "      <td id=\"T_d8c05_row26_col8\" class=\"data row26 col8\" >2.3833</td>\n",
       "    </tr>\n",
       "  </tbody>\n",
       "</table>\n"
      ],
      "text/plain": [
       "<pandas.io.formats.style.Styler at 0x7fdff06ed370>"
      ]
     },
     "metadata": {},
     "output_type": "display_data"
    },
    {
     "data": {
      "text/html": [],
      "text/plain": [
       "<IPython.core.display.HTML object>"
      ]
     },
     "metadata": {},
     "output_type": "display_data"
    },
    {
     "name": "stdout",
     "output_type": "stream",
     "text": [
      "\t y_train: [Period('2022-01', 'M') Period('2022-02', 'M') Period('2022-03', 'M')\n",
      " Period('2022-04', 'M') Period('2022-05', 'M') Period('2022-06', 'M')],\n",
      "\t y_test: [Period('2022-07', 'M') Period('2022-08', 'M')]\n",
      "\t y_train: [Period('2022-01', 'M') Period('2022-02', 'M') Period('2022-03', 'M')\n",
      " Period('2022-04', 'M') Period('2022-05', 'M') Period('2022-06', 'M')\n",
      " Period('2022-07', 'M') Period('2022-08', 'M')],\n",
      "\t y_test: [Period('2022-09', 'M') Period('2022-10', 'M')]\n",
      "\t y_pred: ['2022-07-31T00:00:00.000000000' '2022-08-31T00:00:00.000000000']\n",
      "\t y_pred: ['2022-09-30T00:00:00.000000000' '2022-10-31T00:00:00.000000000']\n",
      "\t y_train: [Period('2022-01', 'M') Period('2022-02', 'M') Period('2022-03', 'M')\n",
      " Period('2022-04', 'M')],\n",
      "\t y_test: [Period('2022-05', 'M') Period('2022-06', 'M')]\n",
      "\t y_pred: ['2022-05-31T00:00:00.000000000' '2022-06-30T00:00:00.000000000']\n",
      "\t y_train: [Period('2022-01', 'M') Period('2022-02', 'M') Period('2022-03', 'M')\n",
      " Period('2022-04', 'M')],\n",
      "\t y_test: [Period('2022-05', 'M') Period('2022-06', 'M')]\n",
      "\t y_pred: ['2022-05-31T00:00:00.000000000' '2022-06-30T00:00:00.000000000']\n",
      "\t y_train: [Period('2022-01', 'M') Period('2022-02', 'M') Period('2022-03', 'M')\n",
      " Period('2022-04', 'M') Period('2022-05', 'M') Period('2022-06', 'M')],\n",
      "\t y_test: [Period('2022-07', 'M') Period('2022-08', 'M')]\n",
      "\t y_pred: ['2022-07-31T00:00:00.000000000' '2022-08-31T00:00:00.000000000']\n",
      "\t y_train: [Period('2022-01', 'M') Period('2022-02', 'M') Period('2022-03', 'M')\n",
      " Period('2022-04', 'M') Period('2022-05', 'M') Period('2022-06', 'M')\n",
      " Period('2022-07', 'M') Period('2022-08', 'M')],\n",
      "\t y_test: [Period('2022-09', 'M') Period('2022-10', 'M')]\n",
      "\t y_pred: ['2022-09-30T00:00:00.000000000' '2022-10-31T00:00:00.000000000']\n"
     ]
    }
   ],
   "source": [
    "top10 = compare_models(\n",
    "    turbo=False,\n",
    "    n_select=10,\n",
    "    sort='RMSE'\n",
    ")"
   ]
  },
  {
   "cell_type": "code",
   "execution_count": 14,
   "metadata": {},
   "outputs": [
    {
     "data": {
      "application/vnd.plotly.v1+json": {
       "config": {
        "plotlyServerURL": "https://plot.ly"
       },
       "data": [
        {
         "line": {
          "color": "#1f77b4"
         },
         "marker": {
          "size": 5
         },
         "mode": "lines+markers",
         "name": "Forecast | Grand Means Forecaster",
         "showlegend": true,
         "type": "scatter",
         "x": [
          "2022-11-01T00:00:00",
          "2022-12-01T00:00:00"
         ],
         "y": [
          156.3636,
          156.3636
         ]
        },
        {
         "line": {
          "width": 0
         },
         "marker": {
          "color": "#68BBE3"
         },
         "mode": "lines",
         "name": "Lower Interval",
         "showlegend": false,
         "type": "scatter",
         "x": [
          "2022-11-01T00:00:00",
          "2022-12-01T00:00:00"
         ],
         "y": [
          135.0964,
          135.0964
         ]
        },
        {
         "fill": "tonexty",
         "fillcolor": "rgba(104,187,227,0.5)",
         "line": {
          "width": 0
         },
         "marker": {
          "color": "#68BBE3"
         },
         "mode": "lines",
         "name": "Prediction Interval | Grand Means Forecaster",
         "showlegend": true,
         "type": "scatter",
         "x": [
          "2022-11-01T00:00:00",
          "2022-12-01T00:00:00"
         ],
         "y": [
          177.6307,
          177.6307
         ]
        },
        {
         "marker": {
          "color": "#3f3f3f",
          "size": 5
         },
         "mode": "lines+markers",
         "name": "Original",
         "showlegend": true,
         "type": "scatter",
         "x": [
          "2022-01-01T00:00:00",
          "2022-02-01T00:00:00",
          "2022-03-01T00:00:00",
          "2022-04-01T00:00:00",
          "2022-05-01T00:00:00",
          "2022-06-01T00:00:00",
          "2022-07-01T00:00:00",
          "2022-08-01T00:00:00",
          "2022-09-01T00:00:00",
          "2022-10-01T00:00:00",
          "2022-11-01T00:00:00",
          "2022-12-01T00:00:00"
         ],
         "y": [
          173.771469,
          164.376373,
          173.823639,
          156.940002,
          148.38739,
          136.304245,
          162.015808,
          156.959625,
          137.971115,
          153.086044,
          148.029999,
          129.929993
         ]
        }
       ],
       "layout": {
        "showlegend": true,
        "template": {
         "data": {
          "bar": [
           {
            "error_x": {
             "color": "rgb(51,51,51)"
            },
            "error_y": {
             "color": "rgb(51,51,51)"
            },
            "marker": {
             "line": {
              "color": "rgb(237,237,237)",
              "width": 0.5
             },
             "pattern": {
              "fillmode": "overlay",
              "size": 10,
              "solidity": 0.2
             }
            },
            "type": "bar"
           }
          ],
          "barpolar": [
           {
            "marker": {
             "line": {
              "color": "rgb(237,237,237)",
              "width": 0.5
             },
             "pattern": {
              "fillmode": "overlay",
              "size": 10,
              "solidity": 0.2
             }
            },
            "type": "barpolar"
           }
          ],
          "carpet": [
           {
            "aaxis": {
             "endlinecolor": "rgb(51,51,51)",
             "gridcolor": "white",
             "linecolor": "white",
             "minorgridcolor": "white",
             "startlinecolor": "rgb(51,51,51)"
            },
            "baxis": {
             "endlinecolor": "rgb(51,51,51)",
             "gridcolor": "white",
             "linecolor": "white",
             "minorgridcolor": "white",
             "startlinecolor": "rgb(51,51,51)"
            },
            "type": "carpet"
           }
          ],
          "choropleth": [
           {
            "colorbar": {
             "outlinewidth": 0,
             "tickcolor": "rgb(237,237,237)",
             "ticklen": 6,
             "ticks": "inside"
            },
            "type": "choropleth"
           }
          ],
          "contour": [
           {
            "colorbar": {
             "outlinewidth": 0,
             "tickcolor": "rgb(237,237,237)",
             "ticklen": 6,
             "ticks": "inside"
            },
            "colorscale": [
             [
              0,
              "rgb(20,44,66)"
             ],
             [
              1,
              "rgb(90,179,244)"
             ]
            ],
            "type": "contour"
           }
          ],
          "contourcarpet": [
           {
            "colorbar": {
             "outlinewidth": 0,
             "tickcolor": "rgb(237,237,237)",
             "ticklen": 6,
             "ticks": "inside"
            },
            "type": "contourcarpet"
           }
          ],
          "heatmap": [
           {
            "colorbar": {
             "outlinewidth": 0,
             "tickcolor": "rgb(237,237,237)",
             "ticklen": 6,
             "ticks": "inside"
            },
            "colorscale": [
             [
              0,
              "rgb(20,44,66)"
             ],
             [
              1,
              "rgb(90,179,244)"
             ]
            ],
            "type": "heatmap"
           }
          ],
          "heatmapgl": [
           {
            "colorbar": {
             "outlinewidth": 0,
             "tickcolor": "rgb(237,237,237)",
             "ticklen": 6,
             "ticks": "inside"
            },
            "colorscale": [
             [
              0,
              "rgb(20,44,66)"
             ],
             [
              1,
              "rgb(90,179,244)"
             ]
            ],
            "type": "heatmapgl"
           }
          ],
          "histogram": [
           {
            "marker": {
             "pattern": {
              "fillmode": "overlay",
              "size": 10,
              "solidity": 0.2
             }
            },
            "type": "histogram"
           }
          ],
          "histogram2d": [
           {
            "colorbar": {
             "outlinewidth": 0,
             "tickcolor": "rgb(237,237,237)",
             "ticklen": 6,
             "ticks": "inside"
            },
            "colorscale": [
             [
              0,
              "rgb(20,44,66)"
             ],
             [
              1,
              "rgb(90,179,244)"
             ]
            ],
            "type": "histogram2d"
           }
          ],
          "histogram2dcontour": [
           {
            "colorbar": {
             "outlinewidth": 0,
             "tickcolor": "rgb(237,237,237)",
             "ticklen": 6,
             "ticks": "inside"
            },
            "colorscale": [
             [
              0,
              "rgb(20,44,66)"
             ],
             [
              1,
              "rgb(90,179,244)"
             ]
            ],
            "type": "histogram2dcontour"
           }
          ],
          "mesh3d": [
           {
            "colorbar": {
             "outlinewidth": 0,
             "tickcolor": "rgb(237,237,237)",
             "ticklen": 6,
             "ticks": "inside"
            },
            "type": "mesh3d"
           }
          ],
          "parcoords": [
           {
            "line": {
             "colorbar": {
              "outlinewidth": 0,
              "tickcolor": "rgb(237,237,237)",
              "ticklen": 6,
              "ticks": "inside"
             }
            },
            "type": "parcoords"
           }
          ],
          "pie": [
           {
            "automargin": true,
            "type": "pie"
           }
          ],
          "scatter": [
           {
            "fillpattern": {
             "fillmode": "overlay",
             "size": 10,
             "solidity": 0.2
            },
            "type": "scatter"
           }
          ],
          "scatter3d": [
           {
            "line": {
             "colorbar": {
              "outlinewidth": 0,
              "tickcolor": "rgb(237,237,237)",
              "ticklen": 6,
              "ticks": "inside"
             }
            },
            "marker": {
             "colorbar": {
              "outlinewidth": 0,
              "tickcolor": "rgb(237,237,237)",
              "ticklen": 6,
              "ticks": "inside"
             }
            },
            "type": "scatter3d"
           }
          ],
          "scattercarpet": [
           {
            "marker": {
             "colorbar": {
              "outlinewidth": 0,
              "tickcolor": "rgb(237,237,237)",
              "ticklen": 6,
              "ticks": "inside"
             }
            },
            "type": "scattercarpet"
           }
          ],
          "scattergeo": [
           {
            "marker": {
             "colorbar": {
              "outlinewidth": 0,
              "tickcolor": "rgb(237,237,237)",
              "ticklen": 6,
              "ticks": "inside"
             }
            },
            "type": "scattergeo"
           }
          ],
          "scattergl": [
           {
            "marker": {
             "colorbar": {
              "outlinewidth": 0,
              "tickcolor": "rgb(237,237,237)",
              "ticklen": 6,
              "ticks": "inside"
             }
            },
            "type": "scattergl"
           }
          ],
          "scattermapbox": [
           {
            "marker": {
             "colorbar": {
              "outlinewidth": 0,
              "tickcolor": "rgb(237,237,237)",
              "ticklen": 6,
              "ticks": "inside"
             }
            },
            "type": "scattermapbox"
           }
          ],
          "scatterpolar": [
           {
            "marker": {
             "colorbar": {
              "outlinewidth": 0,
              "tickcolor": "rgb(237,237,237)",
              "ticklen": 6,
              "ticks": "inside"
             }
            },
            "type": "scatterpolar"
           }
          ],
          "scatterpolargl": [
           {
            "marker": {
             "colorbar": {
              "outlinewidth": 0,
              "tickcolor": "rgb(237,237,237)",
              "ticklen": 6,
              "ticks": "inside"
             }
            },
            "type": "scatterpolargl"
           }
          ],
          "scatterternary": [
           {
            "marker": {
             "colorbar": {
              "outlinewidth": 0,
              "tickcolor": "rgb(237,237,237)",
              "ticklen": 6,
              "ticks": "inside"
             }
            },
            "type": "scatterternary"
           }
          ],
          "surface": [
           {
            "colorbar": {
             "outlinewidth": 0,
             "tickcolor": "rgb(237,237,237)",
             "ticklen": 6,
             "ticks": "inside"
            },
            "colorscale": [
             [
              0,
              "rgb(20,44,66)"
             ],
             [
              1,
              "rgb(90,179,244)"
             ]
            ],
            "type": "surface"
           }
          ],
          "table": [
           {
            "cells": {
             "fill": {
              "color": "rgb(237,237,237)"
             },
             "line": {
              "color": "white"
             }
            },
            "header": {
             "fill": {
              "color": "rgb(217,217,217)"
             },
             "line": {
              "color": "white"
             }
            },
            "type": "table"
           }
          ]
         },
         "layout": {
          "annotationdefaults": {
           "arrowhead": 0,
           "arrowwidth": 1
          },
          "autotypenumbers": "strict",
          "coloraxis": {
           "colorbar": {
            "outlinewidth": 0,
            "tickcolor": "rgb(237,237,237)",
            "ticklen": 6,
            "ticks": "inside"
           }
          },
          "colorscale": {
           "sequential": [
            [
             0,
             "rgb(20,44,66)"
            ],
            [
             1,
             "rgb(90,179,244)"
            ]
           ],
           "sequentialminus": [
            [
             0,
             "rgb(20,44,66)"
            ],
            [
             1,
             "rgb(90,179,244)"
            ]
           ]
          },
          "colorway": [
           "#F8766D",
           "#A3A500",
           "#00BF7D",
           "#00B0F6",
           "#E76BF3"
          ],
          "font": {
           "color": "rgb(51,51,51)"
          },
          "geo": {
           "bgcolor": "white",
           "lakecolor": "white",
           "landcolor": "rgb(237,237,237)",
           "showlakes": true,
           "showland": true,
           "subunitcolor": "white"
          },
          "hoverlabel": {
           "align": "left"
          },
          "hovermode": "closest",
          "paper_bgcolor": "white",
          "plot_bgcolor": "rgb(237,237,237)",
          "polar": {
           "angularaxis": {
            "gridcolor": "white",
            "linecolor": "white",
            "showgrid": true,
            "tickcolor": "rgb(51,51,51)",
            "ticks": "outside"
           },
           "bgcolor": "rgb(237,237,237)",
           "radialaxis": {
            "gridcolor": "white",
            "linecolor": "white",
            "showgrid": true,
            "tickcolor": "rgb(51,51,51)",
            "ticks": "outside"
           }
          },
          "scene": {
           "xaxis": {
            "backgroundcolor": "rgb(237,237,237)",
            "gridcolor": "white",
            "gridwidth": 2,
            "linecolor": "white",
            "showbackground": true,
            "showgrid": true,
            "tickcolor": "rgb(51,51,51)",
            "ticks": "outside",
            "zerolinecolor": "white"
           },
           "yaxis": {
            "backgroundcolor": "rgb(237,237,237)",
            "gridcolor": "white",
            "gridwidth": 2,
            "linecolor": "white",
            "showbackground": true,
            "showgrid": true,
            "tickcolor": "rgb(51,51,51)",
            "ticks": "outside",
            "zerolinecolor": "white"
           },
           "zaxis": {
            "backgroundcolor": "rgb(237,237,237)",
            "gridcolor": "white",
            "gridwidth": 2,
            "linecolor": "white",
            "showbackground": true,
            "showgrid": true,
            "tickcolor": "rgb(51,51,51)",
            "ticks": "outside",
            "zerolinecolor": "white"
           }
          },
          "shapedefaults": {
           "fillcolor": "black",
           "line": {
            "width": 0
           },
           "opacity": 0.3
          },
          "ternary": {
           "aaxis": {
            "gridcolor": "white",
            "linecolor": "white",
            "showgrid": true,
            "tickcolor": "rgb(51,51,51)",
            "ticks": "outside"
           },
           "baxis": {
            "gridcolor": "white",
            "linecolor": "white",
            "showgrid": true,
            "tickcolor": "rgb(51,51,51)",
            "ticks": "outside"
           },
           "bgcolor": "rgb(237,237,237)",
           "caxis": {
            "gridcolor": "white",
            "linecolor": "white",
            "showgrid": true,
            "tickcolor": "rgb(51,51,51)",
            "ticks": "outside"
           }
          },
          "xaxis": {
           "automargin": true,
           "gridcolor": "white",
           "linecolor": "white",
           "showgrid": true,
           "tickcolor": "rgb(51,51,51)",
           "ticks": "outside",
           "title": {
            "standoff": 15
           },
           "zerolinecolor": "white"
          },
          "yaxis": {
           "automargin": true,
           "gridcolor": "white",
           "linecolor": "white",
           "showgrid": true,
           "tickcolor": "rgb(51,51,51)",
           "ticks": "outside",
           "title": {
            "standoff": 15
           },
           "zerolinecolor": "white"
          }
         }
        },
        "title": {
         "text": "Actual vs. 'Out-of-Sample' Forecast | Adj Close"
        },
        "xaxis": {
         "title": {
          "text": "Time"
         }
        },
        "yaxis": {
         "title": {
          "text": "Values"
         }
        }
       }
      }
     },
     "metadata": {},
     "output_type": "display_data"
    },
    {
     "data": {
      "application/vnd.plotly.v1+json": {
       "config": {
        "plotlyServerURL": "https://plot.ly"
       },
       "data": [
        {
         "line": {
          "color": "#1f77b4"
         },
         "marker": {
          "size": 5
         },
         "mode": "lines+markers",
         "name": "Forecast | Auto ARIMA",
         "showlegend": true,
         "type": "scatter",
         "x": [
          "2022-11-01T00:00:00",
          "2022-12-01T00:00:00"
         ],
         "y": [
          156.3636,
          156.3636
         ]
        },
        {
         "line": {
          "width": 0
         },
         "marker": {
          "color": "#68BBE3"
         },
         "mode": "lines",
         "name": "Lower Interval",
         "showlegend": false,
         "type": "scatter",
         "x": [
          "2022-11-01T00:00:00",
          "2022-12-01T00:00:00"
         ],
         "y": [
          136.0861,
          136.0861
         ]
        },
        {
         "fill": "tonexty",
         "fillcolor": "rgba(104,187,227,0.5)",
         "line": {
          "width": 0
         },
         "marker": {
          "color": "#68BBE3"
         },
         "mode": "lines",
         "name": "Prediction Interval | Auto ARIMA",
         "showlegend": true,
         "type": "scatter",
         "x": [
          "2022-11-01T00:00:00",
          "2022-12-01T00:00:00"
         ],
         "y": [
          176.641,
          176.641
         ]
        },
        {
         "marker": {
          "color": "#3f3f3f",
          "size": 5
         },
         "mode": "lines+markers",
         "name": "Original",
         "showlegend": true,
         "type": "scatter",
         "x": [
          "2022-01-01T00:00:00",
          "2022-02-01T00:00:00",
          "2022-03-01T00:00:00",
          "2022-04-01T00:00:00",
          "2022-05-01T00:00:00",
          "2022-06-01T00:00:00",
          "2022-07-01T00:00:00",
          "2022-08-01T00:00:00",
          "2022-09-01T00:00:00",
          "2022-10-01T00:00:00",
          "2022-11-01T00:00:00",
          "2022-12-01T00:00:00"
         ],
         "y": [
          173.771469,
          164.376373,
          173.823639,
          156.940002,
          148.38739,
          136.304245,
          162.015808,
          156.959625,
          137.971115,
          153.086044,
          148.029999,
          129.929993
         ]
        }
       ],
       "layout": {
        "showlegend": true,
        "template": {
         "data": {
          "bar": [
           {
            "error_x": {
             "color": "rgb(51,51,51)"
            },
            "error_y": {
             "color": "rgb(51,51,51)"
            },
            "marker": {
             "line": {
              "color": "rgb(237,237,237)",
              "width": 0.5
             },
             "pattern": {
              "fillmode": "overlay",
              "size": 10,
              "solidity": 0.2
             }
            },
            "type": "bar"
           }
          ],
          "barpolar": [
           {
            "marker": {
             "line": {
              "color": "rgb(237,237,237)",
              "width": 0.5
             },
             "pattern": {
              "fillmode": "overlay",
              "size": 10,
              "solidity": 0.2
             }
            },
            "type": "barpolar"
           }
          ],
          "carpet": [
           {
            "aaxis": {
             "endlinecolor": "rgb(51,51,51)",
             "gridcolor": "white",
             "linecolor": "white",
             "minorgridcolor": "white",
             "startlinecolor": "rgb(51,51,51)"
            },
            "baxis": {
             "endlinecolor": "rgb(51,51,51)",
             "gridcolor": "white",
             "linecolor": "white",
             "minorgridcolor": "white",
             "startlinecolor": "rgb(51,51,51)"
            },
            "type": "carpet"
           }
          ],
          "choropleth": [
           {
            "colorbar": {
             "outlinewidth": 0,
             "tickcolor": "rgb(237,237,237)",
             "ticklen": 6,
             "ticks": "inside"
            },
            "type": "choropleth"
           }
          ],
          "contour": [
           {
            "colorbar": {
             "outlinewidth": 0,
             "tickcolor": "rgb(237,237,237)",
             "ticklen": 6,
             "ticks": "inside"
            },
            "colorscale": [
             [
              0,
              "rgb(20,44,66)"
             ],
             [
              1,
              "rgb(90,179,244)"
             ]
            ],
            "type": "contour"
           }
          ],
          "contourcarpet": [
           {
            "colorbar": {
             "outlinewidth": 0,
             "tickcolor": "rgb(237,237,237)",
             "ticklen": 6,
             "ticks": "inside"
            },
            "type": "contourcarpet"
           }
          ],
          "heatmap": [
           {
            "colorbar": {
             "outlinewidth": 0,
             "tickcolor": "rgb(237,237,237)",
             "ticklen": 6,
             "ticks": "inside"
            },
            "colorscale": [
             [
              0,
              "rgb(20,44,66)"
             ],
             [
              1,
              "rgb(90,179,244)"
             ]
            ],
            "type": "heatmap"
           }
          ],
          "heatmapgl": [
           {
            "colorbar": {
             "outlinewidth": 0,
             "tickcolor": "rgb(237,237,237)",
             "ticklen": 6,
             "ticks": "inside"
            },
            "colorscale": [
             [
              0,
              "rgb(20,44,66)"
             ],
             [
              1,
              "rgb(90,179,244)"
             ]
            ],
            "type": "heatmapgl"
           }
          ],
          "histogram": [
           {
            "marker": {
             "pattern": {
              "fillmode": "overlay",
              "size": 10,
              "solidity": 0.2
             }
            },
            "type": "histogram"
           }
          ],
          "histogram2d": [
           {
            "colorbar": {
             "outlinewidth": 0,
             "tickcolor": "rgb(237,237,237)",
             "ticklen": 6,
             "ticks": "inside"
            },
            "colorscale": [
             [
              0,
              "rgb(20,44,66)"
             ],
             [
              1,
              "rgb(90,179,244)"
             ]
            ],
            "type": "histogram2d"
           }
          ],
          "histogram2dcontour": [
           {
            "colorbar": {
             "outlinewidth": 0,
             "tickcolor": "rgb(237,237,237)",
             "ticklen": 6,
             "ticks": "inside"
            },
            "colorscale": [
             [
              0,
              "rgb(20,44,66)"
             ],
             [
              1,
              "rgb(90,179,244)"
             ]
            ],
            "type": "histogram2dcontour"
           }
          ],
          "mesh3d": [
           {
            "colorbar": {
             "outlinewidth": 0,
             "tickcolor": "rgb(237,237,237)",
             "ticklen": 6,
             "ticks": "inside"
            },
            "type": "mesh3d"
           }
          ],
          "parcoords": [
           {
            "line": {
             "colorbar": {
              "outlinewidth": 0,
              "tickcolor": "rgb(237,237,237)",
              "ticklen": 6,
              "ticks": "inside"
             }
            },
            "type": "parcoords"
           }
          ],
          "pie": [
           {
            "automargin": true,
            "type": "pie"
           }
          ],
          "scatter": [
           {
            "fillpattern": {
             "fillmode": "overlay",
             "size": 10,
             "solidity": 0.2
            },
            "type": "scatter"
           }
          ],
          "scatter3d": [
           {
            "line": {
             "colorbar": {
              "outlinewidth": 0,
              "tickcolor": "rgb(237,237,237)",
              "ticklen": 6,
              "ticks": "inside"
             }
            },
            "marker": {
             "colorbar": {
              "outlinewidth": 0,
              "tickcolor": "rgb(237,237,237)",
              "ticklen": 6,
              "ticks": "inside"
             }
            },
            "type": "scatter3d"
           }
          ],
          "scattercarpet": [
           {
            "marker": {
             "colorbar": {
              "outlinewidth": 0,
              "tickcolor": "rgb(237,237,237)",
              "ticklen": 6,
              "ticks": "inside"
             }
            },
            "type": "scattercarpet"
           }
          ],
          "scattergeo": [
           {
            "marker": {
             "colorbar": {
              "outlinewidth": 0,
              "tickcolor": "rgb(237,237,237)",
              "ticklen": 6,
              "ticks": "inside"
             }
            },
            "type": "scattergeo"
           }
          ],
          "scattergl": [
           {
            "marker": {
             "colorbar": {
              "outlinewidth": 0,
              "tickcolor": "rgb(237,237,237)",
              "ticklen": 6,
              "ticks": "inside"
             }
            },
            "type": "scattergl"
           }
          ],
          "scattermapbox": [
           {
            "marker": {
             "colorbar": {
              "outlinewidth": 0,
              "tickcolor": "rgb(237,237,237)",
              "ticklen": 6,
              "ticks": "inside"
             }
            },
            "type": "scattermapbox"
           }
          ],
          "scatterpolar": [
           {
            "marker": {
             "colorbar": {
              "outlinewidth": 0,
              "tickcolor": "rgb(237,237,237)",
              "ticklen": 6,
              "ticks": "inside"
             }
            },
            "type": "scatterpolar"
           }
          ],
          "scatterpolargl": [
           {
            "marker": {
             "colorbar": {
              "outlinewidth": 0,
              "tickcolor": "rgb(237,237,237)",
              "ticklen": 6,
              "ticks": "inside"
             }
            },
            "type": "scatterpolargl"
           }
          ],
          "scatterternary": [
           {
            "marker": {
             "colorbar": {
              "outlinewidth": 0,
              "tickcolor": "rgb(237,237,237)",
              "ticklen": 6,
              "ticks": "inside"
             }
            },
            "type": "scatterternary"
           }
          ],
          "surface": [
           {
            "colorbar": {
             "outlinewidth": 0,
             "tickcolor": "rgb(237,237,237)",
             "ticklen": 6,
             "ticks": "inside"
            },
            "colorscale": [
             [
              0,
              "rgb(20,44,66)"
             ],
             [
              1,
              "rgb(90,179,244)"
             ]
            ],
            "type": "surface"
           }
          ],
          "table": [
           {
            "cells": {
             "fill": {
              "color": "rgb(237,237,237)"
             },
             "line": {
              "color": "white"
             }
            },
            "header": {
             "fill": {
              "color": "rgb(217,217,217)"
             },
             "line": {
              "color": "white"
             }
            },
            "type": "table"
           }
          ]
         },
         "layout": {
          "annotationdefaults": {
           "arrowhead": 0,
           "arrowwidth": 1
          },
          "autotypenumbers": "strict",
          "coloraxis": {
           "colorbar": {
            "outlinewidth": 0,
            "tickcolor": "rgb(237,237,237)",
            "ticklen": 6,
            "ticks": "inside"
           }
          },
          "colorscale": {
           "sequential": [
            [
             0,
             "rgb(20,44,66)"
            ],
            [
             1,
             "rgb(90,179,244)"
            ]
           ],
           "sequentialminus": [
            [
             0,
             "rgb(20,44,66)"
            ],
            [
             1,
             "rgb(90,179,244)"
            ]
           ]
          },
          "colorway": [
           "#F8766D",
           "#A3A500",
           "#00BF7D",
           "#00B0F6",
           "#E76BF3"
          ],
          "font": {
           "color": "rgb(51,51,51)"
          },
          "geo": {
           "bgcolor": "white",
           "lakecolor": "white",
           "landcolor": "rgb(237,237,237)",
           "showlakes": true,
           "showland": true,
           "subunitcolor": "white"
          },
          "hoverlabel": {
           "align": "left"
          },
          "hovermode": "closest",
          "paper_bgcolor": "white",
          "plot_bgcolor": "rgb(237,237,237)",
          "polar": {
           "angularaxis": {
            "gridcolor": "white",
            "linecolor": "white",
            "showgrid": true,
            "tickcolor": "rgb(51,51,51)",
            "ticks": "outside"
           },
           "bgcolor": "rgb(237,237,237)",
           "radialaxis": {
            "gridcolor": "white",
            "linecolor": "white",
            "showgrid": true,
            "tickcolor": "rgb(51,51,51)",
            "ticks": "outside"
           }
          },
          "scene": {
           "xaxis": {
            "backgroundcolor": "rgb(237,237,237)",
            "gridcolor": "white",
            "gridwidth": 2,
            "linecolor": "white",
            "showbackground": true,
            "showgrid": true,
            "tickcolor": "rgb(51,51,51)",
            "ticks": "outside",
            "zerolinecolor": "white"
           },
           "yaxis": {
            "backgroundcolor": "rgb(237,237,237)",
            "gridcolor": "white",
            "gridwidth": 2,
            "linecolor": "white",
            "showbackground": true,
            "showgrid": true,
            "tickcolor": "rgb(51,51,51)",
            "ticks": "outside",
            "zerolinecolor": "white"
           },
           "zaxis": {
            "backgroundcolor": "rgb(237,237,237)",
            "gridcolor": "white",
            "gridwidth": 2,
            "linecolor": "white",
            "showbackground": true,
            "showgrid": true,
            "tickcolor": "rgb(51,51,51)",
            "ticks": "outside",
            "zerolinecolor": "white"
           }
          },
          "shapedefaults": {
           "fillcolor": "black",
           "line": {
            "width": 0
           },
           "opacity": 0.3
          },
          "ternary": {
           "aaxis": {
            "gridcolor": "white",
            "linecolor": "white",
            "showgrid": true,
            "tickcolor": "rgb(51,51,51)",
            "ticks": "outside"
           },
           "baxis": {
            "gridcolor": "white",
            "linecolor": "white",
            "showgrid": true,
            "tickcolor": "rgb(51,51,51)",
            "ticks": "outside"
           },
           "bgcolor": "rgb(237,237,237)",
           "caxis": {
            "gridcolor": "white",
            "linecolor": "white",
            "showgrid": true,
            "tickcolor": "rgb(51,51,51)",
            "ticks": "outside"
           }
          },
          "xaxis": {
           "automargin": true,
           "gridcolor": "white",
           "linecolor": "white",
           "showgrid": true,
           "tickcolor": "rgb(51,51,51)",
           "ticks": "outside",
           "title": {
            "standoff": 15
           },
           "zerolinecolor": "white"
          },
          "yaxis": {
           "automargin": true,
           "gridcolor": "white",
           "linecolor": "white",
           "showgrid": true,
           "tickcolor": "rgb(51,51,51)",
           "ticks": "outside",
           "title": {
            "standoff": 15
           },
           "zerolinecolor": "white"
          }
         }
        },
        "title": {
         "text": "Actual vs. 'Out-of-Sample' Forecast | Adj Close"
        },
        "xaxis": {
         "title": {
          "text": "Time"
         }
        },
        "yaxis": {
         "title": {
          "text": "Values"
         }
        }
       }
      }
     },
     "metadata": {},
     "output_type": "display_data"
    },
    {
     "data": {
      "application/vnd.plotly.v1+json": {
       "config": {
        "plotlyServerURL": "https://plot.ly"
       },
       "data": [
        {
         "line": {
          "color": "rgb(31, 119, 180)",
          "width": 2
         },
         "marker": {
          "color": "rgb(31, 119, 180)",
          "size": 5
         },
         "mode": "lines+markers",
         "name": "Adj Close",
         "type": "scattergl",
         "x": [
          "2022-01-01T00:00:00",
          "2022-02-01T00:00:00",
          "2022-03-01T00:00:00",
          "2022-04-01T00:00:00",
          "2022-05-01T00:00:00",
          "2022-06-01T00:00:00",
          "2022-07-01T00:00:00",
          "2022-08-01T00:00:00",
          "2022-09-01T00:00:00",
          "2022-10-01T00:00:00",
          "2022-11-01T00:00:00",
          "2022-12-01T00:00:00"
         ],
         "xaxis": "x",
         "y": [
          173.771469,
          164.376373,
          173.823639,
          156.940002,
          148.38739,
          136.304245,
          162.015808,
          156.959625,
          137.971115,
          153.086044,
          148.029999,
          129.929993
         ],
         "yaxis": "y"
        },
        {
         "line": {
          "color": "rgb(255, 127, 14)",
          "width": 2
         },
         "marker": {
          "color": "rgb(255, 127, 14)",
          "size": 5
         },
         "mode": "lines+markers",
         "name": "RandomForestRegressor",
         "type": "scattergl",
         "x": [
          "2022-01-01T00:00:00",
          "2022-02-01T00:00:00",
          "2022-03-01T00:00:00",
          "2022-04-01T00:00:00",
          "2022-05-01T00:00:00",
          "2022-06-01T00:00:00",
          "2022-07-01T00:00:00",
          "2022-08-01T00:00:00",
          "2022-09-01T00:00:00",
          "2022-10-01T00:00:00",
          "2022-11-01T00:00:00",
          "2022-12-01T00:00:00"
         ],
         "xaxis": "x",
         "y": [
          null,
          null,
          null,
          null,
          null,
          null,
          null,
          null,
          null,
          null,
          144.7591,
          135.5632
         ],
         "yaxis": "y"
        }
       ],
       "layout": {
        "showlegend": true,
        "template": {
         "data": {
          "bar": [
           {
            "error_x": {
             "color": "rgb(51,51,51)"
            },
            "error_y": {
             "color": "rgb(51,51,51)"
            },
            "marker": {
             "line": {
              "color": "rgb(237,237,237)",
              "width": 0.5
             },
             "pattern": {
              "fillmode": "overlay",
              "size": 10,
              "solidity": 0.2
             }
            },
            "type": "bar"
           }
          ],
          "barpolar": [
           {
            "marker": {
             "line": {
              "color": "rgb(237,237,237)",
              "width": 0.5
             },
             "pattern": {
              "fillmode": "overlay",
              "size": 10,
              "solidity": 0.2
             }
            },
            "type": "barpolar"
           }
          ],
          "carpet": [
           {
            "aaxis": {
             "endlinecolor": "rgb(51,51,51)",
             "gridcolor": "white",
             "linecolor": "white",
             "minorgridcolor": "white",
             "startlinecolor": "rgb(51,51,51)"
            },
            "baxis": {
             "endlinecolor": "rgb(51,51,51)",
             "gridcolor": "white",
             "linecolor": "white",
             "minorgridcolor": "white",
             "startlinecolor": "rgb(51,51,51)"
            },
            "type": "carpet"
           }
          ],
          "choropleth": [
           {
            "colorbar": {
             "outlinewidth": 0,
             "tickcolor": "rgb(237,237,237)",
             "ticklen": 6,
             "ticks": "inside"
            },
            "type": "choropleth"
           }
          ],
          "contour": [
           {
            "colorbar": {
             "outlinewidth": 0,
             "tickcolor": "rgb(237,237,237)",
             "ticklen": 6,
             "ticks": "inside"
            },
            "colorscale": [
             [
              0,
              "rgb(20,44,66)"
             ],
             [
              1,
              "rgb(90,179,244)"
             ]
            ],
            "type": "contour"
           }
          ],
          "contourcarpet": [
           {
            "colorbar": {
             "outlinewidth": 0,
             "tickcolor": "rgb(237,237,237)",
             "ticklen": 6,
             "ticks": "inside"
            },
            "type": "contourcarpet"
           }
          ],
          "heatmap": [
           {
            "colorbar": {
             "outlinewidth": 0,
             "tickcolor": "rgb(237,237,237)",
             "ticklen": 6,
             "ticks": "inside"
            },
            "colorscale": [
             [
              0,
              "rgb(20,44,66)"
             ],
             [
              1,
              "rgb(90,179,244)"
             ]
            ],
            "type": "heatmap"
           }
          ],
          "heatmapgl": [
           {
            "colorbar": {
             "outlinewidth": 0,
             "tickcolor": "rgb(237,237,237)",
             "ticklen": 6,
             "ticks": "inside"
            },
            "colorscale": [
             [
              0,
              "rgb(20,44,66)"
             ],
             [
              1,
              "rgb(90,179,244)"
             ]
            ],
            "type": "heatmapgl"
           }
          ],
          "histogram": [
           {
            "marker": {
             "pattern": {
              "fillmode": "overlay",
              "size": 10,
              "solidity": 0.2
             }
            },
            "type": "histogram"
           }
          ],
          "histogram2d": [
           {
            "colorbar": {
             "outlinewidth": 0,
             "tickcolor": "rgb(237,237,237)",
             "ticklen": 6,
             "ticks": "inside"
            },
            "colorscale": [
             [
              0,
              "rgb(20,44,66)"
             ],
             [
              1,
              "rgb(90,179,244)"
             ]
            ],
            "type": "histogram2d"
           }
          ],
          "histogram2dcontour": [
           {
            "colorbar": {
             "outlinewidth": 0,
             "tickcolor": "rgb(237,237,237)",
             "ticklen": 6,
             "ticks": "inside"
            },
            "colorscale": [
             [
              0,
              "rgb(20,44,66)"
             ],
             [
              1,
              "rgb(90,179,244)"
             ]
            ],
            "type": "histogram2dcontour"
           }
          ],
          "mesh3d": [
           {
            "colorbar": {
             "outlinewidth": 0,
             "tickcolor": "rgb(237,237,237)",
             "ticklen": 6,
             "ticks": "inside"
            },
            "type": "mesh3d"
           }
          ],
          "parcoords": [
           {
            "line": {
             "colorbar": {
              "outlinewidth": 0,
              "tickcolor": "rgb(237,237,237)",
              "ticklen": 6,
              "ticks": "inside"
             }
            },
            "type": "parcoords"
           }
          ],
          "pie": [
           {
            "automargin": true,
            "type": "pie"
           }
          ],
          "scatter": [
           {
            "fillpattern": {
             "fillmode": "overlay",
             "size": 10,
             "solidity": 0.2
            },
            "type": "scatter"
           }
          ],
          "scatter3d": [
           {
            "line": {
             "colorbar": {
              "outlinewidth": 0,
              "tickcolor": "rgb(237,237,237)",
              "ticklen": 6,
              "ticks": "inside"
             }
            },
            "marker": {
             "colorbar": {
              "outlinewidth": 0,
              "tickcolor": "rgb(237,237,237)",
              "ticklen": 6,
              "ticks": "inside"
             }
            },
            "type": "scatter3d"
           }
          ],
          "scattercarpet": [
           {
            "marker": {
             "colorbar": {
              "outlinewidth": 0,
              "tickcolor": "rgb(237,237,237)",
              "ticklen": 6,
              "ticks": "inside"
             }
            },
            "type": "scattercarpet"
           }
          ],
          "scattergeo": [
           {
            "marker": {
             "colorbar": {
              "outlinewidth": 0,
              "tickcolor": "rgb(237,237,237)",
              "ticklen": 6,
              "ticks": "inside"
             }
            },
            "type": "scattergeo"
           }
          ],
          "scattergl": [
           {
            "marker": {
             "colorbar": {
              "outlinewidth": 0,
              "tickcolor": "rgb(237,237,237)",
              "ticklen": 6,
              "ticks": "inside"
             }
            },
            "type": "scattergl"
           }
          ],
          "scattermapbox": [
           {
            "marker": {
             "colorbar": {
              "outlinewidth": 0,
              "tickcolor": "rgb(237,237,237)",
              "ticklen": 6,
              "ticks": "inside"
             }
            },
            "type": "scattermapbox"
           }
          ],
          "scatterpolar": [
           {
            "marker": {
             "colorbar": {
              "outlinewidth": 0,
              "tickcolor": "rgb(237,237,237)",
              "ticklen": 6,
              "ticks": "inside"
             }
            },
            "type": "scatterpolar"
           }
          ],
          "scatterpolargl": [
           {
            "marker": {
             "colorbar": {
              "outlinewidth": 0,
              "tickcolor": "rgb(237,237,237)",
              "ticklen": 6,
              "ticks": "inside"
             }
            },
            "type": "scatterpolargl"
           }
          ],
          "scatterternary": [
           {
            "marker": {
             "colorbar": {
              "outlinewidth": 0,
              "tickcolor": "rgb(237,237,237)",
              "ticklen": 6,
              "ticks": "inside"
             }
            },
            "type": "scatterternary"
           }
          ],
          "surface": [
           {
            "colorbar": {
             "outlinewidth": 0,
             "tickcolor": "rgb(237,237,237)",
             "ticklen": 6,
             "ticks": "inside"
            },
            "colorscale": [
             [
              0,
              "rgb(20,44,66)"
             ],
             [
              1,
              "rgb(90,179,244)"
             ]
            ],
            "type": "surface"
           }
          ],
          "table": [
           {
            "cells": {
             "fill": {
              "color": "rgb(237,237,237)"
             },
             "line": {
              "color": "white"
             }
            },
            "header": {
             "fill": {
              "color": "rgb(217,217,217)"
             },
             "line": {
              "color": "white"
             }
            },
            "type": "table"
           }
          ]
         },
         "layout": {
          "annotationdefaults": {
           "arrowhead": 0,
           "arrowwidth": 1
          },
          "autotypenumbers": "strict",
          "coloraxis": {
           "colorbar": {
            "outlinewidth": 0,
            "tickcolor": "rgb(237,237,237)",
            "ticklen": 6,
            "ticks": "inside"
           }
          },
          "colorscale": {
           "sequential": [
            [
             0,
             "rgb(20,44,66)"
            ],
            [
             1,
             "rgb(90,179,244)"
            ]
           ],
           "sequentialminus": [
            [
             0,
             "rgb(20,44,66)"
            ],
            [
             1,
             "rgb(90,179,244)"
            ]
           ]
          },
          "colorway": [
           "#F8766D",
           "#A3A500",
           "#00BF7D",
           "#00B0F6",
           "#E76BF3"
          ],
          "font": {
           "color": "rgb(51,51,51)"
          },
          "geo": {
           "bgcolor": "white",
           "lakecolor": "white",
           "landcolor": "rgb(237,237,237)",
           "showlakes": true,
           "showland": true,
           "subunitcolor": "white"
          },
          "hoverlabel": {
           "align": "left"
          },
          "hovermode": "closest",
          "paper_bgcolor": "white",
          "plot_bgcolor": "rgb(237,237,237)",
          "polar": {
           "angularaxis": {
            "gridcolor": "white",
            "linecolor": "white",
            "showgrid": true,
            "tickcolor": "rgb(51,51,51)",
            "ticks": "outside"
           },
           "bgcolor": "rgb(237,237,237)",
           "radialaxis": {
            "gridcolor": "white",
            "linecolor": "white",
            "showgrid": true,
            "tickcolor": "rgb(51,51,51)",
            "ticks": "outside"
           }
          },
          "scene": {
           "xaxis": {
            "backgroundcolor": "rgb(237,237,237)",
            "gridcolor": "white",
            "gridwidth": 2,
            "linecolor": "white",
            "showbackground": true,
            "showgrid": true,
            "tickcolor": "rgb(51,51,51)",
            "ticks": "outside",
            "zerolinecolor": "white"
           },
           "yaxis": {
            "backgroundcolor": "rgb(237,237,237)",
            "gridcolor": "white",
            "gridwidth": 2,
            "linecolor": "white",
            "showbackground": true,
            "showgrid": true,
            "tickcolor": "rgb(51,51,51)",
            "ticks": "outside",
            "zerolinecolor": "white"
           },
           "zaxis": {
            "backgroundcolor": "rgb(237,237,237)",
            "gridcolor": "white",
            "gridwidth": 2,
            "linecolor": "white",
            "showbackground": true,
            "showgrid": true,
            "tickcolor": "rgb(51,51,51)",
            "ticks": "outside",
            "zerolinecolor": "white"
           }
          },
          "shapedefaults": {
           "fillcolor": "black",
           "line": {
            "width": 0
           },
           "opacity": 0.3
          },
          "ternary": {
           "aaxis": {
            "gridcolor": "white",
            "linecolor": "white",
            "showgrid": true,
            "tickcolor": "rgb(51,51,51)",
            "ticks": "outside"
           },
           "baxis": {
            "gridcolor": "white",
            "linecolor": "white",
            "showgrid": true,
            "tickcolor": "rgb(51,51,51)",
            "ticks": "outside"
           },
           "bgcolor": "rgb(237,237,237)",
           "caxis": {
            "gridcolor": "white",
            "linecolor": "white",
            "showgrid": true,
            "tickcolor": "rgb(51,51,51)",
            "ticks": "outside"
           }
          },
          "xaxis": {
           "automargin": true,
           "gridcolor": "white",
           "linecolor": "white",
           "showgrid": true,
           "tickcolor": "rgb(51,51,51)",
           "ticks": "outside",
           "title": {
            "standoff": 15
           },
           "zerolinecolor": "white"
          },
          "yaxis": {
           "automargin": true,
           "gridcolor": "white",
           "linecolor": "white",
           "showgrid": true,
           "tickcolor": "rgb(51,51,51)",
           "ticks": "outside",
           "title": {
            "standoff": 15
           },
           "zerolinecolor": "white"
          }
         }
        },
        "title": {
         "text": "Actual vs. Forecast (Out-of-Sample)"
        },
        "xaxis": {
         "anchor": "y",
         "domain": [
          0,
          1
         ]
        },
        "yaxis": {
         "anchor": "x",
         "domain": [
          0,
          1
         ]
        }
       }
      }
     },
     "metadata": {},
     "output_type": "display_data"
    },
    {
     "data": {
      "application/vnd.plotly.v1+json": {
       "config": {
        "plotlyServerURL": "https://plot.ly"
       },
       "data": [
        {
         "line": {
          "color": "rgb(31, 119, 180)",
          "width": 2
         },
         "marker": {
          "color": "rgb(31, 119, 180)",
          "size": 5
         },
         "mode": "lines+markers",
         "name": "Adj Close",
         "type": "scattergl",
         "x": [
          "2022-01-01T00:00:00",
          "2022-02-01T00:00:00",
          "2022-03-01T00:00:00",
          "2022-04-01T00:00:00",
          "2022-05-01T00:00:00",
          "2022-06-01T00:00:00",
          "2022-07-01T00:00:00",
          "2022-08-01T00:00:00",
          "2022-09-01T00:00:00",
          "2022-10-01T00:00:00",
          "2022-11-01T00:00:00",
          "2022-12-01T00:00:00"
         ],
         "xaxis": "x",
         "y": [
          173.771469,
          164.376373,
          173.823639,
          156.940002,
          148.38739,
          136.304245,
          162.015808,
          156.959625,
          137.971115,
          153.086044,
          148.029999,
          129.929993
         ],
         "yaxis": "y"
        },
        {
         "line": {
          "color": "rgb(255, 127, 14)",
          "width": 2
         },
         "marker": {
          "color": "rgb(255, 127, 14)",
          "size": 5
         },
         "mode": "lines+markers",
         "name": "ExtraTreesRegressor",
         "type": "scattergl",
         "x": [
          "2022-01-01T00:00:00",
          "2022-02-01T00:00:00",
          "2022-03-01T00:00:00",
          "2022-04-01T00:00:00",
          "2022-05-01T00:00:00",
          "2022-06-01T00:00:00",
          "2022-07-01T00:00:00",
          "2022-08-01T00:00:00",
          "2022-09-01T00:00:00",
          "2022-10-01T00:00:00",
          "2022-11-01T00:00:00",
          "2022-12-01T00:00:00"
         ],
         "xaxis": "x",
         "y": [
          null,
          null,
          null,
          null,
          null,
          null,
          null,
          null,
          null,
          null,
          143.0513,
          142.5778
         ],
         "yaxis": "y"
        }
       ],
       "layout": {
        "showlegend": true,
        "template": {
         "data": {
          "bar": [
           {
            "error_x": {
             "color": "rgb(51,51,51)"
            },
            "error_y": {
             "color": "rgb(51,51,51)"
            },
            "marker": {
             "line": {
              "color": "rgb(237,237,237)",
              "width": 0.5
             },
             "pattern": {
              "fillmode": "overlay",
              "size": 10,
              "solidity": 0.2
             }
            },
            "type": "bar"
           }
          ],
          "barpolar": [
           {
            "marker": {
             "line": {
              "color": "rgb(237,237,237)",
              "width": 0.5
             },
             "pattern": {
              "fillmode": "overlay",
              "size": 10,
              "solidity": 0.2
             }
            },
            "type": "barpolar"
           }
          ],
          "carpet": [
           {
            "aaxis": {
             "endlinecolor": "rgb(51,51,51)",
             "gridcolor": "white",
             "linecolor": "white",
             "minorgridcolor": "white",
             "startlinecolor": "rgb(51,51,51)"
            },
            "baxis": {
             "endlinecolor": "rgb(51,51,51)",
             "gridcolor": "white",
             "linecolor": "white",
             "minorgridcolor": "white",
             "startlinecolor": "rgb(51,51,51)"
            },
            "type": "carpet"
           }
          ],
          "choropleth": [
           {
            "colorbar": {
             "outlinewidth": 0,
             "tickcolor": "rgb(237,237,237)",
             "ticklen": 6,
             "ticks": "inside"
            },
            "type": "choropleth"
           }
          ],
          "contour": [
           {
            "colorbar": {
             "outlinewidth": 0,
             "tickcolor": "rgb(237,237,237)",
             "ticklen": 6,
             "ticks": "inside"
            },
            "colorscale": [
             [
              0,
              "rgb(20,44,66)"
             ],
             [
              1,
              "rgb(90,179,244)"
             ]
            ],
            "type": "contour"
           }
          ],
          "contourcarpet": [
           {
            "colorbar": {
             "outlinewidth": 0,
             "tickcolor": "rgb(237,237,237)",
             "ticklen": 6,
             "ticks": "inside"
            },
            "type": "contourcarpet"
           }
          ],
          "heatmap": [
           {
            "colorbar": {
             "outlinewidth": 0,
             "tickcolor": "rgb(237,237,237)",
             "ticklen": 6,
             "ticks": "inside"
            },
            "colorscale": [
             [
              0,
              "rgb(20,44,66)"
             ],
             [
              1,
              "rgb(90,179,244)"
             ]
            ],
            "type": "heatmap"
           }
          ],
          "heatmapgl": [
           {
            "colorbar": {
             "outlinewidth": 0,
             "tickcolor": "rgb(237,237,237)",
             "ticklen": 6,
             "ticks": "inside"
            },
            "colorscale": [
             [
              0,
              "rgb(20,44,66)"
             ],
             [
              1,
              "rgb(90,179,244)"
             ]
            ],
            "type": "heatmapgl"
           }
          ],
          "histogram": [
           {
            "marker": {
             "pattern": {
              "fillmode": "overlay",
              "size": 10,
              "solidity": 0.2
             }
            },
            "type": "histogram"
           }
          ],
          "histogram2d": [
           {
            "colorbar": {
             "outlinewidth": 0,
             "tickcolor": "rgb(237,237,237)",
             "ticklen": 6,
             "ticks": "inside"
            },
            "colorscale": [
             [
              0,
              "rgb(20,44,66)"
             ],
             [
              1,
              "rgb(90,179,244)"
             ]
            ],
            "type": "histogram2d"
           }
          ],
          "histogram2dcontour": [
           {
            "colorbar": {
             "outlinewidth": 0,
             "tickcolor": "rgb(237,237,237)",
             "ticklen": 6,
             "ticks": "inside"
            },
            "colorscale": [
             [
              0,
              "rgb(20,44,66)"
             ],
             [
              1,
              "rgb(90,179,244)"
             ]
            ],
            "type": "histogram2dcontour"
           }
          ],
          "mesh3d": [
           {
            "colorbar": {
             "outlinewidth": 0,
             "tickcolor": "rgb(237,237,237)",
             "ticklen": 6,
             "ticks": "inside"
            },
            "type": "mesh3d"
           }
          ],
          "parcoords": [
           {
            "line": {
             "colorbar": {
              "outlinewidth": 0,
              "tickcolor": "rgb(237,237,237)",
              "ticklen": 6,
              "ticks": "inside"
             }
            },
            "type": "parcoords"
           }
          ],
          "pie": [
           {
            "automargin": true,
            "type": "pie"
           }
          ],
          "scatter": [
           {
            "fillpattern": {
             "fillmode": "overlay",
             "size": 10,
             "solidity": 0.2
            },
            "type": "scatter"
           }
          ],
          "scatter3d": [
           {
            "line": {
             "colorbar": {
              "outlinewidth": 0,
              "tickcolor": "rgb(237,237,237)",
              "ticklen": 6,
              "ticks": "inside"
             }
            },
            "marker": {
             "colorbar": {
              "outlinewidth": 0,
              "tickcolor": "rgb(237,237,237)",
              "ticklen": 6,
              "ticks": "inside"
             }
            },
            "type": "scatter3d"
           }
          ],
          "scattercarpet": [
           {
            "marker": {
             "colorbar": {
              "outlinewidth": 0,
              "tickcolor": "rgb(237,237,237)",
              "ticklen": 6,
              "ticks": "inside"
             }
            },
            "type": "scattercarpet"
           }
          ],
          "scattergeo": [
           {
            "marker": {
             "colorbar": {
              "outlinewidth": 0,
              "tickcolor": "rgb(237,237,237)",
              "ticklen": 6,
              "ticks": "inside"
             }
            },
            "type": "scattergeo"
           }
          ],
          "scattergl": [
           {
            "marker": {
             "colorbar": {
              "outlinewidth": 0,
              "tickcolor": "rgb(237,237,237)",
              "ticklen": 6,
              "ticks": "inside"
             }
            },
            "type": "scattergl"
           }
          ],
          "scattermapbox": [
           {
            "marker": {
             "colorbar": {
              "outlinewidth": 0,
              "tickcolor": "rgb(237,237,237)",
              "ticklen": 6,
              "ticks": "inside"
             }
            },
            "type": "scattermapbox"
           }
          ],
          "scatterpolar": [
           {
            "marker": {
             "colorbar": {
              "outlinewidth": 0,
              "tickcolor": "rgb(237,237,237)",
              "ticklen": 6,
              "ticks": "inside"
             }
            },
            "type": "scatterpolar"
           }
          ],
          "scatterpolargl": [
           {
            "marker": {
             "colorbar": {
              "outlinewidth": 0,
              "tickcolor": "rgb(237,237,237)",
              "ticklen": 6,
              "ticks": "inside"
             }
            },
            "type": "scatterpolargl"
           }
          ],
          "scatterternary": [
           {
            "marker": {
             "colorbar": {
              "outlinewidth": 0,
              "tickcolor": "rgb(237,237,237)",
              "ticklen": 6,
              "ticks": "inside"
             }
            },
            "type": "scatterternary"
           }
          ],
          "surface": [
           {
            "colorbar": {
             "outlinewidth": 0,
             "tickcolor": "rgb(237,237,237)",
             "ticklen": 6,
             "ticks": "inside"
            },
            "colorscale": [
             [
              0,
              "rgb(20,44,66)"
             ],
             [
              1,
              "rgb(90,179,244)"
             ]
            ],
            "type": "surface"
           }
          ],
          "table": [
           {
            "cells": {
             "fill": {
              "color": "rgb(237,237,237)"
             },
             "line": {
              "color": "white"
             }
            },
            "header": {
             "fill": {
              "color": "rgb(217,217,217)"
             },
             "line": {
              "color": "white"
             }
            },
            "type": "table"
           }
          ]
         },
         "layout": {
          "annotationdefaults": {
           "arrowhead": 0,
           "arrowwidth": 1
          },
          "autotypenumbers": "strict",
          "coloraxis": {
           "colorbar": {
            "outlinewidth": 0,
            "tickcolor": "rgb(237,237,237)",
            "ticklen": 6,
            "ticks": "inside"
           }
          },
          "colorscale": {
           "sequential": [
            [
             0,
             "rgb(20,44,66)"
            ],
            [
             1,
             "rgb(90,179,244)"
            ]
           ],
           "sequentialminus": [
            [
             0,
             "rgb(20,44,66)"
            ],
            [
             1,
             "rgb(90,179,244)"
            ]
           ]
          },
          "colorway": [
           "#F8766D",
           "#A3A500",
           "#00BF7D",
           "#00B0F6",
           "#E76BF3"
          ],
          "font": {
           "color": "rgb(51,51,51)"
          },
          "geo": {
           "bgcolor": "white",
           "lakecolor": "white",
           "landcolor": "rgb(237,237,237)",
           "showlakes": true,
           "showland": true,
           "subunitcolor": "white"
          },
          "hoverlabel": {
           "align": "left"
          },
          "hovermode": "closest",
          "paper_bgcolor": "white",
          "plot_bgcolor": "rgb(237,237,237)",
          "polar": {
           "angularaxis": {
            "gridcolor": "white",
            "linecolor": "white",
            "showgrid": true,
            "tickcolor": "rgb(51,51,51)",
            "ticks": "outside"
           },
           "bgcolor": "rgb(237,237,237)",
           "radialaxis": {
            "gridcolor": "white",
            "linecolor": "white",
            "showgrid": true,
            "tickcolor": "rgb(51,51,51)",
            "ticks": "outside"
           }
          },
          "scene": {
           "xaxis": {
            "backgroundcolor": "rgb(237,237,237)",
            "gridcolor": "white",
            "gridwidth": 2,
            "linecolor": "white",
            "showbackground": true,
            "showgrid": true,
            "tickcolor": "rgb(51,51,51)",
            "ticks": "outside",
            "zerolinecolor": "white"
           },
           "yaxis": {
            "backgroundcolor": "rgb(237,237,237)",
            "gridcolor": "white",
            "gridwidth": 2,
            "linecolor": "white",
            "showbackground": true,
            "showgrid": true,
            "tickcolor": "rgb(51,51,51)",
            "ticks": "outside",
            "zerolinecolor": "white"
           },
           "zaxis": {
            "backgroundcolor": "rgb(237,237,237)",
            "gridcolor": "white",
            "gridwidth": 2,
            "linecolor": "white",
            "showbackground": true,
            "showgrid": true,
            "tickcolor": "rgb(51,51,51)",
            "ticks": "outside",
            "zerolinecolor": "white"
           }
          },
          "shapedefaults": {
           "fillcolor": "black",
           "line": {
            "width": 0
           },
           "opacity": 0.3
          },
          "ternary": {
           "aaxis": {
            "gridcolor": "white",
            "linecolor": "white",
            "showgrid": true,
            "tickcolor": "rgb(51,51,51)",
            "ticks": "outside"
           },
           "baxis": {
            "gridcolor": "white",
            "linecolor": "white",
            "showgrid": true,
            "tickcolor": "rgb(51,51,51)",
            "ticks": "outside"
           },
           "bgcolor": "rgb(237,237,237)",
           "caxis": {
            "gridcolor": "white",
            "linecolor": "white",
            "showgrid": true,
            "tickcolor": "rgb(51,51,51)",
            "ticks": "outside"
           }
          },
          "xaxis": {
           "automargin": true,
           "gridcolor": "white",
           "linecolor": "white",
           "showgrid": true,
           "tickcolor": "rgb(51,51,51)",
           "ticks": "outside",
           "title": {
            "standoff": 15
           },
           "zerolinecolor": "white"
          },
          "yaxis": {
           "automargin": true,
           "gridcolor": "white",
           "linecolor": "white",
           "showgrid": true,
           "tickcolor": "rgb(51,51,51)",
           "ticks": "outside",
           "title": {
            "standoff": 15
           },
           "zerolinecolor": "white"
          }
         }
        },
        "title": {
         "text": "Actual vs. Forecast (Out-of-Sample)"
        },
        "xaxis": {
         "anchor": "y",
         "domain": [
          0,
          1
         ]
        },
        "yaxis": {
         "anchor": "x",
         "domain": [
          0,
          1
         ]
        }
       }
      }
     },
     "metadata": {},
     "output_type": "display_data"
    },
    {
     "data": {
      "application/vnd.plotly.v1+json": {
       "config": {
        "plotlyServerURL": "https://plot.ly"
       },
       "data": [
        {
         "line": {
          "color": "rgb(31, 119, 180)",
          "width": 2
         },
         "marker": {
          "color": "rgb(31, 119, 180)",
          "size": 5
         },
         "mode": "lines+markers",
         "name": "Adj Close",
         "type": "scattergl",
         "x": [
          "2022-01-01T00:00:00",
          "2022-02-01T00:00:00",
          "2022-03-01T00:00:00",
          "2022-04-01T00:00:00",
          "2022-05-01T00:00:00",
          "2022-06-01T00:00:00",
          "2022-07-01T00:00:00",
          "2022-08-01T00:00:00",
          "2022-09-01T00:00:00",
          "2022-10-01T00:00:00",
          "2022-11-01T00:00:00",
          "2022-12-01T00:00:00"
         ],
         "xaxis": "x",
         "y": [
          173.771469,
          164.376373,
          173.823639,
          156.940002,
          148.38739,
          136.304245,
          162.015808,
          156.959625,
          137.971115,
          153.086044,
          148.029999,
          129.929993
         ],
         "yaxis": "y"
        },
        {
         "line": {
          "color": "rgb(255, 127, 14)",
          "width": 2
         },
         "marker": {
          "color": "rgb(255, 127, 14)",
          "size": 5
         },
         "mode": "lines+markers",
         "name": "LGBMRegressor",
         "type": "scattergl",
         "x": [
          "2022-01-01T00:00:00",
          "2022-02-01T00:00:00",
          "2022-03-01T00:00:00",
          "2022-04-01T00:00:00",
          "2022-05-01T00:00:00",
          "2022-06-01T00:00:00",
          "2022-07-01T00:00:00",
          "2022-08-01T00:00:00",
          "2022-09-01T00:00:00",
          "2022-10-01T00:00:00",
          "2022-11-01T00:00:00",
          "2022-12-01T00:00:00"
         ],
         "xaxis": "x",
         "y": [
          null,
          null,
          null,
          null,
          null,
          null,
          null,
          null,
          null,
          null,
          140.7269,
          137.9864
         ],
         "yaxis": "y"
        }
       ],
       "layout": {
        "showlegend": true,
        "template": {
         "data": {
          "bar": [
           {
            "error_x": {
             "color": "rgb(51,51,51)"
            },
            "error_y": {
             "color": "rgb(51,51,51)"
            },
            "marker": {
             "line": {
              "color": "rgb(237,237,237)",
              "width": 0.5
             },
             "pattern": {
              "fillmode": "overlay",
              "size": 10,
              "solidity": 0.2
             }
            },
            "type": "bar"
           }
          ],
          "barpolar": [
           {
            "marker": {
             "line": {
              "color": "rgb(237,237,237)",
              "width": 0.5
             },
             "pattern": {
              "fillmode": "overlay",
              "size": 10,
              "solidity": 0.2
             }
            },
            "type": "barpolar"
           }
          ],
          "carpet": [
           {
            "aaxis": {
             "endlinecolor": "rgb(51,51,51)",
             "gridcolor": "white",
             "linecolor": "white",
             "minorgridcolor": "white",
             "startlinecolor": "rgb(51,51,51)"
            },
            "baxis": {
             "endlinecolor": "rgb(51,51,51)",
             "gridcolor": "white",
             "linecolor": "white",
             "minorgridcolor": "white",
             "startlinecolor": "rgb(51,51,51)"
            },
            "type": "carpet"
           }
          ],
          "choropleth": [
           {
            "colorbar": {
             "outlinewidth": 0,
             "tickcolor": "rgb(237,237,237)",
             "ticklen": 6,
             "ticks": "inside"
            },
            "type": "choropleth"
           }
          ],
          "contour": [
           {
            "colorbar": {
             "outlinewidth": 0,
             "tickcolor": "rgb(237,237,237)",
             "ticklen": 6,
             "ticks": "inside"
            },
            "colorscale": [
             [
              0,
              "rgb(20,44,66)"
             ],
             [
              1,
              "rgb(90,179,244)"
             ]
            ],
            "type": "contour"
           }
          ],
          "contourcarpet": [
           {
            "colorbar": {
             "outlinewidth": 0,
             "tickcolor": "rgb(237,237,237)",
             "ticklen": 6,
             "ticks": "inside"
            },
            "type": "contourcarpet"
           }
          ],
          "heatmap": [
           {
            "colorbar": {
             "outlinewidth": 0,
             "tickcolor": "rgb(237,237,237)",
             "ticklen": 6,
             "ticks": "inside"
            },
            "colorscale": [
             [
              0,
              "rgb(20,44,66)"
             ],
             [
              1,
              "rgb(90,179,244)"
             ]
            ],
            "type": "heatmap"
           }
          ],
          "heatmapgl": [
           {
            "colorbar": {
             "outlinewidth": 0,
             "tickcolor": "rgb(237,237,237)",
             "ticklen": 6,
             "ticks": "inside"
            },
            "colorscale": [
             [
              0,
              "rgb(20,44,66)"
             ],
             [
              1,
              "rgb(90,179,244)"
             ]
            ],
            "type": "heatmapgl"
           }
          ],
          "histogram": [
           {
            "marker": {
             "pattern": {
              "fillmode": "overlay",
              "size": 10,
              "solidity": 0.2
             }
            },
            "type": "histogram"
           }
          ],
          "histogram2d": [
           {
            "colorbar": {
             "outlinewidth": 0,
             "tickcolor": "rgb(237,237,237)",
             "ticklen": 6,
             "ticks": "inside"
            },
            "colorscale": [
             [
              0,
              "rgb(20,44,66)"
             ],
             [
              1,
              "rgb(90,179,244)"
             ]
            ],
            "type": "histogram2d"
           }
          ],
          "histogram2dcontour": [
           {
            "colorbar": {
             "outlinewidth": 0,
             "tickcolor": "rgb(237,237,237)",
             "ticklen": 6,
             "ticks": "inside"
            },
            "colorscale": [
             [
              0,
              "rgb(20,44,66)"
             ],
             [
              1,
              "rgb(90,179,244)"
             ]
            ],
            "type": "histogram2dcontour"
           }
          ],
          "mesh3d": [
           {
            "colorbar": {
             "outlinewidth": 0,
             "tickcolor": "rgb(237,237,237)",
             "ticklen": 6,
             "ticks": "inside"
            },
            "type": "mesh3d"
           }
          ],
          "parcoords": [
           {
            "line": {
             "colorbar": {
              "outlinewidth": 0,
              "tickcolor": "rgb(237,237,237)",
              "ticklen": 6,
              "ticks": "inside"
             }
            },
            "type": "parcoords"
           }
          ],
          "pie": [
           {
            "automargin": true,
            "type": "pie"
           }
          ],
          "scatter": [
           {
            "fillpattern": {
             "fillmode": "overlay",
             "size": 10,
             "solidity": 0.2
            },
            "type": "scatter"
           }
          ],
          "scatter3d": [
           {
            "line": {
             "colorbar": {
              "outlinewidth": 0,
              "tickcolor": "rgb(237,237,237)",
              "ticklen": 6,
              "ticks": "inside"
             }
            },
            "marker": {
             "colorbar": {
              "outlinewidth": 0,
              "tickcolor": "rgb(237,237,237)",
              "ticklen": 6,
              "ticks": "inside"
             }
            },
            "type": "scatter3d"
           }
          ],
          "scattercarpet": [
           {
            "marker": {
             "colorbar": {
              "outlinewidth": 0,
              "tickcolor": "rgb(237,237,237)",
              "ticklen": 6,
              "ticks": "inside"
             }
            },
            "type": "scattercarpet"
           }
          ],
          "scattergeo": [
           {
            "marker": {
             "colorbar": {
              "outlinewidth": 0,
              "tickcolor": "rgb(237,237,237)",
              "ticklen": 6,
              "ticks": "inside"
             }
            },
            "type": "scattergeo"
           }
          ],
          "scattergl": [
           {
            "marker": {
             "colorbar": {
              "outlinewidth": 0,
              "tickcolor": "rgb(237,237,237)",
              "ticklen": 6,
              "ticks": "inside"
             }
            },
            "type": "scattergl"
           }
          ],
          "scattermapbox": [
           {
            "marker": {
             "colorbar": {
              "outlinewidth": 0,
              "tickcolor": "rgb(237,237,237)",
              "ticklen": 6,
              "ticks": "inside"
             }
            },
            "type": "scattermapbox"
           }
          ],
          "scatterpolar": [
           {
            "marker": {
             "colorbar": {
              "outlinewidth": 0,
              "tickcolor": "rgb(237,237,237)",
              "ticklen": 6,
              "ticks": "inside"
             }
            },
            "type": "scatterpolar"
           }
          ],
          "scatterpolargl": [
           {
            "marker": {
             "colorbar": {
              "outlinewidth": 0,
              "tickcolor": "rgb(237,237,237)",
              "ticklen": 6,
              "ticks": "inside"
             }
            },
            "type": "scatterpolargl"
           }
          ],
          "scatterternary": [
           {
            "marker": {
             "colorbar": {
              "outlinewidth": 0,
              "tickcolor": "rgb(237,237,237)",
              "ticklen": 6,
              "ticks": "inside"
             }
            },
            "type": "scatterternary"
           }
          ],
          "surface": [
           {
            "colorbar": {
             "outlinewidth": 0,
             "tickcolor": "rgb(237,237,237)",
             "ticklen": 6,
             "ticks": "inside"
            },
            "colorscale": [
             [
              0,
              "rgb(20,44,66)"
             ],
             [
              1,
              "rgb(90,179,244)"
             ]
            ],
            "type": "surface"
           }
          ],
          "table": [
           {
            "cells": {
             "fill": {
              "color": "rgb(237,237,237)"
             },
             "line": {
              "color": "white"
             }
            },
            "header": {
             "fill": {
              "color": "rgb(217,217,217)"
             },
             "line": {
              "color": "white"
             }
            },
            "type": "table"
           }
          ]
         },
         "layout": {
          "annotationdefaults": {
           "arrowhead": 0,
           "arrowwidth": 1
          },
          "autotypenumbers": "strict",
          "coloraxis": {
           "colorbar": {
            "outlinewidth": 0,
            "tickcolor": "rgb(237,237,237)",
            "ticklen": 6,
            "ticks": "inside"
           }
          },
          "colorscale": {
           "sequential": [
            [
             0,
             "rgb(20,44,66)"
            ],
            [
             1,
             "rgb(90,179,244)"
            ]
           ],
           "sequentialminus": [
            [
             0,
             "rgb(20,44,66)"
            ],
            [
             1,
             "rgb(90,179,244)"
            ]
           ]
          },
          "colorway": [
           "#F8766D",
           "#A3A500",
           "#00BF7D",
           "#00B0F6",
           "#E76BF3"
          ],
          "font": {
           "color": "rgb(51,51,51)"
          },
          "geo": {
           "bgcolor": "white",
           "lakecolor": "white",
           "landcolor": "rgb(237,237,237)",
           "showlakes": true,
           "showland": true,
           "subunitcolor": "white"
          },
          "hoverlabel": {
           "align": "left"
          },
          "hovermode": "closest",
          "paper_bgcolor": "white",
          "plot_bgcolor": "rgb(237,237,237)",
          "polar": {
           "angularaxis": {
            "gridcolor": "white",
            "linecolor": "white",
            "showgrid": true,
            "tickcolor": "rgb(51,51,51)",
            "ticks": "outside"
           },
           "bgcolor": "rgb(237,237,237)",
           "radialaxis": {
            "gridcolor": "white",
            "linecolor": "white",
            "showgrid": true,
            "tickcolor": "rgb(51,51,51)",
            "ticks": "outside"
           }
          },
          "scene": {
           "xaxis": {
            "backgroundcolor": "rgb(237,237,237)",
            "gridcolor": "white",
            "gridwidth": 2,
            "linecolor": "white",
            "showbackground": true,
            "showgrid": true,
            "tickcolor": "rgb(51,51,51)",
            "ticks": "outside",
            "zerolinecolor": "white"
           },
           "yaxis": {
            "backgroundcolor": "rgb(237,237,237)",
            "gridcolor": "white",
            "gridwidth": 2,
            "linecolor": "white",
            "showbackground": true,
            "showgrid": true,
            "tickcolor": "rgb(51,51,51)",
            "ticks": "outside",
            "zerolinecolor": "white"
           },
           "zaxis": {
            "backgroundcolor": "rgb(237,237,237)",
            "gridcolor": "white",
            "gridwidth": 2,
            "linecolor": "white",
            "showbackground": true,
            "showgrid": true,
            "tickcolor": "rgb(51,51,51)",
            "ticks": "outside",
            "zerolinecolor": "white"
           }
          },
          "shapedefaults": {
           "fillcolor": "black",
           "line": {
            "width": 0
           },
           "opacity": 0.3
          },
          "ternary": {
           "aaxis": {
            "gridcolor": "white",
            "linecolor": "white",
            "showgrid": true,
            "tickcolor": "rgb(51,51,51)",
            "ticks": "outside"
           },
           "baxis": {
            "gridcolor": "white",
            "linecolor": "white",
            "showgrid": true,
            "tickcolor": "rgb(51,51,51)",
            "ticks": "outside"
           },
           "bgcolor": "rgb(237,237,237)",
           "caxis": {
            "gridcolor": "white",
            "linecolor": "white",
            "showgrid": true,
            "tickcolor": "rgb(51,51,51)",
            "ticks": "outside"
           }
          },
          "xaxis": {
           "automargin": true,
           "gridcolor": "white",
           "linecolor": "white",
           "showgrid": true,
           "tickcolor": "rgb(51,51,51)",
           "ticks": "outside",
           "title": {
            "standoff": 15
           },
           "zerolinecolor": "white"
          },
          "yaxis": {
           "automargin": true,
           "gridcolor": "white",
           "linecolor": "white",
           "showgrid": true,
           "tickcolor": "rgb(51,51,51)",
           "ticks": "outside",
           "title": {
            "standoff": 15
           },
           "zerolinecolor": "white"
          }
         }
        },
        "title": {
         "text": "Actual vs. Forecast (Out-of-Sample)"
        },
        "xaxis": {
         "anchor": "y",
         "domain": [
          0,
          1
         ]
        },
        "yaxis": {
         "anchor": "x",
         "domain": [
          0,
          1
         ]
        }
       }
      }
     },
     "metadata": {},
     "output_type": "display_data"
    },
    {
     "data": {
      "application/vnd.plotly.v1+json": {
       "config": {
        "plotlyServerURL": "https://plot.ly"
       },
       "data": [
        {
         "line": {
          "color": "rgb(31, 119, 180)",
          "width": 2
         },
         "marker": {
          "color": "rgb(31, 119, 180)",
          "size": 5
         },
         "mode": "lines+markers",
         "name": "Adj Close",
         "type": "scattergl",
         "x": [
          "2022-01-01T00:00:00",
          "2022-02-01T00:00:00",
          "2022-03-01T00:00:00",
          "2022-04-01T00:00:00",
          "2022-05-01T00:00:00",
          "2022-06-01T00:00:00",
          "2022-07-01T00:00:00",
          "2022-08-01T00:00:00",
          "2022-09-01T00:00:00",
          "2022-10-01T00:00:00",
          "2022-11-01T00:00:00",
          "2022-12-01T00:00:00"
         ],
         "xaxis": "x",
         "y": [
          173.771469,
          164.376373,
          173.823639,
          156.940002,
          148.38739,
          136.304245,
          162.015808,
          156.959625,
          137.971115,
          153.086044,
          148.029999,
          129.929993
         ],
         "yaxis": "y"
        },
        {
         "line": {
          "color": "rgb(255, 127, 14)",
          "width": 2
         },
         "marker": {
          "color": "rgb(255, 127, 14)",
          "size": 5
         },
         "mode": "lines+markers",
         "name": "Lars",
         "type": "scattergl",
         "x": [
          "2022-01-01T00:00:00",
          "2022-02-01T00:00:00",
          "2022-03-01T00:00:00",
          "2022-04-01T00:00:00",
          "2022-05-01T00:00:00",
          "2022-06-01T00:00:00",
          "2022-07-01T00:00:00",
          "2022-08-01T00:00:00",
          "2022-09-01T00:00:00",
          "2022-10-01T00:00:00",
          "2022-11-01T00:00:00",
          "2022-12-01T00:00:00"
         ],
         "xaxis": "x",
         "y": [
          null,
          null,
          null,
          null,
          null,
          null,
          null,
          null,
          null,
          null,
          139.3013,
          138.1258
         ],
         "yaxis": "y"
        }
       ],
       "layout": {
        "showlegend": true,
        "template": {
         "data": {
          "bar": [
           {
            "error_x": {
             "color": "rgb(51,51,51)"
            },
            "error_y": {
             "color": "rgb(51,51,51)"
            },
            "marker": {
             "line": {
              "color": "rgb(237,237,237)",
              "width": 0.5
             },
             "pattern": {
              "fillmode": "overlay",
              "size": 10,
              "solidity": 0.2
             }
            },
            "type": "bar"
           }
          ],
          "barpolar": [
           {
            "marker": {
             "line": {
              "color": "rgb(237,237,237)",
              "width": 0.5
             },
             "pattern": {
              "fillmode": "overlay",
              "size": 10,
              "solidity": 0.2
             }
            },
            "type": "barpolar"
           }
          ],
          "carpet": [
           {
            "aaxis": {
             "endlinecolor": "rgb(51,51,51)",
             "gridcolor": "white",
             "linecolor": "white",
             "minorgridcolor": "white",
             "startlinecolor": "rgb(51,51,51)"
            },
            "baxis": {
             "endlinecolor": "rgb(51,51,51)",
             "gridcolor": "white",
             "linecolor": "white",
             "minorgridcolor": "white",
             "startlinecolor": "rgb(51,51,51)"
            },
            "type": "carpet"
           }
          ],
          "choropleth": [
           {
            "colorbar": {
             "outlinewidth": 0,
             "tickcolor": "rgb(237,237,237)",
             "ticklen": 6,
             "ticks": "inside"
            },
            "type": "choropleth"
           }
          ],
          "contour": [
           {
            "colorbar": {
             "outlinewidth": 0,
             "tickcolor": "rgb(237,237,237)",
             "ticklen": 6,
             "ticks": "inside"
            },
            "colorscale": [
             [
              0,
              "rgb(20,44,66)"
             ],
             [
              1,
              "rgb(90,179,244)"
             ]
            ],
            "type": "contour"
           }
          ],
          "contourcarpet": [
           {
            "colorbar": {
             "outlinewidth": 0,
             "tickcolor": "rgb(237,237,237)",
             "ticklen": 6,
             "ticks": "inside"
            },
            "type": "contourcarpet"
           }
          ],
          "heatmap": [
           {
            "colorbar": {
             "outlinewidth": 0,
             "tickcolor": "rgb(237,237,237)",
             "ticklen": 6,
             "ticks": "inside"
            },
            "colorscale": [
             [
              0,
              "rgb(20,44,66)"
             ],
             [
              1,
              "rgb(90,179,244)"
             ]
            ],
            "type": "heatmap"
           }
          ],
          "heatmapgl": [
           {
            "colorbar": {
             "outlinewidth": 0,
             "tickcolor": "rgb(237,237,237)",
             "ticklen": 6,
             "ticks": "inside"
            },
            "colorscale": [
             [
              0,
              "rgb(20,44,66)"
             ],
             [
              1,
              "rgb(90,179,244)"
             ]
            ],
            "type": "heatmapgl"
           }
          ],
          "histogram": [
           {
            "marker": {
             "pattern": {
              "fillmode": "overlay",
              "size": 10,
              "solidity": 0.2
             }
            },
            "type": "histogram"
           }
          ],
          "histogram2d": [
           {
            "colorbar": {
             "outlinewidth": 0,
             "tickcolor": "rgb(237,237,237)",
             "ticklen": 6,
             "ticks": "inside"
            },
            "colorscale": [
             [
              0,
              "rgb(20,44,66)"
             ],
             [
              1,
              "rgb(90,179,244)"
             ]
            ],
            "type": "histogram2d"
           }
          ],
          "histogram2dcontour": [
           {
            "colorbar": {
             "outlinewidth": 0,
             "tickcolor": "rgb(237,237,237)",
             "ticklen": 6,
             "ticks": "inside"
            },
            "colorscale": [
             [
              0,
              "rgb(20,44,66)"
             ],
             [
              1,
              "rgb(90,179,244)"
             ]
            ],
            "type": "histogram2dcontour"
           }
          ],
          "mesh3d": [
           {
            "colorbar": {
             "outlinewidth": 0,
             "tickcolor": "rgb(237,237,237)",
             "ticklen": 6,
             "ticks": "inside"
            },
            "type": "mesh3d"
           }
          ],
          "parcoords": [
           {
            "line": {
             "colorbar": {
              "outlinewidth": 0,
              "tickcolor": "rgb(237,237,237)",
              "ticklen": 6,
              "ticks": "inside"
             }
            },
            "type": "parcoords"
           }
          ],
          "pie": [
           {
            "automargin": true,
            "type": "pie"
           }
          ],
          "scatter": [
           {
            "fillpattern": {
             "fillmode": "overlay",
             "size": 10,
             "solidity": 0.2
            },
            "type": "scatter"
           }
          ],
          "scatter3d": [
           {
            "line": {
             "colorbar": {
              "outlinewidth": 0,
              "tickcolor": "rgb(237,237,237)",
              "ticklen": 6,
              "ticks": "inside"
             }
            },
            "marker": {
             "colorbar": {
              "outlinewidth": 0,
              "tickcolor": "rgb(237,237,237)",
              "ticklen": 6,
              "ticks": "inside"
             }
            },
            "type": "scatter3d"
           }
          ],
          "scattercarpet": [
           {
            "marker": {
             "colorbar": {
              "outlinewidth": 0,
              "tickcolor": "rgb(237,237,237)",
              "ticklen": 6,
              "ticks": "inside"
             }
            },
            "type": "scattercarpet"
           }
          ],
          "scattergeo": [
           {
            "marker": {
             "colorbar": {
              "outlinewidth": 0,
              "tickcolor": "rgb(237,237,237)",
              "ticklen": 6,
              "ticks": "inside"
             }
            },
            "type": "scattergeo"
           }
          ],
          "scattergl": [
           {
            "marker": {
             "colorbar": {
              "outlinewidth": 0,
              "tickcolor": "rgb(237,237,237)",
              "ticklen": 6,
              "ticks": "inside"
             }
            },
            "type": "scattergl"
           }
          ],
          "scattermapbox": [
           {
            "marker": {
             "colorbar": {
              "outlinewidth": 0,
              "tickcolor": "rgb(237,237,237)",
              "ticklen": 6,
              "ticks": "inside"
             }
            },
            "type": "scattermapbox"
           }
          ],
          "scatterpolar": [
           {
            "marker": {
             "colorbar": {
              "outlinewidth": 0,
              "tickcolor": "rgb(237,237,237)",
              "ticklen": 6,
              "ticks": "inside"
             }
            },
            "type": "scatterpolar"
           }
          ],
          "scatterpolargl": [
           {
            "marker": {
             "colorbar": {
              "outlinewidth": 0,
              "tickcolor": "rgb(237,237,237)",
              "ticklen": 6,
              "ticks": "inside"
             }
            },
            "type": "scatterpolargl"
           }
          ],
          "scatterternary": [
           {
            "marker": {
             "colorbar": {
              "outlinewidth": 0,
              "tickcolor": "rgb(237,237,237)",
              "ticklen": 6,
              "ticks": "inside"
             }
            },
            "type": "scatterternary"
           }
          ],
          "surface": [
           {
            "colorbar": {
             "outlinewidth": 0,
             "tickcolor": "rgb(237,237,237)",
             "ticklen": 6,
             "ticks": "inside"
            },
            "colorscale": [
             [
              0,
              "rgb(20,44,66)"
             ],
             [
              1,
              "rgb(90,179,244)"
             ]
            ],
            "type": "surface"
           }
          ],
          "table": [
           {
            "cells": {
             "fill": {
              "color": "rgb(237,237,237)"
             },
             "line": {
              "color": "white"
             }
            },
            "header": {
             "fill": {
              "color": "rgb(217,217,217)"
             },
             "line": {
              "color": "white"
             }
            },
            "type": "table"
           }
          ]
         },
         "layout": {
          "annotationdefaults": {
           "arrowhead": 0,
           "arrowwidth": 1
          },
          "autotypenumbers": "strict",
          "coloraxis": {
           "colorbar": {
            "outlinewidth": 0,
            "tickcolor": "rgb(237,237,237)",
            "ticklen": 6,
            "ticks": "inside"
           }
          },
          "colorscale": {
           "sequential": [
            [
             0,
             "rgb(20,44,66)"
            ],
            [
             1,
             "rgb(90,179,244)"
            ]
           ],
           "sequentialminus": [
            [
             0,
             "rgb(20,44,66)"
            ],
            [
             1,
             "rgb(90,179,244)"
            ]
           ]
          },
          "colorway": [
           "#F8766D",
           "#A3A500",
           "#00BF7D",
           "#00B0F6",
           "#E76BF3"
          ],
          "font": {
           "color": "rgb(51,51,51)"
          },
          "geo": {
           "bgcolor": "white",
           "lakecolor": "white",
           "landcolor": "rgb(237,237,237)",
           "showlakes": true,
           "showland": true,
           "subunitcolor": "white"
          },
          "hoverlabel": {
           "align": "left"
          },
          "hovermode": "closest",
          "paper_bgcolor": "white",
          "plot_bgcolor": "rgb(237,237,237)",
          "polar": {
           "angularaxis": {
            "gridcolor": "white",
            "linecolor": "white",
            "showgrid": true,
            "tickcolor": "rgb(51,51,51)",
            "ticks": "outside"
           },
           "bgcolor": "rgb(237,237,237)",
           "radialaxis": {
            "gridcolor": "white",
            "linecolor": "white",
            "showgrid": true,
            "tickcolor": "rgb(51,51,51)",
            "ticks": "outside"
           }
          },
          "scene": {
           "xaxis": {
            "backgroundcolor": "rgb(237,237,237)",
            "gridcolor": "white",
            "gridwidth": 2,
            "linecolor": "white",
            "showbackground": true,
            "showgrid": true,
            "tickcolor": "rgb(51,51,51)",
            "ticks": "outside",
            "zerolinecolor": "white"
           },
           "yaxis": {
            "backgroundcolor": "rgb(237,237,237)",
            "gridcolor": "white",
            "gridwidth": 2,
            "linecolor": "white",
            "showbackground": true,
            "showgrid": true,
            "tickcolor": "rgb(51,51,51)",
            "ticks": "outside",
            "zerolinecolor": "white"
           },
           "zaxis": {
            "backgroundcolor": "rgb(237,237,237)",
            "gridcolor": "white",
            "gridwidth": 2,
            "linecolor": "white",
            "showbackground": true,
            "showgrid": true,
            "tickcolor": "rgb(51,51,51)",
            "ticks": "outside",
            "zerolinecolor": "white"
           }
          },
          "shapedefaults": {
           "fillcolor": "black",
           "line": {
            "width": 0
           },
           "opacity": 0.3
          },
          "ternary": {
           "aaxis": {
            "gridcolor": "white",
            "linecolor": "white",
            "showgrid": true,
            "tickcolor": "rgb(51,51,51)",
            "ticks": "outside"
           },
           "baxis": {
            "gridcolor": "white",
            "linecolor": "white",
            "showgrid": true,
            "tickcolor": "rgb(51,51,51)",
            "ticks": "outside"
           },
           "bgcolor": "rgb(237,237,237)",
           "caxis": {
            "gridcolor": "white",
            "linecolor": "white",
            "showgrid": true,
            "tickcolor": "rgb(51,51,51)",
            "ticks": "outside"
           }
          },
          "xaxis": {
           "automargin": true,
           "gridcolor": "white",
           "linecolor": "white",
           "showgrid": true,
           "tickcolor": "rgb(51,51,51)",
           "ticks": "outside",
           "title": {
            "standoff": 15
           },
           "zerolinecolor": "white"
          },
          "yaxis": {
           "automargin": true,
           "gridcolor": "white",
           "linecolor": "white",
           "showgrid": true,
           "tickcolor": "rgb(51,51,51)",
           "ticks": "outside",
           "title": {
            "standoff": 15
           },
           "zerolinecolor": "white"
          }
         }
        },
        "title": {
         "text": "Actual vs. Forecast (Out-of-Sample)"
        },
        "xaxis": {
         "anchor": "y",
         "domain": [
          0,
          1
         ]
        },
        "yaxis": {
         "anchor": "x",
         "domain": [
          0,
          1
         ]
        }
       }
      }
     },
     "metadata": {},
     "output_type": "display_data"
    },
    {
     "data": {
      "application/vnd.plotly.v1+json": {
       "config": {
        "plotlyServerURL": "https://plot.ly"
       },
       "data": [
        {
         "line": {
          "color": "rgb(31, 119, 180)",
          "width": 2
         },
         "marker": {
          "color": "rgb(31, 119, 180)",
          "size": 5
         },
         "mode": "lines+markers",
         "name": "Adj Close",
         "type": "scattergl",
         "x": [
          "2022-01-01T00:00:00",
          "2022-02-01T00:00:00",
          "2022-03-01T00:00:00",
          "2022-04-01T00:00:00",
          "2022-05-01T00:00:00",
          "2022-06-01T00:00:00",
          "2022-07-01T00:00:00",
          "2022-08-01T00:00:00",
          "2022-09-01T00:00:00",
          "2022-10-01T00:00:00",
          "2022-11-01T00:00:00",
          "2022-12-01T00:00:00"
         ],
         "xaxis": "x",
         "y": [
          173.771469,
          164.376373,
          173.823639,
          156.940002,
          148.38739,
          136.304245,
          162.015808,
          156.959625,
          137.971115,
          153.086044,
          148.029999,
          129.929993
         ],
         "yaxis": "y"
        },
        {
         "line": {
          "color": "rgb(255, 127, 14)",
          "width": 2
         },
         "marker": {
          "color": "rgb(255, 127, 14)",
          "size": 5
         },
         "mode": "lines+markers",
         "name": "OrthogonalMatchingPursuit",
         "type": "scattergl",
         "x": [
          "2022-01-01T00:00:00",
          "2022-02-01T00:00:00",
          "2022-03-01T00:00:00",
          "2022-04-01T00:00:00",
          "2022-05-01T00:00:00",
          "2022-06-01T00:00:00",
          "2022-07-01T00:00:00",
          "2022-08-01T00:00:00",
          "2022-09-01T00:00:00",
          "2022-10-01T00:00:00",
          "2022-11-01T00:00:00",
          "2022-12-01T00:00:00"
         ],
         "xaxis": "x",
         "y": [
          null,
          null,
          null,
          null,
          null,
          null,
          null,
          null,
          null,
          null,
          139.3013,
          138.1258
         ],
         "yaxis": "y"
        }
       ],
       "layout": {
        "showlegend": true,
        "template": {
         "data": {
          "bar": [
           {
            "error_x": {
             "color": "rgb(51,51,51)"
            },
            "error_y": {
             "color": "rgb(51,51,51)"
            },
            "marker": {
             "line": {
              "color": "rgb(237,237,237)",
              "width": 0.5
             },
             "pattern": {
              "fillmode": "overlay",
              "size": 10,
              "solidity": 0.2
             }
            },
            "type": "bar"
           }
          ],
          "barpolar": [
           {
            "marker": {
             "line": {
              "color": "rgb(237,237,237)",
              "width": 0.5
             },
             "pattern": {
              "fillmode": "overlay",
              "size": 10,
              "solidity": 0.2
             }
            },
            "type": "barpolar"
           }
          ],
          "carpet": [
           {
            "aaxis": {
             "endlinecolor": "rgb(51,51,51)",
             "gridcolor": "white",
             "linecolor": "white",
             "minorgridcolor": "white",
             "startlinecolor": "rgb(51,51,51)"
            },
            "baxis": {
             "endlinecolor": "rgb(51,51,51)",
             "gridcolor": "white",
             "linecolor": "white",
             "minorgridcolor": "white",
             "startlinecolor": "rgb(51,51,51)"
            },
            "type": "carpet"
           }
          ],
          "choropleth": [
           {
            "colorbar": {
             "outlinewidth": 0,
             "tickcolor": "rgb(237,237,237)",
             "ticklen": 6,
             "ticks": "inside"
            },
            "type": "choropleth"
           }
          ],
          "contour": [
           {
            "colorbar": {
             "outlinewidth": 0,
             "tickcolor": "rgb(237,237,237)",
             "ticklen": 6,
             "ticks": "inside"
            },
            "colorscale": [
             [
              0,
              "rgb(20,44,66)"
             ],
             [
              1,
              "rgb(90,179,244)"
             ]
            ],
            "type": "contour"
           }
          ],
          "contourcarpet": [
           {
            "colorbar": {
             "outlinewidth": 0,
             "tickcolor": "rgb(237,237,237)",
             "ticklen": 6,
             "ticks": "inside"
            },
            "type": "contourcarpet"
           }
          ],
          "heatmap": [
           {
            "colorbar": {
             "outlinewidth": 0,
             "tickcolor": "rgb(237,237,237)",
             "ticklen": 6,
             "ticks": "inside"
            },
            "colorscale": [
             [
              0,
              "rgb(20,44,66)"
             ],
             [
              1,
              "rgb(90,179,244)"
             ]
            ],
            "type": "heatmap"
           }
          ],
          "heatmapgl": [
           {
            "colorbar": {
             "outlinewidth": 0,
             "tickcolor": "rgb(237,237,237)",
             "ticklen": 6,
             "ticks": "inside"
            },
            "colorscale": [
             [
              0,
              "rgb(20,44,66)"
             ],
             [
              1,
              "rgb(90,179,244)"
             ]
            ],
            "type": "heatmapgl"
           }
          ],
          "histogram": [
           {
            "marker": {
             "pattern": {
              "fillmode": "overlay",
              "size": 10,
              "solidity": 0.2
             }
            },
            "type": "histogram"
           }
          ],
          "histogram2d": [
           {
            "colorbar": {
             "outlinewidth": 0,
             "tickcolor": "rgb(237,237,237)",
             "ticklen": 6,
             "ticks": "inside"
            },
            "colorscale": [
             [
              0,
              "rgb(20,44,66)"
             ],
             [
              1,
              "rgb(90,179,244)"
             ]
            ],
            "type": "histogram2d"
           }
          ],
          "histogram2dcontour": [
           {
            "colorbar": {
             "outlinewidth": 0,
             "tickcolor": "rgb(237,237,237)",
             "ticklen": 6,
             "ticks": "inside"
            },
            "colorscale": [
             [
              0,
              "rgb(20,44,66)"
             ],
             [
              1,
              "rgb(90,179,244)"
             ]
            ],
            "type": "histogram2dcontour"
           }
          ],
          "mesh3d": [
           {
            "colorbar": {
             "outlinewidth": 0,
             "tickcolor": "rgb(237,237,237)",
             "ticklen": 6,
             "ticks": "inside"
            },
            "type": "mesh3d"
           }
          ],
          "parcoords": [
           {
            "line": {
             "colorbar": {
              "outlinewidth": 0,
              "tickcolor": "rgb(237,237,237)",
              "ticklen": 6,
              "ticks": "inside"
             }
            },
            "type": "parcoords"
           }
          ],
          "pie": [
           {
            "automargin": true,
            "type": "pie"
           }
          ],
          "scatter": [
           {
            "fillpattern": {
             "fillmode": "overlay",
             "size": 10,
             "solidity": 0.2
            },
            "type": "scatter"
           }
          ],
          "scatter3d": [
           {
            "line": {
             "colorbar": {
              "outlinewidth": 0,
              "tickcolor": "rgb(237,237,237)",
              "ticklen": 6,
              "ticks": "inside"
             }
            },
            "marker": {
             "colorbar": {
              "outlinewidth": 0,
              "tickcolor": "rgb(237,237,237)",
              "ticklen": 6,
              "ticks": "inside"
             }
            },
            "type": "scatter3d"
           }
          ],
          "scattercarpet": [
           {
            "marker": {
             "colorbar": {
              "outlinewidth": 0,
              "tickcolor": "rgb(237,237,237)",
              "ticklen": 6,
              "ticks": "inside"
             }
            },
            "type": "scattercarpet"
           }
          ],
          "scattergeo": [
           {
            "marker": {
             "colorbar": {
              "outlinewidth": 0,
              "tickcolor": "rgb(237,237,237)",
              "ticklen": 6,
              "ticks": "inside"
             }
            },
            "type": "scattergeo"
           }
          ],
          "scattergl": [
           {
            "marker": {
             "colorbar": {
              "outlinewidth": 0,
              "tickcolor": "rgb(237,237,237)",
              "ticklen": 6,
              "ticks": "inside"
             }
            },
            "type": "scattergl"
           }
          ],
          "scattermapbox": [
           {
            "marker": {
             "colorbar": {
              "outlinewidth": 0,
              "tickcolor": "rgb(237,237,237)",
              "ticklen": 6,
              "ticks": "inside"
             }
            },
            "type": "scattermapbox"
           }
          ],
          "scatterpolar": [
           {
            "marker": {
             "colorbar": {
              "outlinewidth": 0,
              "tickcolor": "rgb(237,237,237)",
              "ticklen": 6,
              "ticks": "inside"
             }
            },
            "type": "scatterpolar"
           }
          ],
          "scatterpolargl": [
           {
            "marker": {
             "colorbar": {
              "outlinewidth": 0,
              "tickcolor": "rgb(237,237,237)",
              "ticklen": 6,
              "ticks": "inside"
             }
            },
            "type": "scatterpolargl"
           }
          ],
          "scatterternary": [
           {
            "marker": {
             "colorbar": {
              "outlinewidth": 0,
              "tickcolor": "rgb(237,237,237)",
              "ticklen": 6,
              "ticks": "inside"
             }
            },
            "type": "scatterternary"
           }
          ],
          "surface": [
           {
            "colorbar": {
             "outlinewidth": 0,
             "tickcolor": "rgb(237,237,237)",
             "ticklen": 6,
             "ticks": "inside"
            },
            "colorscale": [
             [
              0,
              "rgb(20,44,66)"
             ],
             [
              1,
              "rgb(90,179,244)"
             ]
            ],
            "type": "surface"
           }
          ],
          "table": [
           {
            "cells": {
             "fill": {
              "color": "rgb(237,237,237)"
             },
             "line": {
              "color": "white"
             }
            },
            "header": {
             "fill": {
              "color": "rgb(217,217,217)"
             },
             "line": {
              "color": "white"
             }
            },
            "type": "table"
           }
          ]
         },
         "layout": {
          "annotationdefaults": {
           "arrowhead": 0,
           "arrowwidth": 1
          },
          "autotypenumbers": "strict",
          "coloraxis": {
           "colorbar": {
            "outlinewidth": 0,
            "tickcolor": "rgb(237,237,237)",
            "ticklen": 6,
            "ticks": "inside"
           }
          },
          "colorscale": {
           "sequential": [
            [
             0,
             "rgb(20,44,66)"
            ],
            [
             1,
             "rgb(90,179,244)"
            ]
           ],
           "sequentialminus": [
            [
             0,
             "rgb(20,44,66)"
            ],
            [
             1,
             "rgb(90,179,244)"
            ]
           ]
          },
          "colorway": [
           "#F8766D",
           "#A3A500",
           "#00BF7D",
           "#00B0F6",
           "#E76BF3"
          ],
          "font": {
           "color": "rgb(51,51,51)"
          },
          "geo": {
           "bgcolor": "white",
           "lakecolor": "white",
           "landcolor": "rgb(237,237,237)",
           "showlakes": true,
           "showland": true,
           "subunitcolor": "white"
          },
          "hoverlabel": {
           "align": "left"
          },
          "hovermode": "closest",
          "paper_bgcolor": "white",
          "plot_bgcolor": "rgb(237,237,237)",
          "polar": {
           "angularaxis": {
            "gridcolor": "white",
            "linecolor": "white",
            "showgrid": true,
            "tickcolor": "rgb(51,51,51)",
            "ticks": "outside"
           },
           "bgcolor": "rgb(237,237,237)",
           "radialaxis": {
            "gridcolor": "white",
            "linecolor": "white",
            "showgrid": true,
            "tickcolor": "rgb(51,51,51)",
            "ticks": "outside"
           }
          },
          "scene": {
           "xaxis": {
            "backgroundcolor": "rgb(237,237,237)",
            "gridcolor": "white",
            "gridwidth": 2,
            "linecolor": "white",
            "showbackground": true,
            "showgrid": true,
            "tickcolor": "rgb(51,51,51)",
            "ticks": "outside",
            "zerolinecolor": "white"
           },
           "yaxis": {
            "backgroundcolor": "rgb(237,237,237)",
            "gridcolor": "white",
            "gridwidth": 2,
            "linecolor": "white",
            "showbackground": true,
            "showgrid": true,
            "tickcolor": "rgb(51,51,51)",
            "ticks": "outside",
            "zerolinecolor": "white"
           },
           "zaxis": {
            "backgroundcolor": "rgb(237,237,237)",
            "gridcolor": "white",
            "gridwidth": 2,
            "linecolor": "white",
            "showbackground": true,
            "showgrid": true,
            "tickcolor": "rgb(51,51,51)",
            "ticks": "outside",
            "zerolinecolor": "white"
           }
          },
          "shapedefaults": {
           "fillcolor": "black",
           "line": {
            "width": 0
           },
           "opacity": 0.3
          },
          "ternary": {
           "aaxis": {
            "gridcolor": "white",
            "linecolor": "white",
            "showgrid": true,
            "tickcolor": "rgb(51,51,51)",
            "ticks": "outside"
           },
           "baxis": {
            "gridcolor": "white",
            "linecolor": "white",
            "showgrid": true,
            "tickcolor": "rgb(51,51,51)",
            "ticks": "outside"
           },
           "bgcolor": "rgb(237,237,237)",
           "caxis": {
            "gridcolor": "white",
            "linecolor": "white",
            "showgrid": true,
            "tickcolor": "rgb(51,51,51)",
            "ticks": "outside"
           }
          },
          "xaxis": {
           "automargin": true,
           "gridcolor": "white",
           "linecolor": "white",
           "showgrid": true,
           "tickcolor": "rgb(51,51,51)",
           "ticks": "outside",
           "title": {
            "standoff": 15
           },
           "zerolinecolor": "white"
          },
          "yaxis": {
           "automargin": true,
           "gridcolor": "white",
           "linecolor": "white",
           "showgrid": true,
           "tickcolor": "rgb(51,51,51)",
           "ticks": "outside",
           "title": {
            "standoff": 15
           },
           "zerolinecolor": "white"
          }
         }
        },
        "title": {
         "text": "Actual vs. Forecast (Out-of-Sample)"
        },
        "xaxis": {
         "anchor": "y",
         "domain": [
          0,
          1
         ]
        },
        "yaxis": {
         "anchor": "x",
         "domain": [
          0,
          1
         ]
        }
       }
      }
     },
     "metadata": {},
     "output_type": "display_data"
    },
    {
     "data": {
      "application/vnd.plotly.v1+json": {
       "config": {
        "plotlyServerURL": "https://plot.ly"
       },
       "data": [
        {
         "line": {
          "color": "rgb(31, 119, 180)",
          "width": 2
         },
         "marker": {
          "color": "rgb(31, 119, 180)",
          "size": 5
         },
         "mode": "lines+markers",
         "name": "Adj Close",
         "type": "scattergl",
         "x": [
          "2022-01-01T00:00:00",
          "2022-02-01T00:00:00",
          "2022-03-01T00:00:00",
          "2022-04-01T00:00:00",
          "2022-05-01T00:00:00",
          "2022-06-01T00:00:00",
          "2022-07-01T00:00:00",
          "2022-08-01T00:00:00",
          "2022-09-01T00:00:00",
          "2022-10-01T00:00:00",
          "2022-11-01T00:00:00",
          "2022-12-01T00:00:00"
         ],
         "xaxis": "x",
         "y": [
          173.771469,
          164.376373,
          173.823639,
          156.940002,
          148.38739,
          136.304245,
          162.015808,
          156.959625,
          137.971115,
          153.086044,
          148.029999,
          129.929993
         ],
         "yaxis": "y"
        },
        {
         "line": {
          "color": "rgb(255, 127, 14)",
          "width": 2
         },
         "marker": {
          "color": "rgb(255, 127, 14)",
          "size": 5
         },
         "mode": "lines+markers",
         "name": "LinearRegression",
         "type": "scattergl",
         "x": [
          "2022-01-01T00:00:00",
          "2022-02-01T00:00:00",
          "2022-03-01T00:00:00",
          "2022-04-01T00:00:00",
          "2022-05-01T00:00:00",
          "2022-06-01T00:00:00",
          "2022-07-01T00:00:00",
          "2022-08-01T00:00:00",
          "2022-09-01T00:00:00",
          "2022-10-01T00:00:00",
          "2022-11-01T00:00:00",
          "2022-12-01T00:00:00"
         ],
         "xaxis": "x",
         "y": [
          null,
          null,
          null,
          null,
          null,
          null,
          null,
          null,
          null,
          null,
          139.3013,
          138.1258
         ],
         "yaxis": "y"
        }
       ],
       "layout": {
        "showlegend": true,
        "template": {
         "data": {
          "bar": [
           {
            "error_x": {
             "color": "rgb(51,51,51)"
            },
            "error_y": {
             "color": "rgb(51,51,51)"
            },
            "marker": {
             "line": {
              "color": "rgb(237,237,237)",
              "width": 0.5
             },
             "pattern": {
              "fillmode": "overlay",
              "size": 10,
              "solidity": 0.2
             }
            },
            "type": "bar"
           }
          ],
          "barpolar": [
           {
            "marker": {
             "line": {
              "color": "rgb(237,237,237)",
              "width": 0.5
             },
             "pattern": {
              "fillmode": "overlay",
              "size": 10,
              "solidity": 0.2
             }
            },
            "type": "barpolar"
           }
          ],
          "carpet": [
           {
            "aaxis": {
             "endlinecolor": "rgb(51,51,51)",
             "gridcolor": "white",
             "linecolor": "white",
             "minorgridcolor": "white",
             "startlinecolor": "rgb(51,51,51)"
            },
            "baxis": {
             "endlinecolor": "rgb(51,51,51)",
             "gridcolor": "white",
             "linecolor": "white",
             "minorgridcolor": "white",
             "startlinecolor": "rgb(51,51,51)"
            },
            "type": "carpet"
           }
          ],
          "choropleth": [
           {
            "colorbar": {
             "outlinewidth": 0,
             "tickcolor": "rgb(237,237,237)",
             "ticklen": 6,
             "ticks": "inside"
            },
            "type": "choropleth"
           }
          ],
          "contour": [
           {
            "colorbar": {
             "outlinewidth": 0,
             "tickcolor": "rgb(237,237,237)",
             "ticklen": 6,
             "ticks": "inside"
            },
            "colorscale": [
             [
              0,
              "rgb(20,44,66)"
             ],
             [
              1,
              "rgb(90,179,244)"
             ]
            ],
            "type": "contour"
           }
          ],
          "contourcarpet": [
           {
            "colorbar": {
             "outlinewidth": 0,
             "tickcolor": "rgb(237,237,237)",
             "ticklen": 6,
             "ticks": "inside"
            },
            "type": "contourcarpet"
           }
          ],
          "heatmap": [
           {
            "colorbar": {
             "outlinewidth": 0,
             "tickcolor": "rgb(237,237,237)",
             "ticklen": 6,
             "ticks": "inside"
            },
            "colorscale": [
             [
              0,
              "rgb(20,44,66)"
             ],
             [
              1,
              "rgb(90,179,244)"
             ]
            ],
            "type": "heatmap"
           }
          ],
          "heatmapgl": [
           {
            "colorbar": {
             "outlinewidth": 0,
             "tickcolor": "rgb(237,237,237)",
             "ticklen": 6,
             "ticks": "inside"
            },
            "colorscale": [
             [
              0,
              "rgb(20,44,66)"
             ],
             [
              1,
              "rgb(90,179,244)"
             ]
            ],
            "type": "heatmapgl"
           }
          ],
          "histogram": [
           {
            "marker": {
             "pattern": {
              "fillmode": "overlay",
              "size": 10,
              "solidity": 0.2
             }
            },
            "type": "histogram"
           }
          ],
          "histogram2d": [
           {
            "colorbar": {
             "outlinewidth": 0,
             "tickcolor": "rgb(237,237,237)",
             "ticklen": 6,
             "ticks": "inside"
            },
            "colorscale": [
             [
              0,
              "rgb(20,44,66)"
             ],
             [
              1,
              "rgb(90,179,244)"
             ]
            ],
            "type": "histogram2d"
           }
          ],
          "histogram2dcontour": [
           {
            "colorbar": {
             "outlinewidth": 0,
             "tickcolor": "rgb(237,237,237)",
             "ticklen": 6,
             "ticks": "inside"
            },
            "colorscale": [
             [
              0,
              "rgb(20,44,66)"
             ],
             [
              1,
              "rgb(90,179,244)"
             ]
            ],
            "type": "histogram2dcontour"
           }
          ],
          "mesh3d": [
           {
            "colorbar": {
             "outlinewidth": 0,
             "tickcolor": "rgb(237,237,237)",
             "ticklen": 6,
             "ticks": "inside"
            },
            "type": "mesh3d"
           }
          ],
          "parcoords": [
           {
            "line": {
             "colorbar": {
              "outlinewidth": 0,
              "tickcolor": "rgb(237,237,237)",
              "ticklen": 6,
              "ticks": "inside"
             }
            },
            "type": "parcoords"
           }
          ],
          "pie": [
           {
            "automargin": true,
            "type": "pie"
           }
          ],
          "scatter": [
           {
            "fillpattern": {
             "fillmode": "overlay",
             "size": 10,
             "solidity": 0.2
            },
            "type": "scatter"
           }
          ],
          "scatter3d": [
           {
            "line": {
             "colorbar": {
              "outlinewidth": 0,
              "tickcolor": "rgb(237,237,237)",
              "ticklen": 6,
              "ticks": "inside"
             }
            },
            "marker": {
             "colorbar": {
              "outlinewidth": 0,
              "tickcolor": "rgb(237,237,237)",
              "ticklen": 6,
              "ticks": "inside"
             }
            },
            "type": "scatter3d"
           }
          ],
          "scattercarpet": [
           {
            "marker": {
             "colorbar": {
              "outlinewidth": 0,
              "tickcolor": "rgb(237,237,237)",
              "ticklen": 6,
              "ticks": "inside"
             }
            },
            "type": "scattercarpet"
           }
          ],
          "scattergeo": [
           {
            "marker": {
             "colorbar": {
              "outlinewidth": 0,
              "tickcolor": "rgb(237,237,237)",
              "ticklen": 6,
              "ticks": "inside"
             }
            },
            "type": "scattergeo"
           }
          ],
          "scattergl": [
           {
            "marker": {
             "colorbar": {
              "outlinewidth": 0,
              "tickcolor": "rgb(237,237,237)",
              "ticklen": 6,
              "ticks": "inside"
             }
            },
            "type": "scattergl"
           }
          ],
          "scattermapbox": [
           {
            "marker": {
             "colorbar": {
              "outlinewidth": 0,
              "tickcolor": "rgb(237,237,237)",
              "ticklen": 6,
              "ticks": "inside"
             }
            },
            "type": "scattermapbox"
           }
          ],
          "scatterpolar": [
           {
            "marker": {
             "colorbar": {
              "outlinewidth": 0,
              "tickcolor": "rgb(237,237,237)",
              "ticklen": 6,
              "ticks": "inside"
             }
            },
            "type": "scatterpolar"
           }
          ],
          "scatterpolargl": [
           {
            "marker": {
             "colorbar": {
              "outlinewidth": 0,
              "tickcolor": "rgb(237,237,237)",
              "ticklen": 6,
              "ticks": "inside"
             }
            },
            "type": "scatterpolargl"
           }
          ],
          "scatterternary": [
           {
            "marker": {
             "colorbar": {
              "outlinewidth": 0,
              "tickcolor": "rgb(237,237,237)",
              "ticklen": 6,
              "ticks": "inside"
             }
            },
            "type": "scatterternary"
           }
          ],
          "surface": [
           {
            "colorbar": {
             "outlinewidth": 0,
             "tickcolor": "rgb(237,237,237)",
             "ticklen": 6,
             "ticks": "inside"
            },
            "colorscale": [
             [
              0,
              "rgb(20,44,66)"
             ],
             [
              1,
              "rgb(90,179,244)"
             ]
            ],
            "type": "surface"
           }
          ],
          "table": [
           {
            "cells": {
             "fill": {
              "color": "rgb(237,237,237)"
             },
             "line": {
              "color": "white"
             }
            },
            "header": {
             "fill": {
              "color": "rgb(217,217,217)"
             },
             "line": {
              "color": "white"
             }
            },
            "type": "table"
           }
          ]
         },
         "layout": {
          "annotationdefaults": {
           "arrowhead": 0,
           "arrowwidth": 1
          },
          "autotypenumbers": "strict",
          "coloraxis": {
           "colorbar": {
            "outlinewidth": 0,
            "tickcolor": "rgb(237,237,237)",
            "ticklen": 6,
            "ticks": "inside"
           }
          },
          "colorscale": {
           "sequential": [
            [
             0,
             "rgb(20,44,66)"
            ],
            [
             1,
             "rgb(90,179,244)"
            ]
           ],
           "sequentialminus": [
            [
             0,
             "rgb(20,44,66)"
            ],
            [
             1,
             "rgb(90,179,244)"
            ]
           ]
          },
          "colorway": [
           "#F8766D",
           "#A3A500",
           "#00BF7D",
           "#00B0F6",
           "#E76BF3"
          ],
          "font": {
           "color": "rgb(51,51,51)"
          },
          "geo": {
           "bgcolor": "white",
           "lakecolor": "white",
           "landcolor": "rgb(237,237,237)",
           "showlakes": true,
           "showland": true,
           "subunitcolor": "white"
          },
          "hoverlabel": {
           "align": "left"
          },
          "hovermode": "closest",
          "paper_bgcolor": "white",
          "plot_bgcolor": "rgb(237,237,237)",
          "polar": {
           "angularaxis": {
            "gridcolor": "white",
            "linecolor": "white",
            "showgrid": true,
            "tickcolor": "rgb(51,51,51)",
            "ticks": "outside"
           },
           "bgcolor": "rgb(237,237,237)",
           "radialaxis": {
            "gridcolor": "white",
            "linecolor": "white",
            "showgrid": true,
            "tickcolor": "rgb(51,51,51)",
            "ticks": "outside"
           }
          },
          "scene": {
           "xaxis": {
            "backgroundcolor": "rgb(237,237,237)",
            "gridcolor": "white",
            "gridwidth": 2,
            "linecolor": "white",
            "showbackground": true,
            "showgrid": true,
            "tickcolor": "rgb(51,51,51)",
            "ticks": "outside",
            "zerolinecolor": "white"
           },
           "yaxis": {
            "backgroundcolor": "rgb(237,237,237)",
            "gridcolor": "white",
            "gridwidth": 2,
            "linecolor": "white",
            "showbackground": true,
            "showgrid": true,
            "tickcolor": "rgb(51,51,51)",
            "ticks": "outside",
            "zerolinecolor": "white"
           },
           "zaxis": {
            "backgroundcolor": "rgb(237,237,237)",
            "gridcolor": "white",
            "gridwidth": 2,
            "linecolor": "white",
            "showbackground": true,
            "showgrid": true,
            "tickcolor": "rgb(51,51,51)",
            "ticks": "outside",
            "zerolinecolor": "white"
           }
          },
          "shapedefaults": {
           "fillcolor": "black",
           "line": {
            "width": 0
           },
           "opacity": 0.3
          },
          "ternary": {
           "aaxis": {
            "gridcolor": "white",
            "linecolor": "white",
            "showgrid": true,
            "tickcolor": "rgb(51,51,51)",
            "ticks": "outside"
           },
           "baxis": {
            "gridcolor": "white",
            "linecolor": "white",
            "showgrid": true,
            "tickcolor": "rgb(51,51,51)",
            "ticks": "outside"
           },
           "bgcolor": "rgb(237,237,237)",
           "caxis": {
            "gridcolor": "white",
            "linecolor": "white",
            "showgrid": true,
            "tickcolor": "rgb(51,51,51)",
            "ticks": "outside"
           }
          },
          "xaxis": {
           "automargin": true,
           "gridcolor": "white",
           "linecolor": "white",
           "showgrid": true,
           "tickcolor": "rgb(51,51,51)",
           "ticks": "outside",
           "title": {
            "standoff": 15
           },
           "zerolinecolor": "white"
          },
          "yaxis": {
           "automargin": true,
           "gridcolor": "white",
           "linecolor": "white",
           "showgrid": true,
           "tickcolor": "rgb(51,51,51)",
           "ticks": "outside",
           "title": {
            "standoff": 15
           },
           "zerolinecolor": "white"
          }
         }
        },
        "title": {
         "text": "Actual vs. Forecast (Out-of-Sample)"
        },
        "xaxis": {
         "anchor": "y",
         "domain": [
          0,
          1
         ]
        },
        "yaxis": {
         "anchor": "x",
         "domain": [
          0,
          1
         ]
        }
       }
      }
     },
     "metadata": {},
     "output_type": "display_data"
    },
    {
     "data": {
      "application/vnd.plotly.v1+json": {
       "config": {
        "plotlyServerURL": "https://plot.ly"
       },
       "data": [
        {
         "line": {
          "color": "rgb(31, 119, 180)",
          "width": 2
         },
         "marker": {
          "color": "rgb(31, 119, 180)",
          "size": 5
         },
         "mode": "lines+markers",
         "name": "Adj Close",
         "type": "scattergl",
         "x": [
          "2022-01-01T00:00:00",
          "2022-02-01T00:00:00",
          "2022-03-01T00:00:00",
          "2022-04-01T00:00:00",
          "2022-05-01T00:00:00",
          "2022-06-01T00:00:00",
          "2022-07-01T00:00:00",
          "2022-08-01T00:00:00",
          "2022-09-01T00:00:00",
          "2022-10-01T00:00:00",
          "2022-11-01T00:00:00",
          "2022-12-01T00:00:00"
         ],
         "xaxis": "x",
         "y": [
          173.771469,
          164.376373,
          173.823639,
          156.940002,
          148.38739,
          136.304245,
          162.015808,
          156.959625,
          137.971115,
          153.086044,
          148.029999,
          129.929993
         ],
         "yaxis": "y"
        },
        {
         "line": {
          "color": "rgb(255, 127, 14)",
          "width": 2
         },
         "marker": {
          "color": "rgb(255, 127, 14)",
          "size": 5
         },
         "mode": "lines+markers",
         "name": "Ridge",
         "type": "scattergl",
         "x": [
          "2022-01-01T00:00:00",
          "2022-02-01T00:00:00",
          "2022-03-01T00:00:00",
          "2022-04-01T00:00:00",
          "2022-05-01T00:00:00",
          "2022-06-01T00:00:00",
          "2022-07-01T00:00:00",
          "2022-08-01T00:00:00",
          "2022-09-01T00:00:00",
          "2022-10-01T00:00:00",
          "2022-11-01T00:00:00",
          "2022-12-01T00:00:00"
         ],
         "xaxis": "x",
         "y": [
          null,
          null,
          null,
          null,
          null,
          null,
          null,
          null,
          null,
          null,
          139.3031,
          138.1253
         ],
         "yaxis": "y"
        }
       ],
       "layout": {
        "showlegend": true,
        "template": {
         "data": {
          "bar": [
           {
            "error_x": {
             "color": "rgb(51,51,51)"
            },
            "error_y": {
             "color": "rgb(51,51,51)"
            },
            "marker": {
             "line": {
              "color": "rgb(237,237,237)",
              "width": 0.5
             },
             "pattern": {
              "fillmode": "overlay",
              "size": 10,
              "solidity": 0.2
             }
            },
            "type": "bar"
           }
          ],
          "barpolar": [
           {
            "marker": {
             "line": {
              "color": "rgb(237,237,237)",
              "width": 0.5
             },
             "pattern": {
              "fillmode": "overlay",
              "size": 10,
              "solidity": 0.2
             }
            },
            "type": "barpolar"
           }
          ],
          "carpet": [
           {
            "aaxis": {
             "endlinecolor": "rgb(51,51,51)",
             "gridcolor": "white",
             "linecolor": "white",
             "minorgridcolor": "white",
             "startlinecolor": "rgb(51,51,51)"
            },
            "baxis": {
             "endlinecolor": "rgb(51,51,51)",
             "gridcolor": "white",
             "linecolor": "white",
             "minorgridcolor": "white",
             "startlinecolor": "rgb(51,51,51)"
            },
            "type": "carpet"
           }
          ],
          "choropleth": [
           {
            "colorbar": {
             "outlinewidth": 0,
             "tickcolor": "rgb(237,237,237)",
             "ticklen": 6,
             "ticks": "inside"
            },
            "type": "choropleth"
           }
          ],
          "contour": [
           {
            "colorbar": {
             "outlinewidth": 0,
             "tickcolor": "rgb(237,237,237)",
             "ticklen": 6,
             "ticks": "inside"
            },
            "colorscale": [
             [
              0,
              "rgb(20,44,66)"
             ],
             [
              1,
              "rgb(90,179,244)"
             ]
            ],
            "type": "contour"
           }
          ],
          "contourcarpet": [
           {
            "colorbar": {
             "outlinewidth": 0,
             "tickcolor": "rgb(237,237,237)",
             "ticklen": 6,
             "ticks": "inside"
            },
            "type": "contourcarpet"
           }
          ],
          "heatmap": [
           {
            "colorbar": {
             "outlinewidth": 0,
             "tickcolor": "rgb(237,237,237)",
             "ticklen": 6,
             "ticks": "inside"
            },
            "colorscale": [
             [
              0,
              "rgb(20,44,66)"
             ],
             [
              1,
              "rgb(90,179,244)"
             ]
            ],
            "type": "heatmap"
           }
          ],
          "heatmapgl": [
           {
            "colorbar": {
             "outlinewidth": 0,
             "tickcolor": "rgb(237,237,237)",
             "ticklen": 6,
             "ticks": "inside"
            },
            "colorscale": [
             [
              0,
              "rgb(20,44,66)"
             ],
             [
              1,
              "rgb(90,179,244)"
             ]
            ],
            "type": "heatmapgl"
           }
          ],
          "histogram": [
           {
            "marker": {
             "pattern": {
              "fillmode": "overlay",
              "size": 10,
              "solidity": 0.2
             }
            },
            "type": "histogram"
           }
          ],
          "histogram2d": [
           {
            "colorbar": {
             "outlinewidth": 0,
             "tickcolor": "rgb(237,237,237)",
             "ticklen": 6,
             "ticks": "inside"
            },
            "colorscale": [
             [
              0,
              "rgb(20,44,66)"
             ],
             [
              1,
              "rgb(90,179,244)"
             ]
            ],
            "type": "histogram2d"
           }
          ],
          "histogram2dcontour": [
           {
            "colorbar": {
             "outlinewidth": 0,
             "tickcolor": "rgb(237,237,237)",
             "ticklen": 6,
             "ticks": "inside"
            },
            "colorscale": [
             [
              0,
              "rgb(20,44,66)"
             ],
             [
              1,
              "rgb(90,179,244)"
             ]
            ],
            "type": "histogram2dcontour"
           }
          ],
          "mesh3d": [
           {
            "colorbar": {
             "outlinewidth": 0,
             "tickcolor": "rgb(237,237,237)",
             "ticklen": 6,
             "ticks": "inside"
            },
            "type": "mesh3d"
           }
          ],
          "parcoords": [
           {
            "line": {
             "colorbar": {
              "outlinewidth": 0,
              "tickcolor": "rgb(237,237,237)",
              "ticklen": 6,
              "ticks": "inside"
             }
            },
            "type": "parcoords"
           }
          ],
          "pie": [
           {
            "automargin": true,
            "type": "pie"
           }
          ],
          "scatter": [
           {
            "fillpattern": {
             "fillmode": "overlay",
             "size": 10,
             "solidity": 0.2
            },
            "type": "scatter"
           }
          ],
          "scatter3d": [
           {
            "line": {
             "colorbar": {
              "outlinewidth": 0,
              "tickcolor": "rgb(237,237,237)",
              "ticklen": 6,
              "ticks": "inside"
             }
            },
            "marker": {
             "colorbar": {
              "outlinewidth": 0,
              "tickcolor": "rgb(237,237,237)",
              "ticklen": 6,
              "ticks": "inside"
             }
            },
            "type": "scatter3d"
           }
          ],
          "scattercarpet": [
           {
            "marker": {
             "colorbar": {
              "outlinewidth": 0,
              "tickcolor": "rgb(237,237,237)",
              "ticklen": 6,
              "ticks": "inside"
             }
            },
            "type": "scattercarpet"
           }
          ],
          "scattergeo": [
           {
            "marker": {
             "colorbar": {
              "outlinewidth": 0,
              "tickcolor": "rgb(237,237,237)",
              "ticklen": 6,
              "ticks": "inside"
             }
            },
            "type": "scattergeo"
           }
          ],
          "scattergl": [
           {
            "marker": {
             "colorbar": {
              "outlinewidth": 0,
              "tickcolor": "rgb(237,237,237)",
              "ticklen": 6,
              "ticks": "inside"
             }
            },
            "type": "scattergl"
           }
          ],
          "scattermapbox": [
           {
            "marker": {
             "colorbar": {
              "outlinewidth": 0,
              "tickcolor": "rgb(237,237,237)",
              "ticklen": 6,
              "ticks": "inside"
             }
            },
            "type": "scattermapbox"
           }
          ],
          "scatterpolar": [
           {
            "marker": {
             "colorbar": {
              "outlinewidth": 0,
              "tickcolor": "rgb(237,237,237)",
              "ticklen": 6,
              "ticks": "inside"
             }
            },
            "type": "scatterpolar"
           }
          ],
          "scatterpolargl": [
           {
            "marker": {
             "colorbar": {
              "outlinewidth": 0,
              "tickcolor": "rgb(237,237,237)",
              "ticklen": 6,
              "ticks": "inside"
             }
            },
            "type": "scatterpolargl"
           }
          ],
          "scatterternary": [
           {
            "marker": {
             "colorbar": {
              "outlinewidth": 0,
              "tickcolor": "rgb(237,237,237)",
              "ticklen": 6,
              "ticks": "inside"
             }
            },
            "type": "scatterternary"
           }
          ],
          "surface": [
           {
            "colorbar": {
             "outlinewidth": 0,
             "tickcolor": "rgb(237,237,237)",
             "ticklen": 6,
             "ticks": "inside"
            },
            "colorscale": [
             [
              0,
              "rgb(20,44,66)"
             ],
             [
              1,
              "rgb(90,179,244)"
             ]
            ],
            "type": "surface"
           }
          ],
          "table": [
           {
            "cells": {
             "fill": {
              "color": "rgb(237,237,237)"
             },
             "line": {
              "color": "white"
             }
            },
            "header": {
             "fill": {
              "color": "rgb(217,217,217)"
             },
             "line": {
              "color": "white"
             }
            },
            "type": "table"
           }
          ]
         },
         "layout": {
          "annotationdefaults": {
           "arrowhead": 0,
           "arrowwidth": 1
          },
          "autotypenumbers": "strict",
          "coloraxis": {
           "colorbar": {
            "outlinewidth": 0,
            "tickcolor": "rgb(237,237,237)",
            "ticklen": 6,
            "ticks": "inside"
           }
          },
          "colorscale": {
           "sequential": [
            [
             0,
             "rgb(20,44,66)"
            ],
            [
             1,
             "rgb(90,179,244)"
            ]
           ],
           "sequentialminus": [
            [
             0,
             "rgb(20,44,66)"
            ],
            [
             1,
             "rgb(90,179,244)"
            ]
           ]
          },
          "colorway": [
           "#F8766D",
           "#A3A500",
           "#00BF7D",
           "#00B0F6",
           "#E76BF3"
          ],
          "font": {
           "color": "rgb(51,51,51)"
          },
          "geo": {
           "bgcolor": "white",
           "lakecolor": "white",
           "landcolor": "rgb(237,237,237)",
           "showlakes": true,
           "showland": true,
           "subunitcolor": "white"
          },
          "hoverlabel": {
           "align": "left"
          },
          "hovermode": "closest",
          "paper_bgcolor": "white",
          "plot_bgcolor": "rgb(237,237,237)",
          "polar": {
           "angularaxis": {
            "gridcolor": "white",
            "linecolor": "white",
            "showgrid": true,
            "tickcolor": "rgb(51,51,51)",
            "ticks": "outside"
           },
           "bgcolor": "rgb(237,237,237)",
           "radialaxis": {
            "gridcolor": "white",
            "linecolor": "white",
            "showgrid": true,
            "tickcolor": "rgb(51,51,51)",
            "ticks": "outside"
           }
          },
          "scene": {
           "xaxis": {
            "backgroundcolor": "rgb(237,237,237)",
            "gridcolor": "white",
            "gridwidth": 2,
            "linecolor": "white",
            "showbackground": true,
            "showgrid": true,
            "tickcolor": "rgb(51,51,51)",
            "ticks": "outside",
            "zerolinecolor": "white"
           },
           "yaxis": {
            "backgroundcolor": "rgb(237,237,237)",
            "gridcolor": "white",
            "gridwidth": 2,
            "linecolor": "white",
            "showbackground": true,
            "showgrid": true,
            "tickcolor": "rgb(51,51,51)",
            "ticks": "outside",
            "zerolinecolor": "white"
           },
           "zaxis": {
            "backgroundcolor": "rgb(237,237,237)",
            "gridcolor": "white",
            "gridwidth": 2,
            "linecolor": "white",
            "showbackground": true,
            "showgrid": true,
            "tickcolor": "rgb(51,51,51)",
            "ticks": "outside",
            "zerolinecolor": "white"
           }
          },
          "shapedefaults": {
           "fillcolor": "black",
           "line": {
            "width": 0
           },
           "opacity": 0.3
          },
          "ternary": {
           "aaxis": {
            "gridcolor": "white",
            "linecolor": "white",
            "showgrid": true,
            "tickcolor": "rgb(51,51,51)",
            "ticks": "outside"
           },
           "baxis": {
            "gridcolor": "white",
            "linecolor": "white",
            "showgrid": true,
            "tickcolor": "rgb(51,51,51)",
            "ticks": "outside"
           },
           "bgcolor": "rgb(237,237,237)",
           "caxis": {
            "gridcolor": "white",
            "linecolor": "white",
            "showgrid": true,
            "tickcolor": "rgb(51,51,51)",
            "ticks": "outside"
           }
          },
          "xaxis": {
           "automargin": true,
           "gridcolor": "white",
           "linecolor": "white",
           "showgrid": true,
           "tickcolor": "rgb(51,51,51)",
           "ticks": "outside",
           "title": {
            "standoff": 15
           },
           "zerolinecolor": "white"
          },
          "yaxis": {
           "automargin": true,
           "gridcolor": "white",
           "linecolor": "white",
           "showgrid": true,
           "tickcolor": "rgb(51,51,51)",
           "ticks": "outside",
           "title": {
            "standoff": 15
           },
           "zerolinecolor": "white"
          }
         }
        },
        "title": {
         "text": "Actual vs. Forecast (Out-of-Sample)"
        },
        "xaxis": {
         "anchor": "y",
         "domain": [
          0,
          1
         ]
        },
        "yaxis": {
         "anchor": "x",
         "domain": [
          0,
          1
         ]
        }
       }
      }
     },
     "metadata": {},
     "output_type": "display_data"
    },
    {
     "data": {
      "application/vnd.plotly.v1+json": {
       "config": {
        "plotlyServerURL": "https://plot.ly"
       },
       "data": [
        {
         "line": {
          "color": "rgb(31, 119, 180)",
          "width": 2
         },
         "marker": {
          "color": "rgb(31, 119, 180)",
          "size": 5
         },
         "mode": "lines+markers",
         "name": "Adj Close",
         "type": "scattergl",
         "x": [
          "2022-01-01T00:00:00",
          "2022-02-01T00:00:00",
          "2022-03-01T00:00:00",
          "2022-04-01T00:00:00",
          "2022-05-01T00:00:00",
          "2022-06-01T00:00:00",
          "2022-07-01T00:00:00",
          "2022-08-01T00:00:00",
          "2022-09-01T00:00:00",
          "2022-10-01T00:00:00",
          "2022-11-01T00:00:00",
          "2022-12-01T00:00:00"
         ],
         "xaxis": "x",
         "y": [
          173.771469,
          164.376373,
          173.823639,
          156.940002,
          148.38739,
          136.304245,
          162.015808,
          156.959625,
          137.971115,
          153.086044,
          148.029999,
          129.929993
         ],
         "yaxis": "y"
        },
        {
         "line": {
          "color": "rgb(255, 127, 14)",
          "width": 2
         },
         "marker": {
          "color": "rgb(255, 127, 14)",
          "size": 5
         },
         "mode": "lines+markers",
         "name": "ElasticNet",
         "type": "scattergl",
         "x": [
          "2022-01-01T00:00:00",
          "2022-02-01T00:00:00",
          "2022-03-01T00:00:00",
          "2022-04-01T00:00:00",
          "2022-05-01T00:00:00",
          "2022-06-01T00:00:00",
          "2022-07-01T00:00:00",
          "2022-08-01T00:00:00",
          "2022-09-01T00:00:00",
          "2022-10-01T00:00:00",
          "2022-11-01T00:00:00",
          "2022-12-01T00:00:00"
         ],
         "xaxis": "x",
         "y": [
          null,
          null,
          null,
          null,
          null,
          null,
          null,
          null,
          null,
          null,
          139.3649,
          138.1109
         ],
         "yaxis": "y"
        }
       ],
       "layout": {
        "showlegend": true,
        "template": {
         "data": {
          "bar": [
           {
            "error_x": {
             "color": "rgb(51,51,51)"
            },
            "error_y": {
             "color": "rgb(51,51,51)"
            },
            "marker": {
             "line": {
              "color": "rgb(237,237,237)",
              "width": 0.5
             },
             "pattern": {
              "fillmode": "overlay",
              "size": 10,
              "solidity": 0.2
             }
            },
            "type": "bar"
           }
          ],
          "barpolar": [
           {
            "marker": {
             "line": {
              "color": "rgb(237,237,237)",
              "width": 0.5
             },
             "pattern": {
              "fillmode": "overlay",
              "size": 10,
              "solidity": 0.2
             }
            },
            "type": "barpolar"
           }
          ],
          "carpet": [
           {
            "aaxis": {
             "endlinecolor": "rgb(51,51,51)",
             "gridcolor": "white",
             "linecolor": "white",
             "minorgridcolor": "white",
             "startlinecolor": "rgb(51,51,51)"
            },
            "baxis": {
             "endlinecolor": "rgb(51,51,51)",
             "gridcolor": "white",
             "linecolor": "white",
             "minorgridcolor": "white",
             "startlinecolor": "rgb(51,51,51)"
            },
            "type": "carpet"
           }
          ],
          "choropleth": [
           {
            "colorbar": {
             "outlinewidth": 0,
             "tickcolor": "rgb(237,237,237)",
             "ticklen": 6,
             "ticks": "inside"
            },
            "type": "choropleth"
           }
          ],
          "contour": [
           {
            "colorbar": {
             "outlinewidth": 0,
             "tickcolor": "rgb(237,237,237)",
             "ticklen": 6,
             "ticks": "inside"
            },
            "colorscale": [
             [
              0,
              "rgb(20,44,66)"
             ],
             [
              1,
              "rgb(90,179,244)"
             ]
            ],
            "type": "contour"
           }
          ],
          "contourcarpet": [
           {
            "colorbar": {
             "outlinewidth": 0,
             "tickcolor": "rgb(237,237,237)",
             "ticklen": 6,
             "ticks": "inside"
            },
            "type": "contourcarpet"
           }
          ],
          "heatmap": [
           {
            "colorbar": {
             "outlinewidth": 0,
             "tickcolor": "rgb(237,237,237)",
             "ticklen": 6,
             "ticks": "inside"
            },
            "colorscale": [
             [
              0,
              "rgb(20,44,66)"
             ],
             [
              1,
              "rgb(90,179,244)"
             ]
            ],
            "type": "heatmap"
           }
          ],
          "heatmapgl": [
           {
            "colorbar": {
             "outlinewidth": 0,
             "tickcolor": "rgb(237,237,237)",
             "ticklen": 6,
             "ticks": "inside"
            },
            "colorscale": [
             [
              0,
              "rgb(20,44,66)"
             ],
             [
              1,
              "rgb(90,179,244)"
             ]
            ],
            "type": "heatmapgl"
           }
          ],
          "histogram": [
           {
            "marker": {
             "pattern": {
              "fillmode": "overlay",
              "size": 10,
              "solidity": 0.2
             }
            },
            "type": "histogram"
           }
          ],
          "histogram2d": [
           {
            "colorbar": {
             "outlinewidth": 0,
             "tickcolor": "rgb(237,237,237)",
             "ticklen": 6,
             "ticks": "inside"
            },
            "colorscale": [
             [
              0,
              "rgb(20,44,66)"
             ],
             [
              1,
              "rgb(90,179,244)"
             ]
            ],
            "type": "histogram2d"
           }
          ],
          "histogram2dcontour": [
           {
            "colorbar": {
             "outlinewidth": 0,
             "tickcolor": "rgb(237,237,237)",
             "ticklen": 6,
             "ticks": "inside"
            },
            "colorscale": [
             [
              0,
              "rgb(20,44,66)"
             ],
             [
              1,
              "rgb(90,179,244)"
             ]
            ],
            "type": "histogram2dcontour"
           }
          ],
          "mesh3d": [
           {
            "colorbar": {
             "outlinewidth": 0,
             "tickcolor": "rgb(237,237,237)",
             "ticklen": 6,
             "ticks": "inside"
            },
            "type": "mesh3d"
           }
          ],
          "parcoords": [
           {
            "line": {
             "colorbar": {
              "outlinewidth": 0,
              "tickcolor": "rgb(237,237,237)",
              "ticklen": 6,
              "ticks": "inside"
             }
            },
            "type": "parcoords"
           }
          ],
          "pie": [
           {
            "automargin": true,
            "type": "pie"
           }
          ],
          "scatter": [
           {
            "fillpattern": {
             "fillmode": "overlay",
             "size": 10,
             "solidity": 0.2
            },
            "type": "scatter"
           }
          ],
          "scatter3d": [
           {
            "line": {
             "colorbar": {
              "outlinewidth": 0,
              "tickcolor": "rgb(237,237,237)",
              "ticklen": 6,
              "ticks": "inside"
             }
            },
            "marker": {
             "colorbar": {
              "outlinewidth": 0,
              "tickcolor": "rgb(237,237,237)",
              "ticklen": 6,
              "ticks": "inside"
             }
            },
            "type": "scatter3d"
           }
          ],
          "scattercarpet": [
           {
            "marker": {
             "colorbar": {
              "outlinewidth": 0,
              "tickcolor": "rgb(237,237,237)",
              "ticklen": 6,
              "ticks": "inside"
             }
            },
            "type": "scattercarpet"
           }
          ],
          "scattergeo": [
           {
            "marker": {
             "colorbar": {
              "outlinewidth": 0,
              "tickcolor": "rgb(237,237,237)",
              "ticklen": 6,
              "ticks": "inside"
             }
            },
            "type": "scattergeo"
           }
          ],
          "scattergl": [
           {
            "marker": {
             "colorbar": {
              "outlinewidth": 0,
              "tickcolor": "rgb(237,237,237)",
              "ticklen": 6,
              "ticks": "inside"
             }
            },
            "type": "scattergl"
           }
          ],
          "scattermapbox": [
           {
            "marker": {
             "colorbar": {
              "outlinewidth": 0,
              "tickcolor": "rgb(237,237,237)",
              "ticklen": 6,
              "ticks": "inside"
             }
            },
            "type": "scattermapbox"
           }
          ],
          "scatterpolar": [
           {
            "marker": {
             "colorbar": {
              "outlinewidth": 0,
              "tickcolor": "rgb(237,237,237)",
              "ticklen": 6,
              "ticks": "inside"
             }
            },
            "type": "scatterpolar"
           }
          ],
          "scatterpolargl": [
           {
            "marker": {
             "colorbar": {
              "outlinewidth": 0,
              "tickcolor": "rgb(237,237,237)",
              "ticklen": 6,
              "ticks": "inside"
             }
            },
            "type": "scatterpolargl"
           }
          ],
          "scatterternary": [
           {
            "marker": {
             "colorbar": {
              "outlinewidth": 0,
              "tickcolor": "rgb(237,237,237)",
              "ticklen": 6,
              "ticks": "inside"
             }
            },
            "type": "scatterternary"
           }
          ],
          "surface": [
           {
            "colorbar": {
             "outlinewidth": 0,
             "tickcolor": "rgb(237,237,237)",
             "ticklen": 6,
             "ticks": "inside"
            },
            "colorscale": [
             [
              0,
              "rgb(20,44,66)"
             ],
             [
              1,
              "rgb(90,179,244)"
             ]
            ],
            "type": "surface"
           }
          ],
          "table": [
           {
            "cells": {
             "fill": {
              "color": "rgb(237,237,237)"
             },
             "line": {
              "color": "white"
             }
            },
            "header": {
             "fill": {
              "color": "rgb(217,217,217)"
             },
             "line": {
              "color": "white"
             }
            },
            "type": "table"
           }
          ]
         },
         "layout": {
          "annotationdefaults": {
           "arrowhead": 0,
           "arrowwidth": 1
          },
          "autotypenumbers": "strict",
          "coloraxis": {
           "colorbar": {
            "outlinewidth": 0,
            "tickcolor": "rgb(237,237,237)",
            "ticklen": 6,
            "ticks": "inside"
           }
          },
          "colorscale": {
           "sequential": [
            [
             0,
             "rgb(20,44,66)"
            ],
            [
             1,
             "rgb(90,179,244)"
            ]
           ],
           "sequentialminus": [
            [
             0,
             "rgb(20,44,66)"
            ],
            [
             1,
             "rgb(90,179,244)"
            ]
           ]
          },
          "colorway": [
           "#F8766D",
           "#A3A500",
           "#00BF7D",
           "#00B0F6",
           "#E76BF3"
          ],
          "font": {
           "color": "rgb(51,51,51)"
          },
          "geo": {
           "bgcolor": "white",
           "lakecolor": "white",
           "landcolor": "rgb(237,237,237)",
           "showlakes": true,
           "showland": true,
           "subunitcolor": "white"
          },
          "hoverlabel": {
           "align": "left"
          },
          "hovermode": "closest",
          "paper_bgcolor": "white",
          "plot_bgcolor": "rgb(237,237,237)",
          "polar": {
           "angularaxis": {
            "gridcolor": "white",
            "linecolor": "white",
            "showgrid": true,
            "tickcolor": "rgb(51,51,51)",
            "ticks": "outside"
           },
           "bgcolor": "rgb(237,237,237)",
           "radialaxis": {
            "gridcolor": "white",
            "linecolor": "white",
            "showgrid": true,
            "tickcolor": "rgb(51,51,51)",
            "ticks": "outside"
           }
          },
          "scene": {
           "xaxis": {
            "backgroundcolor": "rgb(237,237,237)",
            "gridcolor": "white",
            "gridwidth": 2,
            "linecolor": "white",
            "showbackground": true,
            "showgrid": true,
            "tickcolor": "rgb(51,51,51)",
            "ticks": "outside",
            "zerolinecolor": "white"
           },
           "yaxis": {
            "backgroundcolor": "rgb(237,237,237)",
            "gridcolor": "white",
            "gridwidth": 2,
            "linecolor": "white",
            "showbackground": true,
            "showgrid": true,
            "tickcolor": "rgb(51,51,51)",
            "ticks": "outside",
            "zerolinecolor": "white"
           },
           "zaxis": {
            "backgroundcolor": "rgb(237,237,237)",
            "gridcolor": "white",
            "gridwidth": 2,
            "linecolor": "white",
            "showbackground": true,
            "showgrid": true,
            "tickcolor": "rgb(51,51,51)",
            "ticks": "outside",
            "zerolinecolor": "white"
           }
          },
          "shapedefaults": {
           "fillcolor": "black",
           "line": {
            "width": 0
           },
           "opacity": 0.3
          },
          "ternary": {
           "aaxis": {
            "gridcolor": "white",
            "linecolor": "white",
            "showgrid": true,
            "tickcolor": "rgb(51,51,51)",
            "ticks": "outside"
           },
           "baxis": {
            "gridcolor": "white",
            "linecolor": "white",
            "showgrid": true,
            "tickcolor": "rgb(51,51,51)",
            "ticks": "outside"
           },
           "bgcolor": "rgb(237,237,237)",
           "caxis": {
            "gridcolor": "white",
            "linecolor": "white",
            "showgrid": true,
            "tickcolor": "rgb(51,51,51)",
            "ticks": "outside"
           }
          },
          "xaxis": {
           "automargin": true,
           "gridcolor": "white",
           "linecolor": "white",
           "showgrid": true,
           "tickcolor": "rgb(51,51,51)",
           "ticks": "outside",
           "title": {
            "standoff": 15
           },
           "zerolinecolor": "white"
          },
          "yaxis": {
           "automargin": true,
           "gridcolor": "white",
           "linecolor": "white",
           "showgrid": true,
           "tickcolor": "rgb(51,51,51)",
           "ticks": "outside",
           "title": {
            "standoff": 15
           },
           "zerolinecolor": "white"
          }
         }
        },
        "title": {
         "text": "Actual vs. Forecast (Out-of-Sample)"
        },
        "xaxis": {
         "anchor": "y",
         "domain": [
          0,
          1
         ]
        },
        "yaxis": {
         "anchor": "x",
         "domain": [
          0,
          1
         ]
        }
       }
      }
     },
     "metadata": {},
     "output_type": "display_data"
    }
   ],
   "source": [
    "for model in top10:\n",
    "    exp.plot_model(model)"
   ]
  },
  {
   "cell_type": "code",
   "execution_count": null,
   "metadata": {},
   "outputs": [],
   "source": []
  },
  {
   "cell_type": "code",
   "execution_count": null,
   "metadata": {},
   "outputs": [],
   "source": []
  },
  {
   "cell_type": "code",
   "execution_count": null,
   "metadata": {},
   "outputs": [],
   "source": []
  },
  {
   "cell_type": "code",
   "execution_count": null,
   "metadata": {},
   "outputs": [],
   "source": []
  },
  {
   "cell_type": "code",
   "execution_count": null,
   "metadata": {},
   "outputs": [],
   "source": []
  },
  {
   "cell_type": "code",
   "execution_count": null,
   "metadata": {},
   "outputs": [],
   "source": []
  },
  {
   "cell_type": "code",
   "execution_count": null,
   "metadata": {},
   "outputs": [],
   "source": []
  },
  {
   "cell_type": "code",
   "execution_count": null,
   "metadata": {},
   "outputs": [],
   "source": []
  },
  {
   "cell_type": "code",
   "execution_count": null,
   "metadata": {},
   "outputs": [],
   "source": []
  },
  {
   "cell_type": "code",
   "execution_count": null,
   "metadata": {},
   "outputs": [],
   "source": []
  },
  {
   "cell_type": "code",
   "execution_count": null,
   "metadata": {},
   "outputs": [],
   "source": []
  },
  {
   "cell_type": "code",
   "execution_count": null,
   "metadata": {},
   "outputs": [],
   "source": []
  },
  {
   "cell_type": "code",
   "execution_count": null,
   "metadata": {},
   "outputs": [],
   "source": []
  },
  {
   "cell_type": "code",
   "execution_count": null,
   "metadata": {},
   "outputs": [],
   "source": []
  },
  {
   "cell_type": "code",
   "execution_count": null,
   "metadata": {},
   "outputs": [],
   "source": []
  },
  {
   "cell_type": "code",
   "execution_count": null,
   "metadata": {},
   "outputs": [],
   "source": []
  },
  {
   "cell_type": "code",
   "execution_count": null,
   "metadata": {},
   "outputs": [],
   "source": []
  },
  {
   "cell_type": "code",
   "execution_count": null,
   "metadata": {},
   "outputs": [],
   "source": []
  },
  {
   "cell_type": "code",
   "execution_count": null,
   "metadata": {},
   "outputs": [],
   "source": []
  },
  {
   "cell_type": "code",
   "execution_count": null,
   "metadata": {},
   "outputs": [],
   "source": []
  },
  {
   "cell_type": "code",
   "execution_count": null,
   "metadata": {},
   "outputs": [],
   "source": []
  }
 ],
 "metadata": {
  "kernelspec": {
   "display_name": "sbcapstone1",
   "language": "python",
   "name": "python3"
  },
  "language_info": {
   "codemirror_mode": {
    "name": "ipython",
    "version": 3
   },
   "file_extension": ".py",
   "mimetype": "text/x-python",
   "name": "python",
   "nbconvert_exporter": "python",
   "pygments_lexer": "ipython3",
   "version": "3.8.16"
  },
  "orig_nbformat": 4,
  "vscode": {
   "interpreter": {
    "hash": "5092fedfa42ddf38922b88be9abd8d2997cd94a0784d38f9f4a9f435735fa6cd"
   }
  }
 },
 "nbformat": 4,
 "nbformat_minor": 2
}
